{
 "cells": [
  {
   "cell_type": "code",
   "execution_count": 1,
   "metadata": {
    "ExecuteTime": {
     "end_time": "2019-09-26T13:35:33.486293Z",
     "start_time": "2019-09-26T13:34:01.795529Z"
    },
    "code_folding": [
     0
    ]
   },
   "outputs": [
    {
     "name": "stderr",
     "output_type": "stream",
     "text": [
      "Using TensorFlow backend.\n"
     ]
    }
   ],
   "source": [
    "# Import Keras and other Deep Learning dependencies\n",
    "from keras.models import Sequential\n",
    "from keras.optimizers import Adam\n",
    "from keras.layers import Conv2D, ZeroPadding2D, Activation, Input, concatenate\n",
    "from keras.models import Model\n",
    "from keras.layers.normalization import BatchNormalization\n",
    "from keras.layers.pooling import MaxPooling2D, AveragePooling2D\n",
    "from keras.layers.merge import Concatenate\n",
    "from keras.layers.core import Lambda, Flatten, Dense\n",
    "from keras.initializers import glorot_uniform\n",
    "from sklearn.preprocessing import LabelBinarizer\n",
    "from keras.optimizers import *\n",
    "from keras.engine.topology import Layer\n",
    "from keras.regularizers import l2\n",
    "import cv2\n",
    "import sys\n",
    "import h5py\n",
    "import numpy as np\n",
    "import pandas as pd\n",
    "import matplotlib.pyplot as pt"
   ]
  },
  {
   "cell_type": "markdown",
   "metadata": {},
   "source": [
    "# Architecture 1"
   ]
  },
  {
   "cell_type": "code",
   "execution_count": 2,
   "metadata": {
    "ExecuteTime": {
     "end_time": "2019-09-26T13:35:33.536207Z",
     "start_time": "2019-09-26T13:35:33.494235Z"
    },
    "code_folding": []
   },
   "outputs": [],
   "source": [
    "def initialize_weights(shape, name=None):\n",
    "    \"\"\"\n",
    "        The paper, http://www.cs.utoronto.ca/~gkoch/files/msc-thesis.pdf\n",
    "        suggests to initialize CNN layer weights with mean as 0.0 and standard deviation of 0.01\n",
    "    \"\"\"\n",
    "    return np.random.normal(loc = 0.0, scale = 1e-2, size = shape)\n",
    "\n",
    "def initialize_bias(shape, name=None):\n",
    "    \"\"\"\n",
    "        The paper, http://www.cs.utoronto.ca/~gkoch/files/msc-thesis.pdf\n",
    "        suggests to initialize CNN layer bias with mean as 0.5 and standard deviation of 0.01\n",
    "    \"\"\"\n",
    "    return np.random.normal(loc = 0.5, scale = 1e-2, size = shape)\n",
    "\n",
    "def get_siamese_model(input_shape, similarity_metric='l1'):\n",
    "    \"\"\"\n",
    "        Model architecture based on the one provided in: http://www.cs.utoronto.ca/~gkoch/files/msc-thesis.pdf\n",
    "    \"\"\"\n",
    "    left_input = Input(input_shape)\n",
    "    right_input = Input(input_shape)\n",
    "    model = Sequential()\n",
    "    model.add(Conv2D(64, (6,6), activation='relu', input_shape=input_shape,\n",
    "                   kernel_initializer=initialize_weights, kernel_regularizer=l2(2e-4)))\n",
    "    model.add(MaxPooling2D())\n",
    "    model.add(Conv2D(128, (6,6), activation='relu',\n",
    "                     kernel_initializer=initialize_weights,\n",
    "                     bias_initializer=initialize_bias, kernel_regularizer=l2(2e-4)))\n",
    "    model.add(MaxPooling2D())\n",
    "    model.add(Conv2D(128, (4,4), activation='relu', kernel_initializer=initialize_weights,\n",
    "                     bias_initializer=initialize_bias, kernel_regularizer=l2(2e-4)))\n",
    "    model.add(MaxPooling2D())\n",
    "    model.add(Conv2D(256, (2,2), activation='relu', kernel_initializer=initialize_weights,\n",
    "                     bias_initializer=initialize_bias, kernel_regularizer=l2(2e-4)))\n",
    "    model.add(Flatten())\n",
    "    model.add(Dense(4096, activation='sigmoid', kernel_initializer=initialize_weights,\n",
    "                    bias_initializer=initialize_bias, kernel_regularizer=l2(1e-3),))\n",
    "    \n",
    "    # Generate the encodings (feature vectors) for the two images\n",
    "    encoded_l = model(left_input)\n",
    "    encoded_r = model(right_input)\n",
    "    \n",
    "    # Add a customized layer to compute the absolute difference between the encodings\n",
    "    if similarity_metric == 'l1':\n",
    "        Similarity_layer = Lambda(lambda tensors:K.abs(tensors[0] - tensors[1]))        \n",
    "    elif siamese_metric == 'l2':\n",
    "        Similarity_layer = Lambda(lambda tensors:K.sqrt(K.square(tensors[0] - tensors[1])))\n",
    "    elif siamese_metric == 'cross': ## TODO\n",
    "        Similarity_layer = Lambda(lambda tensors:K.abs(tensors[0] - tensors[1]))     \n",
    "        \n",
    "    Similarity_distance = Similarity_layer([encoded_l, encoded_r])\n",
    "    \n",
    "    # Add a dense layer with a sigmoid unit to generate the similarity score\n",
    "    prediction = Dense(1,activation='sigmoid',bias_initializer=initialize_bias)(Similarity_distance)\n",
    "    \n",
    "    # Connect the input with the outputs\n",
    "    siamese_net = Model(inputs=[left_input,right_input],outputs=prediction)\n",
    "    model.summary()\n",
    "    return siamese_net"
   ]
  },
  {
   "cell_type": "code",
   "execution_count": null,
   "metadata": {},
   "outputs": [],
   "source": []
  },
  {
   "cell_type": "code",
   "execution_count": 9,
   "metadata": {
    "ExecuteTime": {
     "end_time": "2019-09-26T13:36:54.680737Z",
     "start_time": "2019-09-26T13:36:53.600362Z"
    },
    "scrolled": false
   },
   "outputs": [
    {
     "name": "stdout",
     "output_type": "stream",
     "text": [
      "_________________________________________________________________\n",
      "Layer (type)                 Output Shape              Param #   \n",
      "=================================================================\n",
      "conv2d_5 (Conv2D)            (None, 59, 59, 64)        6976      \n",
      "_________________________________________________________________\n",
      "max_pooling2d_4 (MaxPooling2 (None, 29, 29, 64)        0         \n",
      "_________________________________________________________________\n",
      "conv2d_6 (Conv2D)            (None, 24, 24, 128)       295040    \n",
      "_________________________________________________________________\n",
      "max_pooling2d_5 (MaxPooling2 (None, 12, 12, 128)       0         \n",
      "_________________________________________________________________\n",
      "conv2d_7 (Conv2D)            (None, 9, 9, 128)         262272    \n",
      "_________________________________________________________________\n",
      "max_pooling2d_6 (MaxPooling2 (None, 4, 4, 128)         0         \n",
      "_________________________________________________________________\n",
      "conv2d_8 (Conv2D)            (None, 3, 3, 256)         131328    \n",
      "_________________________________________________________________\n",
      "flatten_2 (Flatten)          (None, 2304)              0         \n",
      "_________________________________________________________________\n",
      "dense_3 (Dense)              (None, 4096)              9441280   \n",
      "=================================================================\n",
      "Total params: 10,136,896\n",
      "Trainable params: 10,136,896\n",
      "Non-trainable params: 0\n",
      "_________________________________________________________________\n",
      "__________________________________________________________________________________________________\n",
      "Layer (type)                    Output Shape         Param #     Connected to                     \n",
      "==================================================================================================\n",
      "input_3 (InputLayer)            (None, 64, 64, 3)    0                                            \n",
      "__________________________________________________________________________________________________\n",
      "input_4 (InputLayer)            (None, 64, 64, 3)    0                                            \n",
      "__________________________________________________________________________________________________\n",
      "sequential_2 (Sequential)       (None, 4096)         10136896    input_3[0][0]                    \n",
      "                                                                 input_4[0][0]                    \n",
      "__________________________________________________________________________________________________\n",
      "lambda_2 (Lambda)               (None, 4096)         0           sequential_2[1][0]               \n",
      "                                                                 sequential_2[2][0]               \n",
      "__________________________________________________________________________________________________\n",
      "dense_4 (Dense)                 (None, 1)            4097        lambda_2[0][0]                   \n",
      "==================================================================================================\n",
      "Total params: 10,140,993\n",
      "Trainable params: 10,140,993\n",
      "Non-trainable params: 0\n",
      "__________________________________________________________________________________________________\n"
     ]
    }
   ],
   "source": [
    "model = get_siamese_model((64, 64, 3))\n",
    "optimizer = Adam(lr = 0.00006)\n",
    "model.compile(loss=\"binary_crossentropy\",optimizer=optimizer)\n",
    "model.summary()"
   ]
  },
  {
   "cell_type": "markdown",
   "metadata": {},
   "source": [
    "# Dataset"
   ]
  },
  {
   "cell_type": "code",
   "execution_count": 79,
   "metadata": {
    "ExecuteTime": {
     "end_time": "2019-09-28T01:46:30.695745Z",
     "start_time": "2019-09-28T01:46:29.146226Z"
    }
   },
   "outputs": [],
   "source": [
    "dataset_path = 'dataset/foods/food41/food_c101_n10099_r64x64x3.h5'\n",
    "f = h5py.File(dataset_path, 'r')\n",
    "test_dataset_path = 'dataset/foods/food41/food_test_c101_n1000_r64x64x3.h5'\n",
    "test_f = h5py.File(dataset_path, 'r')"
   ]
  },
  {
   "cell_type": "code",
   "execution_count": 119,
   "metadata": {
    "ExecuteTime": {
     "end_time": "2019-09-28T02:56:42.321478Z",
     "start_time": "2019-09-28T02:56:42.295492Z"
    }
   },
   "outputs": [],
   "source": [
    "class Siamese_Loader:\n",
    "    def __init__(self, i_images, \n",
    "                 train_path, test_path=None,\n",
    "                 dataset_type = 'foods'):\n",
    "        self.images = []\n",
    "        self.labels = []\n",
    "        self.category_names = []\n",
    "        self.train_path = train_path\n",
    "        self.test_path = test_path\n",
    "        self.n_images = i_images\n",
    "        self.dataset_type = dataset_type\n",
    "        \n",
    "        f = h5py.File(self.train_path, 'r')\n",
    "        category_group_key = list(f.keys())[0]\n",
    "        categoryNames_group_key = list(f.keys())[1]\n",
    "        images_group_key = list(f.keys())[2]\n",
    "        \n",
    "        self.labels = list(f[category_group_key][i_images:])\n",
    "        self.category_names = list(f[categoryNames_group_key])\n",
    "        self.images = list(f[images_group_key][i_images:])\n",
    "    \n",
    "    def _initialize_dict(self):\n",
    "        dictionary = {}\n",
    "        classes = self.category_names\n",
    "        for i in range(0,len(classes)):\n",
    "            dictionary.update({classes[i]:0})\n",
    "        return dictionary\n",
    "\n",
    "    def check_estratos(self):\n",
    "        n_class = self._initialize_dict()\n",
    "        labels = self.labels\n",
    "        classes = self.category_names\n",
    "        for i in range(0,len(labels)):\n",
    "            for tf in range(len(labels[i])):\n",
    "                if labels[i][tf]:\n",
    "                    n_class.update({classes[tf]:n_class[classes[tf]]+1})\n",
    "        return n_class\n",
    "    \n",
    "    def _get_categ_number(self, indice):\n",
    "        return [lb for lb in range(0,len(self.labels[indice])) if self.labels[indice][lb] == True][0]\n",
    "\n",
    "    def get_batch(self, batch_size = 20):\n",
    "        \n",
    "        img_shape = self.images[0].shape\n",
    "        pairs = [np.zeros((batch_size, img_shape[0], img_shape[1], img_shape[2])) for i in range(2)]\n",
    "        targets = []\n",
    "        \n",
    "        for i in range(0,batch_size):\n",
    "            idx_1 = np.random.randint(low=0, high=len(self.images), size=1)[0]\n",
    "            img1 = self.images[idx_1]\n",
    "            categ_img1 = self._get_categ_number(idx_1)\n",
    "            target = 0\n",
    "            if i < np.trunc(batch_size/2):\n",
    "                while True:\n",
    "                    idx_2 = np.random.randint(low=0, high=len(self.images), size=1)[0]\n",
    "                    categ_2 = self._get_categ_number(idx_2)\n",
    "                    if categ_2 == categ_img1:\n",
    "                        img2 = self.images[idx_2]\n",
    "                        categ_img2 = categ_2\n",
    "                        target = 0\n",
    "                        break\n",
    "            else:\n",
    "                while True:\n",
    "                    idx_2 = np.random.randint(low=0, high=len(self.images), size=1)[0]\n",
    "                    categ_2 = self._get_categ_number(idx_2)\n",
    "                    if categ_2 != categ_img1:\n",
    "                        img2 = self.images[idx_2]\n",
    "                        categ_img2 = categ_2\n",
    "                        target = 1\n",
    "                        break\n",
    "            pairs[0][i] = img1\n",
    "            pairs[1][i] = img2\n",
    "            targets.append(target)\n",
    "        return pairs, targets"
   ]
  },
  {
   "cell_type": "code",
   "execution_count": 105,
   "metadata": {
    "ExecuteTime": {
     "end_time": "2019-09-28T02:50:31.069204Z",
     "start_time": "2019-09-28T02:50:30.681349Z"
    }
   },
   "outputs": [],
   "source": [
    "train_datapath='dataset/foods/food41/food_c101_n10099_r64x64x3.h5'\n",
    "loader = Siamese_Loader(train_path=train_datapath,\n",
    "                        i_images=8999)"
   ]
  },
  {
   "cell_type": "code",
   "execution_count": 107,
   "metadata": {
    "ExecuteTime": {
     "end_time": "2019-09-28T02:50:49.723998Z",
     "start_time": "2019-09-28T02:50:49.468092Z"
    }
   },
   "outputs": [],
   "source": [
    "pairs, targets = loader.get_batch()"
   ]
  },
  {
   "cell_type": "code",
   "execution_count": 67,
   "metadata": {
    "ExecuteTime": {
     "end_time": "2019-09-26T15:17:25.048175Z",
     "start_time": "2019-09-26T15:17:25.044174Z"
    },
    "scrolled": true
   },
   "outputs": [],
   "source": [
    "#loader.check_estratos()"
   ]
  },
  {
   "cell_type": "code",
   "execution_count": 118,
   "metadata": {
    "ExecuteTime": {
     "end_time": "2019-09-28T02:53:51.993322Z",
     "start_time": "2019-09-28T02:53:51.787440Z"
    }
   },
   "outputs": [
    {
     "data": {
      "image/png": "[encoded data removed]",
      "text/plain": [
       "<Figure size 432x288 with 1 Axes>"
      ]
     },
     "metadata": {
      "needs_background": "light"
     },
     "output_type": "display_data"
    }
   ],
   "source": [
    "w = pairs[1][16].astype(int)\n",
    "\n",
    "pt.imshow(w)\n",
    "\n",
    "pt.show()"
   ]
  },
  {
   "cell_type": "code",
   "execution_count": null,
   "metadata": {
    "ExecuteTime": {
     "end_time": "2019-09-26T13:35:37.673517Z",
     "start_time": "2019-09-26T13:34:08.993Z"
    }
   },
   "outputs": [],
   "source": [
    "n_class = check_estratos(data_category, data_categoryNames)"
   ]
  },
  {
   "cell_type": "code",
   "execution_count": 32,
   "metadata": {
    "ExecuteTime": {
     "end_time": "2019-09-26T14:11:41.230797Z",
     "start_time": "2019-09-26T14:11:41.225799Z"
    }
   },
   "outputs": [],
   "source": [
    "pairs = [np.zeros((2, 64, 64,3)) for i in range(2)]\n",
    "#pairs#[0]#[0,:,:,:]"
   ]
  },
  {
   "cell_type": "code",
   "execution_count": 56,
   "metadata": {
    "ExecuteTime": {
     "end_time": "2019-09-26T15:00:07.135241Z",
     "start_time": "2019-09-26T15:00:07.130243Z"
    }
   },
   "outputs": [],
   "source": [
    "pairs[0][0] = loader.images[0]"
   ]
  },
  {
   "cell_type": "code",
   "execution_count": 61,
   "metadata": {
    "ExecuteTime": {
     "end_time": "2019-09-26T15:02:08.120625Z",
     "start_time": "2019-09-26T15:02:07.822604Z"
    }
   },
   "outputs": [
    {
     "data": {
      "image/png": "[encoded data removed]",
      "text/plain": [
       "<Figure size 432x288 with 1 Axes>"
      ]
     },
     "metadata": {
      "needs_background": "light"
     },
     "output_type": "display_data"
    }
   ],
   "source": [
    "w = pairs[0][0].astype(int)\n",
    "\n",
    "pt.imshow(w)\n",
    "\n",
    "pt.show()"
   ]
  },
  {
   "cell_type": "code",
   "execution_count": 66,
   "metadata": {
    "ExecuteTime": {
     "end_time": "2019-09-26T15:12:14.784600Z",
     "start_time": "2019-09-26T15:12:14.778604Z"
    }
   },
   "outputs": [
    {
     "data": {
      "text/plain": [
       "(64, 64, 3)"
      ]
     },
     "execution_count": 66,
     "metadata": {},
     "output_type": "execute_result"
    }
   ],
   "source": [
    "loader.images[0].shape"
   ]
  },
  {
   "cell_type": "code",
   "execution_count": 77,
   "metadata": {
    "ExecuteTime": {
     "end_time": "2019-09-26T15:34:05.062402Z",
     "start_time": "2019-09-26T15:34:05.055422Z"
    }
   },
   "outputs": [],
   "source": [
    "loader.images[0]\n",
    "loader.labels[19]\n",
    "i = [lb for lb in range(0,len(loader.labels[19])) if loader.labels[19][lb] == True][0]"
   ]
  },
  {
   "cell_type": "code",
   "execution_count": 78,
   "metadata": {
    "ExecuteTime": {
     "end_time": "2019-09-26T15:34:05.417808Z",
     "start_time": "2019-09-26T15:34:05.410812Z"
    }
   },
   "outputs": [
    {
     "data": {
      "text/plain": [
       "18"
      ]
     },
     "execution_count": 78,
     "metadata": {},
     "output_type": "execute_result"
    }
   ],
   "source": [
    "i"
   ]
  },
  {
   "cell_type": "code",
   "execution_count": 74,
   "metadata": {
    "ExecuteTime": {
     "end_time": "2019-09-26T15:33:30.511431Z",
     "start_time": "2019-09-26T15:33:30.505434Z"
    }
   },
   "outputs": [
    {
     "data": {
      "text/plain": [
       "array([False, False, False, False, False, False, False, False, False,\n",
       "       False, False, False, False, False, False, False, False, False,\n",
       "        True, False, False, False, False, False, False, False, False,\n",
       "       False, False, False, False, False, False, False, False, False,\n",
       "       False, False, False, False, False, False, False, False, False,\n",
       "       False, False, False, False, False, False, False, False, False,\n",
       "       False, False, False, False, False, False, False, False, False,\n",
       "       False, False, False, False, False, False, False, False, False,\n",
       "       False, False, False, False, False, False, False, False, False,\n",
       "       False, False, False, False, False, False, False, False, False,\n",
       "       False, False, False, False, False, False, False, False, False,\n",
       "       False, False])"
      ]
     },
     "execution_count": 74,
     "metadata": {},
     "output_type": "execute_result"
    }
   ],
   "source": [
    "loader.labels[19]"
   ]
  },
  {
   "cell_type": "code",
   "execution_count": null,
   "metadata": {},
   "outputs": [],
   "source": []
  }
 ],
 "metadata": {
  "kernelspec": {
   "display_name": "Python 3",
   "language": "python",
   "name": "python3"
  },
  "language_info": {
   "codemirror_mode": {
    "name": "ipython",
    "version": 3
   },
   "file_extension": ".py",
   "mimetype": "text/x-python",
   "name": "python",
   "nbconvert_exporter": "python",
   "pygments_lexer": "ipython3",
   "version": "3.7.3"
  },
  "latex_envs": {
   "LaTeX_envs_menu_present": true,
   "autoclose": false,
   "autocomplete": true,
   "bibliofile": "biblio.bib",
   "cite_by": "apalike",
   "current_citInitial": 1,
   "eqLabelWithNumbers": true,
   "eqNumInitial": 1,
   "hotkeys": {
    "equation": "Ctrl-E",
    "itemize": "Ctrl-I"
   },
   "labels_anchors": false,
   "latex_user_defs": false,
   "report_style_numbering": false,
   "user_envs_cfg": false
  },
  "varInspector": {
   "cols": {
    "lenName": 16,
    "lenType": 16,
    "lenVar": 40
   },
   "kernels_config": {
    "python": {
     "delete_cmd_postfix": "",
     "delete_cmd_prefix": "del ",
     "library": "var_list.py",
     "varRefreshCmd": "print(var_dic_list())"
    },
    "r": {
     "delete_cmd_postfix": ") ",
     "delete_cmd_prefix": "rm(",
     "library": "var_list.r",
     "varRefreshCmd": "cat(var_dic_list()) "
    }
   },
   "types_to_exclude": [
    "module",
    "function",
    "builtin_function_or_method",
    "instance",
    "_Feature"
   ],
   "window_display": false
  }
 },
 "nbformat": 4,
 "nbformat_minor": 2
}
