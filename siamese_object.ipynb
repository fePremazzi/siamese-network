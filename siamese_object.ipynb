{
 "cells": [
  {
   "cell_type": "code",
   "execution_count": 1,
   "metadata": {
    "ExecuteTime": {
     "end_time": "2019-09-25T14:07:07.153873Z",
     "start_time": "2019-09-25T14:05:15.340520Z"
    },
    "code_folding": []
   },
   "outputs": [
    {
     "name": "stderr",
     "output_type": "stream",
     "text": [
      "Using TensorFlow backend.\n"
     ]
    }
   ],
   "source": [
    "# Import Keras and other Deep Learning dependencies\n",
    "from keras.models import Sequential\n",
    "from keras.optimizers import Adam\n",
    "from keras.layers import Conv2D, ZeroPadding2D, Activation, Input, concatenate\n",
    "from keras.models import Model\n",
    "from keras.layers.normalization import BatchNormalization\n",
    "from keras.layers.pooling import MaxPooling2D, AveragePooling2D\n",
    "from keras.layers.merge import Concatenate\n",
    "from keras.layers.core import Lambda, Flatten, Dense\n",
    "from keras.initializers import glorot_uniform\n",
    "from sklearn.preprocessing import LabelBinarizer\n",
    "from keras.optimizers import *\n",
    "from keras.engine.topology import Layer\n",
    "from keras.regularizers import l2\n",
    "import cv2\n",
    "import sys\n",
    "import h5py\n",
    "import numpy as np\n",
    "import pandas as pd\n",
    "import matplotlib.pyplot as pt"
   ]
  },
  {
   "cell_type": "markdown",
   "metadata": {},
   "source": [
    "# Architecture 1"
   ]
  },
  {
   "cell_type": "code",
   "execution_count": 2,
   "metadata": {
    "ExecuteTime": {
     "end_time": "2019-09-25T14:08:14.212916Z",
     "start_time": "2019-09-25T14:08:14.186933Z"
    },
    "code_folding": []
   },
   "outputs": [],
   "source": [
    "def initialize_weights(shape, name=None):\n",
    "    \"\"\"\n",
    "        The paper, http://www.cs.utoronto.ca/~gkoch/files/msc-thesis.pdf\n",
    "        suggests to initialize CNN layer weights with mean as 0.0 and standard deviation of 0.01\n",
    "    \"\"\"\n",
    "    return np.random.normal(loc = 0.0, scale = 1e-2, size = shape)\n",
    "\n",
    "def initialize_bias(shape, name=None):\n",
    "    \"\"\"\n",
    "        The paper, http://www.cs.utoronto.ca/~gkoch/files/msc-thesis.pdf\n",
    "        suggests to initialize CNN layer bias with mean as 0.5 and standard deviation of 0.01\n",
    "    \"\"\"\n",
    "    return np.random.normal(loc = 0.5, scale = 1e-2, size = shape)\n",
    "\n",
    "def get_siamese_model(input_shape, similarity_metric='l1'):\n",
    "    \"\"\"\n",
    "        Model architecture based on the one provided in: http://www.cs.utoronto.ca/~gkoch/files/msc-thesis.pdf\n",
    "    \"\"\"\n",
    "    left_input = Input(input_shape)\n",
    "    right_input = Input(input_shape)\n",
    "    model = Sequential()\n",
    "    model.add(Conv2D(64, (6,6), activation='relu', input_shape=input_shape,\n",
    "                   kernel_initializer=initialize_weights, kernel_regularizer=l2(2e-4)))\n",
    "    model.add(MaxPooling2D())\n",
    "    model.add(Conv2D(128, (6,6), activation='relu',\n",
    "                     kernel_initializer=initialize_weights,\n",
    "                     bias_initializer=initialize_bias, kernel_regularizer=l2(2e-4)))\n",
    "    model.add(MaxPooling2D())\n",
    "    model.add(Conv2D(128, (4,4), activation='relu', kernel_initializer=initialize_weights,\n",
    "                     bias_initializer=initialize_bias, kernel_regularizer=l2(2e-4)))\n",
    "    model.add(MaxPooling2D())\n",
    "    model.add(Conv2D(256, (2,2), activation='relu', kernel_initializer=initialize_weights,\n",
    "                     bias_initializer=initialize_bias, kernel_regularizer=l2(2e-4)))\n",
    "    model.add(Flatten())\n",
    "    model.add(Dense(4096, activation='sigmoid', kernel_initializer=initialize_weights,\n",
    "                    bias_initializer=initialize_bias, kernel_regularizer=l2(1e-3),))\n",
    "    \n",
    "    # Generate the encodings (feature vectors) for the two images\n",
    "    encoded_l = model(left_input)\n",
    "    encoded_r = model(right_input)\n",
    "    \n",
    "    # Add a customized layer to compute the absolute difference between the encodings\n",
    "    if similarity_metric == 'l1':\n",
    "        Similarity_layer = Lambda(lambda tensors:K.abs(tensors[0] - tensors[1]))        \n",
    "    elif siamese_metric == 'l2':\n",
    "        Similarity_layer = Lambda(lambda tensors:K.sqrt(K.square(tensors[0] - tensors[1])))\n",
    "    elif siamese_metric == 'cross': ## TODO\n",
    "        Similarity_layer = Lambda(lambda tensors:K.abs(tensors[0] - tensors[1]))     \n",
    "        \n",
    "    Similarity_distance = Similarity_layer([encoded_l, encoded_r])\n",
    "    \n",
    "    # Add a dense layer with a sigmoid unit to generate the similarity score\n",
    "    prediction = Dense(1,activation='sigmoid',bias_initializer=initialize_bias)(Similarity_distance)\n",
    "    \n",
    "    # Connect the input with the outputs\n",
    "    siamese_net = Model(inputs=[left_input,right_input],outputs=prediction)\n",
    "    model.summary()\n",
    "    return siamese_net"
   ]
  },
  {
   "cell_type": "code",
   "execution_count": null,
   "metadata": {},
   "outputs": [],
   "source": []
  },
  {
   "cell_type": "code",
   "execution_count": 4,
   "metadata": {
    "ExecuteTime": {
     "end_time": "2019-09-25T14:08:22.192468Z",
     "start_time": "2019-09-25T14:08:20.804269Z"
    },
    "scrolled": false
   },
   "outputs": [
    {
     "name": "stdout",
     "output_type": "stream",
     "text": [
      "_________________________________________________________________\n",
      "Layer (type)                 Output Shape              Param #   \n",
      "=================================================================\n",
      "conv2d_5 (Conv2D)            (None, 59, 59, 64)        6976      \n",
      "_________________________________________________________________\n",
      "max_pooling2d_4 (MaxPooling2 (None, 29, 29, 64)        0         \n",
      "_________________________________________________________________\n",
      "conv2d_6 (Conv2D)            (None, 24, 24, 128)       295040    \n",
      "_________________________________________________________________\n",
      "max_pooling2d_5 (MaxPooling2 (None, 12, 12, 128)       0         \n",
      "_________________________________________________________________\n",
      "conv2d_7 (Conv2D)            (None, 9, 9, 128)         262272    \n",
      "_________________________________________________________________\n",
      "max_pooling2d_6 (MaxPooling2 (None, 4, 4, 128)         0         \n",
      "_________________________________________________________________\n",
      "conv2d_8 (Conv2D)            (None, 3, 3, 256)         131328    \n",
      "_________________________________________________________________\n",
      "flatten_2 (Flatten)          (None, 2304)              0         \n",
      "_________________________________________________________________\n",
      "dense_3 (Dense)              (None, 4096)              9441280   \n",
      "=================================================================\n",
      "Total params: 10,136,896\n",
      "Trainable params: 10,136,896\n",
      "Non-trainable params: 0\n",
      "_________________________________________________________________\n",
      "__________________________________________________________________________________________________\n",
      "Layer (type)                    Output Shape         Param #     Connected to                     \n",
      "==================================================================================================\n",
      "input_3 (InputLayer)            (None, 64, 64, 3)    0                                            \n",
      "__________________________________________________________________________________________________\n",
      "input_4 (InputLayer)            (None, 64, 64, 3)    0                                            \n",
      "__________________________________________________________________________________________________\n",
      "sequential_2 (Sequential)       (None, 4096)         10136896    input_3[0][0]                    \n",
      "                                                                 input_4[0][0]                    \n",
      "__________________________________________________________________________________________________\n",
      "lambda_2 (Lambda)               (None, 4096)         0           sequential_2[1][0]               \n",
      "                                                                 sequential_2[2][0]               \n",
      "__________________________________________________________________________________________________\n",
      "dense_4 (Dense)                 (None, 1)            4097        lambda_2[0][0]                   \n",
      "==================================================================================================\n",
      "Total params: 10,140,993\n",
      "Trainable params: 10,140,993\n",
      "Non-trainable params: 0\n",
      "__________________________________________________________________________________________________\n"
     ]
    }
   ],
   "source": [
    "model = get_siamese_model((64, 64, 3))\n",
    "optimizer = Adam(lr = 0.00006)\n",
    "model.compile(loss=\"binary_crossentropy\",optimizer=optimizer)\n",
    "model.summary()"
   ]
  },
  {
   "cell_type": "markdown",
   "metadata": {},
   "source": [
    "# Dataset"
   ]
  },
  {
   "cell_type": "code",
   "execution_count": 5,
   "metadata": {
    "ExecuteTime": {
     "end_time": "2019-09-25T14:08:24.812582Z",
     "start_time": "2019-09-25T14:08:24.559727Z"
    }
   },
   "outputs": [],
   "source": [
    "dataset_path = 'dataset/foods/food41/food_c101_n10099_r64x64x3.h5'\n",
    "f = h5py.File(dataset_path, 'r')\n",
    "test_dataset_path = 'dataset/foods/food41/food_test_c101_n1000_r64x64x3.h5'\n",
    "test_f = h5py.File(dataset_path, 'r')"
   ]
  },
  {
   "cell_type": "code",
   "execution_count": 6,
   "metadata": {
    "ExecuteTime": {
     "end_time": "2019-09-25T14:08:25.618117Z",
     "start_time": "2019-09-25T14:08:25.503183Z"
    }
   },
   "outputs": [],
   "source": [
    "class Siamese_Loader:\n",
    "    def __init__(self, i_images, train_path, test_path=None):\n",
    "        self.images = []\n",
    "        self.labels = []\n",
    "        self.category_names = []\n",
    "        self.train_path = train_path\n",
    "        self.test_path = test_path\n",
    "        self.n_images = i_images\n",
    "        \n",
    "        f = h5py.File(self.train_path, 'r')\n",
    "        category_group_key = list(f.keys())[0]\n",
    "        categoryNames_group_key = list(f.keys())[1]\n",
    "        images_group_key = list(f.keys())[2]\n",
    "        \n",
    "        self.labels = list(f[category_group_key][i_images:])\n",
    "        self.category_names = list(f[categoryNames_group_key])\n",
    "        self.images = list(f[images_group_key][i_images:])\n",
    "    \n",
    "    def _initialize_dict(self):\n",
    "        dictionary = {}\n",
    "        classes = self.category_names\n",
    "        for i in range(0,len(classes)):\n",
    "            dictionary.update({classes[i]:0})\n",
    "        return dictionary\n",
    "\n",
    "    def check_estratos(self):\n",
    "        n_class = self._initialize_dict()\n",
    "        labels = self.labels\n",
    "        classes = self.category_names\n",
    "        for i in range(0,len(labels)):\n",
    "            for tf in range(len(labels[i])):\n",
    "                if labels[i][tf]:\n",
    "                    n_class.update({classes[tf]:n_class[classes[tf]]+1})\n",
    "        return n_class\n",
    "    \n",
    "    def get_batch(self, batch_size = 20):\n",
    "        pass\n",
    "        "
   ]
  },
  {
   "cell_type": "code",
   "execution_count": 7,
   "metadata": {
    "ExecuteTime": {
     "end_time": "2019-09-25T14:08:27.364906Z",
     "start_time": "2019-09-25T14:08:26.525390Z"
    }
   },
   "outputs": [],
   "source": [
    "train_datapath='dataset/foods/food41/food_c101_n10099_r64x64x3.h5'\n",
    "loader = Siamese_Loader(train_path=train_datapath,\n",
    "                        i_images=8999)"
   ]
  },
  {
   "cell_type": "code",
   "execution_count": 8,
   "metadata": {
    "ExecuteTime": {
     "end_time": "2019-09-25T14:08:30.051361Z",
     "start_time": "2019-09-25T14:08:30.019380Z"
    },
    "scrolled": true
   },
   "outputs": [
    {
     "data": {
      "text/plain": [
       "{b'apple_pie': 15,\n",
       " b'baby_back_ribs': 8,\n",
       " b'baklava': 3,\n",
       " b'beef_carpaccio': 12,\n",
       " b'beef_tartare': 17,\n",
       " b'beet_salad': 12,\n",
       " b'beignets': 12,\n",
       " b'bibimbap': 12,\n",
       " b'bread_pudding': 8,\n",
       " b'breakfast_burrito': 11,\n",
       " b'bruschetta': 17,\n",
       " b'caesar_salad': 7,\n",
       " b'cannoli': 5,\n",
       " b'caprese_salad': 14,\n",
       " b'carrot_cake': 9,\n",
       " b'ceviche': 10,\n",
       " b'cheese_plate': 16,\n",
       " b'cheesecake': 8,\n",
       " b'chicken_curry': 20,\n",
       " b'chicken_quesadilla': 5,\n",
       " b'chicken_wings': 10,\n",
       " b'chocolate_cake': 15,\n",
       " b'chocolate_mousse': 12,\n",
       " b'churros': 11,\n",
       " b'clam_chowder': 9,\n",
       " b'club_sandwich': 11,\n",
       " b'crab_cakes': 11,\n",
       " b'creme_brulee': 5,\n",
       " b'croque_madame': 17,\n",
       " b'cup_cakes': 12,\n",
       " b'deviled_eggs': 5,\n",
       " b'donuts': 15,\n",
       " b'dumplings': 7,\n",
       " b'edamame': 11,\n",
       " b'eggs_benedict': 18,\n",
       " b'escargots': 9,\n",
       " b'falafel': 12,\n",
       " b'filet_mignon': 1,\n",
       " b'fish_and_chips': 18,\n",
       " b'foie_gras': 13,\n",
       " b'french_fries': 8,\n",
       " b'french_onion_soup': 15,\n",
       " b'french_toast': 4,\n",
       " b'fried_calamari': 10,\n",
       " b'fried_rice': 17,\n",
       " b'frozen_yogurt': 13,\n",
       " b'garlic_bread': 9,\n",
       " b'gnocchi': 15,\n",
       " b'greek_salad': 13,\n",
       " b'grilled_cheese_sandwich': 14,\n",
       " b'grilled_salmon': 10,\n",
       " b'guacamole': 6,\n",
       " b'gyoza': 9,\n",
       " b'hamburger': 8,\n",
       " b'hot_and_sour_soup': 9,\n",
       " b'hot_dog': 8,\n",
       " b'huevos_rancheros': 12,\n",
       " b'hummus': 12,\n",
       " b'ice_cream': 16,\n",
       " b'lasagna': 12,\n",
       " b'lobster_bisque': 13,\n",
       " b'lobster_roll_sandwich': 10,\n",
       " b'macaroni_and_cheese': 8,\n",
       " b'macarons': 8,\n",
       " b'miso_soup': 13,\n",
       " b'mussels': 5,\n",
       " b'nachos': 9,\n",
       " b'omelette': 12,\n",
       " b'onion_rings': 15,\n",
       " b'oysters': 13,\n",
       " b'pad_thai': 11,\n",
       " b'paella': 17,\n",
       " b'pancakes': 11,\n",
       " b'panna_cotta': 16,\n",
       " b'peking_duck': 10,\n",
       " b'pho': 12,\n",
       " b'pizza': 8,\n",
       " b'pork_chop': 9,\n",
       " b'poutine': 10,\n",
       " b'prime_rib': 12,\n",
       " b'pulled_pork_sandwich': 11,\n",
       " b'ramen': 12,\n",
       " b'ravioli': 7,\n",
       " b'red_velvet_cake': 12,\n",
       " b'risotto': 13,\n",
       " b'samosa': 11,\n",
       " b'sashimi': 8,\n",
       " b'scallops': 9,\n",
       " b'seaweed_salad': 6,\n",
       " b'shrimp_and_grits': 5,\n",
       " b'spaghetti_bolognese': 16,\n",
       " b'spaghetti_carbonara': 11,\n",
       " b'spring_rolls': 9,\n",
       " b'steak': 15,\n",
       " b'strawberry_shortcake': 6,\n",
       " b'sushi': 6,\n",
       " b'tacos': 11,\n",
       " b'takoyaki': 14,\n",
       " b'tiramisu': 10,\n",
       " b'tuna_tartare': 10,\n",
       " b'waffles': 13}"
      ]
     },
     "execution_count": 8,
     "metadata": {},
     "output_type": "execute_result"
    }
   ],
   "source": [
    "loader.check_estratos()"
   ]
  },
  {
   "cell_type": "code",
   "execution_count": 14,
   "metadata": {
    "ExecuteTime": {
     "end_time": "2019-09-22T20:57:47.530396Z",
     "start_time": "2019-09-22T20:57:47.522399Z"
    },
    "scrolled": true
   },
   "outputs": [
    {
     "data": {
      "text/plain": [
       "b'apple_pie'"
      ]
     },
     "execution_count": 14,
     "metadata": {},
     "output_type": "execute_result"
    }
   ],
   "source": [
    "data_categoryNames[0]"
   ]
  },
  {
   "cell_type": "code",
   "execution_count": 17,
   "metadata": {
    "ExecuteTime": {
     "end_time": "2019-09-22T20:58:08.986494Z",
     "start_time": "2019-09-22T20:58:08.788593Z"
    }
   },
   "outputs": [
    {
     "data": {
      "image/png": "[encoded data removed]",
      "text/plain": [
       "<Figure size 432x288 with 1 Axes>"
      ]
     },
     "metadata": {
      "needs_background": "light"
     },
     "output_type": "display_data"
    }
   ],
   "source": [
    "w = data_images[2]\n",
    "\n",
    "pt.imshow(w)\n",
    "\n",
    "pt.show()"
   ]
  },
  {
   "cell_type": "code",
   "execution_count": 51,
   "metadata": {
    "ExecuteTime": {
     "end_time": "2019-09-22T22:00:26.413995Z",
     "start_time": "2019-09-22T22:00:26.395008Z"
    }
   },
   "outputs": [],
   "source": [
    "n_class = check_estratos(data_category, data_categoryNames)"
   ]
  },
  {
   "cell_type": "code",
   "execution_count": 98,
   "metadata": {
    "ExecuteTime": {
     "end_time": "2019-09-23T01:01:48.766279Z",
     "start_time": "2019-09-23T01:01:48.759285Z"
    }
   },
   "outputs": [
    {
     "data": {
      "text/plain": [
       "array([[[[0.],\n",
       "         [0.]],\n",
       "\n",
       "        [[0.],\n",
       "         [0.]]],\n",
       "\n",
       "\n",
       "       [[[0.],\n",
       "         [0.]],\n",
       "\n",
       "        [[0.],\n",
       "         [0.]]]])"
      ]
     },
     "execution_count": 98,
     "metadata": {},
     "output_type": "execute_result"
    }
   ],
   "source": [
    "pairs = [np.zeros((2, 2, 2,1)) for i in range(2)]\n",
    "pairs[0]#[0,:,:,:]"
   ]
  },
  {
   "cell_type": "code",
   "execution_count": 100,
   "metadata": {
    "ExecuteTime": {
     "end_time": "2019-09-23T01:09:00.819490Z",
     "start_time": "2019-09-23T01:09:00.814495Z"
    }
   },
   "outputs": [
    {
     "data": {
      "text/plain": [
       "array([0., 0.])"
      ]
     },
     "execution_count": 100,
     "metadata": {},
     "output_type": "execute_result"
    }
   ],
   "source": [
    "np.zeros((2))"
   ]
  },
  {
   "cell_type": "code",
   "execution_count": null,
   "metadata": {},
   "outputs": [],
   "source": []
  }
 ],
 "metadata": {
  "kernelspec": {
   "display_name": "Python 3",
   "language": "python",
   "name": "python3"
  },
  "language_info": {
   "codemirror_mode": {
    "name": "ipython",
    "version": 3
   },
   "file_extension": ".py",
   "mimetype": "text/x-python",
   "name": "python",
   "nbconvert_exporter": "python",
   "pygments_lexer": "ipython3",
   "version": "3.7.3"
  },
  "latex_envs": {
   "LaTeX_envs_menu_present": true,
   "autoclose": false,
   "autocomplete": true,
   "bibliofile": "biblio.bib",
   "cite_by": "apalike",
   "current_citInitial": 1,
   "eqLabelWithNumbers": true,
   "eqNumInitial": 1,
   "hotkeys": {
    "equation": "Ctrl-E",
    "itemize": "Ctrl-I"
   },
   "labels_anchors": false,
   "latex_user_defs": false,
   "report_style_numbering": false,
   "user_envs_cfg": false
  },
  "varInspector": {
   "cols": {
    "lenName": 16,
    "lenType": 16,
    "lenVar": 40
   },
   "kernels_config": {
    "python": {
     "delete_cmd_postfix": "",
     "delete_cmd_prefix": "del ",
     "library": "var_list.py",
     "varRefreshCmd": "print(var_dic_list())"
    },
    "r": {
     "delete_cmd_postfix": ") ",
     "delete_cmd_prefix": "rm(",
     "library": "var_list.r",
     "varRefreshCmd": "cat(var_dic_list()) "
    }
   },
   "types_to_exclude": [
    "module",
    "function",
    "builtin_function_or_method",
    "instance",
    "_Feature"
   ],
   "window_display": false
  }
 },
 "nbformat": 4,
 "nbformat_minor": 2
}
