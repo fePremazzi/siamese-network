{
 "cells": [
  {
   "cell_type": "code",
   "execution_count": 171,
   "metadata": {
    "ExecuteTime": {
     "end_time": "2019-11-06T14:06:48.215363Z",
     "start_time": "2019-11-06T14:06:48.109391Z"
    }
   },
   "outputs": [],
   "source": [
    "%matplotlib inline\n",
    "import tensorflow as tf\n",
    "import numpy as np\n",
    "import matplotlib.pyplot as plt\n",
    "\n",
    "from dataset import MNISTDataset\n",
    "from model import *\n",
    "\n",
    "from scipy.spatial.distance import cdist\n",
    "from matplotlib import gridspec\n",
    "from tqdm import tqdm_notebook"
   ]
  },
  {
   "cell_type": "code",
   "execution_count": 253,
   "metadata": {
    "ExecuteTime": {
     "end_time": "2019-11-06T20:52:49.604299Z",
     "start_time": "2019-11-06T20:52:49.420407Z"
    }
   },
   "outputs": [
    {
     "name": "stdout",
     "output_type": "stream",
     "text": [
      "Training alphabets: \n",
      "\n",
      "['Japanese_(hiragana)']\n",
      "Validation alphabets:\n",
      "\n",
      "['Japanese_(hiragana)']\n",
      "===Loading ひらがな　Dataset===\n",
      "Images train : (780, 105, 105, 1)\n",
      "Labels train : (780, 1)\n",
      "Images test  : (255, 105, 105, 1)\n",
      "Labels test  : (0,)\n",
      "Unique label : [ 0  1  2  3  4  5  6  7  8  9 10 11 12 13 14 15 16 17 18 19 20 21 22 23\n",
      " 24 25 26 27 28 29 30 31 32 33 34 35 36 37 38 39 40 41 42 43 44 45 46 47\n",
      " 48 49 50 51]\n"
     ]
    }
   ],
   "source": [
    "dataset = MNISTDataset()\n",
    "train_images = dataset.images_train\n",
    "test_images = dataset.images_test\n",
    "train_labels = dataset.labels_train\n",
    "unique_label = len(dataset.unique_train_label)\n",
    "len_test = len(test_images)\n",
    "len_train = len(train_images)"
   ]
  },
  {
   "cell_type": "code",
   "execution_count": 254,
   "metadata": {
    "ExecuteTime": {
     "end_time": "2019-11-06T20:52:54.713515Z",
     "start_time": "2019-11-06T20:52:54.665542Z"
    }
   },
   "outputs": [
    {
     "data": {
      "text/plain": [
       "52"
      ]
     },
     "execution_count": 254,
     "metadata": {},
     "output_type": "execute_result"
    }
   ],
   "source": [
    "unique_label"
   ]
  },
  {
   "cell_type": "code",
   "execution_count": 255,
   "metadata": {
    "ExecuteTime": {
     "end_time": "2019-11-06T20:52:55.138716Z",
     "start_time": "2019-11-06T20:52:54.909719Z"
    }
   },
   "outputs": [],
   "source": [
    "right, left, label = dataset.get_siamese_batch(100)"
   ]
  },
  {
   "cell_type": "code",
   "execution_count": 4,
   "metadata": {
    "ExecuteTime": {
     "end_time": "2019-11-04T13:45:05.460134Z",
     "start_time": "2019-11-04T13:45:05.448139Z"
    }
   },
   "outputs": [
    {
     "data": {
      "text/plain": [
       "(array([0, 1]), array([48, 52], dtype=int64))"
      ]
     },
     "execution_count": 4,
     "metadata": {},
     "output_type": "execute_result"
    }
   ],
   "source": [
    "np.unique(label, return_counts=True)"
   ]
  },
  {
   "cell_type": "code",
   "execution_count": 222,
   "metadata": {
    "ExecuteTime": {
     "end_time": "2019-11-06T19:20:35.291224Z",
     "start_time": "2019-11-06T19:20:35.280230Z"
    }
   },
   "outputs": [],
   "source": [
    "#helper function to plot image\n",
    "def show_image(idxs, data, save=False, img_name='default.jpeg'):\n",
    "    if type(idxs) != np.ndarray:\n",
    "        idxs = np.array([idxs])\n",
    "    fig = plt.figure()\n",
    "    gs = gridspec.GridSpec(1,len(idxs))\n",
    "    for i in range(len(idxs)):\n",
    "        ax = fig.add_subplot(gs[0,i])\n",
    "        ax.imshow(data[idxs[i],:,:,0], cmap='gray')\n",
    "        ax.axis('off')\n",
    "    if save:\n",
    "        plt.savefig(img_name)\n",
    "    plt.show()\n",
    "    "
   ]
  },
  {
   "cell_type": "markdown",
   "metadata": {},
   "source": [
    "## Create the siamese net feature extraction model"
   ]
  },
  {
   "cell_type": "code",
   "execution_count": 6,
   "metadata": {
    "ExecuteTime": {
     "end_time": "2019-11-04T13:45:06.226705Z",
     "start_time": "2019-11-04T13:45:05.486119Z"
    }
   },
   "outputs": [
    {
     "name": "stderr",
     "output_type": "stream",
     "text": [
      "WARNING: Logging before flag parsing goes to stderr.\n",
      "W1104 10:45:05.496124 24292 deprecation_wrapper.py:119] From C:\\Users\\fePremazziNB\\Documents\\ITA - Itau\\01 - TCC_eu\\siamese_network\\model.py:13: The name tf.variable_scope is deprecated. Please use tf.compat.v1.variable_scope instead.\n",
      "\n",
      "W1104 10:45:06.000820 24292 deprecation.py:323] From C:\\ProgramData\\Anaconda3\\lib\\site-packages\\tensorflow\\contrib\\layers\\python\\layers\\layers.py:1634: flatten (from tensorflow.python.layers.core) is deprecated and will be removed in a future version.\n",
      "Instructions for updating:\n",
      "Use keras.layers.flatten instead.\n"
     ]
    }
   ],
   "source": [
    "img_placeholder = tf.placeholder(tf.float32, [None, 105, 105, 1], name='img')\n",
    "net = mnist_model(img_placeholder, reuse=False)"
   ]
  },
  {
   "cell_type": "markdown",
   "metadata": {},
   "source": [
    "## Restore from checkpoint and calc the features from all of train data"
   ]
  },
  {
   "cell_type": "code",
   "execution_count": 211,
   "metadata": {
    "ExecuteTime": {
     "end_time": "2019-11-06T14:26:06.915803Z",
     "start_time": "2019-11-06T14:26:06.911804Z"
    }
   },
   "outputs": [],
   "source": [
    "model_path = \"model/x100-2000/model.ckpt\""
   ]
  },
  {
   "cell_type": "code",
   "execution_count": 212,
   "metadata": {
    "ExecuteTime": {
     "end_time": "2019-11-06T14:26:15.693424Z",
     "start_time": "2019-11-06T14:26:07.661003Z"
    }
   },
   "outputs": [],
   "source": [
    "saver = tf.train.Saver()\n",
    "with tf.Session() as sess:\n",
    "    sess.run(tf.global_variables_initializer())\n",
    "    ckpt = tf.train.get_checkpoint_state(\"model\")\n",
    "    saver.restore(sess, model_path)\n",
    "    \n",
    "    train_feat = sess.run(net, feed_dict={img_placeholder:train_images})                "
   ]
  },
  {
   "cell_type": "markdown",
   "metadata": {},
   "source": [
    "## Searching for similar test images from trainset based on siamese feature"
   ]
  },
  {
   "cell_type": "code",
   "execution_count": 142,
   "metadata": {
    "ExecuteTime": {
     "end_time": "2019-11-06T03:42:55.072797Z",
     "start_time": "2019-11-06T03:42:55.045813Z"
    }
   },
   "outputs": [
    {
     "data": {
      "text/plain": [
       "255"
      ]
     },
     "execution_count": 142,
     "metadata": {},
     "output_type": "execute_result"
    }
   ],
   "source": [
    "len(test_images)"
   ]
  },
  {
   "cell_type": "code",
   "execution_count": 105,
   "metadata": {
    "ExecuteTime": {
     "end_time": "2019-11-05T15:04:08.142316Z",
     "start_time": "2019-11-05T15:04:08.138315Z"
    }
   },
   "outputs": [],
   "source": [
    "#generate new random test image\n",
    "idx = np.random.randint(0, len_test)\n",
    "im = test_images[3]"
   ]
  },
  {
   "cell_type": "code",
   "execution_count": 124,
   "metadata": {
    "ExecuteTime": {
     "end_time": "2019-11-05T18:22:18.480407Z",
     "start_time": "2019-11-05T18:22:18.476424Z"
    },
    "code_folding": [
     0
    ]
   },
   "outputs": [],
   "source": [
    "# Treino\n",
    "# 0-14 -> a\n",
    "# 15-29 -> a\n",
    "# 30-44 -> a\n",
    "# 0-14 -> a\n",
    "# 0-14 -> a\n",
    "# 0-14 -> a\n",
    "# 0-14 -> a\n",
    "# 0-14 -> a\n",
    "# 0-14 -> a\n",
    "# 0-14 -> a\n",
    "# 0-14 -> a\n",
    "# 0-14 -> a\n",
    "# 0-14 -> a\n",
    "# 0-14 -> a\n",
    "# 0-14 -> a\n",
    "# 0-14 -> a\n",
    "# 0-14 -> a\n",
    "# 0-14 -> a\n",
    "# 0-14 -> a\n",
    "# 0-14 -> a\n",
    "# 0-14 -> a\n",
    "# 0-14 -> a\n",
    "# 0-14 -> a\n",
    "# 0-14 -> a\n",
    "# 0-14 -> a\n",
    "# 0-14 -> a\n",
    "# 0-14 -> a\n",
    "# 0-14 -> a\n",
    "# 0-14 -> a\n",
    "# 0-14 -> a\n",
    "# 0-14 -> a\n",
    "# 0-14 -> a\n",
    "# 0-14 -> a\n",
    "# 0-14 -> a\n",
    "# 0-14 -> a\n",
    "# 0-14 -> a\n",
    "# 0-14 -> a\n",
    "# 0-14 -> a\n",
    "# 0-14 -> a\n",
    "# 0-14 -> a\n",
    "# 0-14 -> a\n",
    "# 0-14 -> a\n",
    "# 0-14 -> a\n",
    "# 0-14 -> a\n",
    "# 0-14 -> a\n",
    "# 0-14 -> a\n",
    "# 0-14 -> a\n",
    "# 0-14 -> a\n",
    "# 0-14 -> a\n",
    "# 0-14 -> a\n",
    "# 0-14 -> a"
   ]
  },
  {
   "cell_type": "code",
   "execution_count": 240,
   "metadata": {
    "ExecuteTime": {
     "end_time": "2019-11-06T19:35:48.311913Z",
     "start_time": "2019-11-06T19:35:48.220969Z"
    }
   },
   "outputs": [
    {
     "data": {
      "image/png": "[encoded data removed]",
      "text/plain": [
       "<Figure size 432x288 with 1 Axes>"
      ]
     },
     "metadata": {
      "needs_background": "light"
     },
     "output_type": "display_data"
    },
    {
     "name": "stdout",
     "output_type": "stream",
     "text": [
      "Base image id: 18\n"
     ]
    }
   ],
   "source": [
    "#show the test image\n",
    "show_image(10, test_images)\n",
    "print(\"Base image id:\", 18)"
   ]
  },
  {
   "cell_type": "code",
   "execution_count": 250,
   "metadata": {
    "ExecuteTime": {
     "end_time": "2019-11-06T19:37:30.437085Z",
     "start_time": "2019-11-06T19:37:27.255921Z"
    },
    "scrolled": true
   },
   "outputs": [
    {
     "data": {
      "image/png": "[encoded data removed]",
      "text/plain": [
       "<Figure size 432x288 with 5 Axes>"
      ]
     },
     "metadata": {
      "needs_background": "light"
     },
     "output_type": "display_data"
    },
    {
     "name": "stdout",
     "output_type": "stream",
     "text": [
      "Ranked id's list: [64 65 70 69 74]\n",
      "1.0\n"
     ]
    }
   ],
   "source": [
    "i = 23\n",
    "im = test_images[i]\n",
    "n = 5\n",
    "\n",
    "#run the test image through the network to get the test features\n",
    "saver = tf.train.Saver()\n",
    "with tf.Session() as sess:\n",
    "    sess.run(tf.global_variables_initializer())\n",
    "    ckpt = tf.train.get_checkpoint_state(\"model\")\n",
    "    saver.restore(sess, model_path)\n",
    "    search_feat = sess.run(net, feed_dict={img_placeholder:[im]})\n",
    "\n",
    "#calculate the cosine similarity and sort\n",
    "dist = cdist(train_feat, search_feat, 'cosine')\n",
    "rank = np.argsort(dist.ravel())\n",
    "\n",
    "#show the top n similar image from train data\n",
    "show_image(rank[:n], train_images, save=True, img_name='o.jpeg')\n",
    "print(\"Ranked id's list:\", rank[:n])\n",
    "print(precision(n, i, rank[:n]))"
   ]
  },
  {
   "cell_type": "code",
   "execution_count": null,
   "metadata": {},
   "outputs": [],
   "source": []
  },
  {
   "cell_type": "code",
   "execution_count": 213,
   "metadata": {
    "ExecuteTime": {
     "end_time": "2019-11-06T14:34:06.278850Z",
     "start_time": "2019-11-06T14:26:26.298129Z"
    },
    "scrolled": false
   },
   "outputs": [
    {
     "data": {
      "application/vnd.jupyter.widget-view+json": {
       "model_id": "0eb8877f3d0341fa8dd88524bed6fbab",
       "version_major": 2,
       "version_minor": 0
      },
      "text/plain": [
       "HBox(children=(IntProgress(value=0, max=255), HTML(value='')))"
      ]
     },
     "metadata": {},
     "output_type": "display_data"
    },
    {
     "name": "stdout",
     "output_type": "stream",
     "text": [
      "\n",
      "Precision: 0.47503267973856206\n"
     ]
    }
   ],
   "source": [
    "means = []\n",
    "for idx in tqdm_notebook(range(len(test_images))):    \n",
    "    im = test_images[idx]\n",
    "    n = 15\n",
    "    \n",
    "    #run the test image through the network to get the test features\n",
    "    saver = tf.train.Saver()\n",
    "    with tf.Session() as sess:\n",
    "        sess.run(tf.global_variables_initializer())\n",
    "        ckpt = tf.train.get_checkpoint_state(\"model\")\n",
    "        saver.restore(sess, model_path)\n",
    "        search_feat = sess.run(net, feed_dict={img_placeholder:[im]})\n",
    "\n",
    "    #calculate the cosine similarity and sort\n",
    "    dist = cdist(train_feat, search_feat, 'cosine')\n",
    "    rank = np.argsort(dist.ravel())\n",
    "\n",
    "    #show the top n similar image from train data\n",
    "#     show_image(rank[:n], train_images)\n",
    "#     print(\"Ranked id's list:\", rank[:n])\n",
    "    means.append(precision(n, idx, rank[:n]))\n",
    "print('Precision: {}'.format(np.asarray(means).mean()))"
   ]
  },
  {
   "cell_type": "code",
   "execution_count": null,
   "metadata": {},
   "outputs": [],
   "source": []
  },
  {
   "cell_type": "code",
   "execution_count": 140,
   "metadata": {
    "ExecuteTime": {
     "end_time": "2019-11-06T03:41:35.681421Z",
     "start_time": "2019-11-06T03:41:35.668430Z"
    }
   },
   "outputs": [
    {
     "data": {
      "text/plain": [
       "0.4133333333333333"
      ]
     },
     "execution_count": 140,
     "metadata": {},
     "output_type": "execute_result"
    }
   ],
   "source": [
    "p = np.asarray([0/15, 14/15, 2/15, 15/15, 0]).mean()\n",
    "p"
   ]
  },
  {
   "cell_type": "code",
   "execution_count": 173,
   "metadata": {
    "ExecuteTime": {
     "end_time": "2019-11-06T14:07:20.085229Z",
     "start_time": "2019-11-06T14:07:20.041250Z"
    }
   },
   "outputs": [],
   "source": [
    "def precision(n, idx, rank):\n",
    "    if idx < 5:\n",
    "        p = sub_precision(0,15,rank)/n    \n",
    "    elif idx >=5 and idx < 10:\n",
    "        p = sub_precision(15,30,rank)/n    \n",
    "    elif idx >=10 and idx < 15:\n",
    "        p = sub_precision(30,45,rank)/n   \n",
    "    elif idx >=15 and idx < 20:\n",
    "        p = sub_precision(45,60,rank)/n\n",
    "    elif idx >=20 and idx < 25:\n",
    "        p = sub_precision(60,75,rank)/n\n",
    "    elif idx >=25 and idx < 30:\n",
    "        p = sub_precision(75,90,rank)/n\n",
    "    elif idx >=30 and idx < 35:\n",
    "        p = sub_precision(90,105,rank)/n\n",
    "    elif idx >=35 and idx < 40:\n",
    "        p = sub_precision(105,120,rank)/n\n",
    "    elif idx >=40 and idx < 45:\n",
    "        p = sub_precision(120,135,rank)/n\n",
    "    elif idx >=45 and idx < 50:\n",
    "        p = sub_precision(135,150,rank)/n\n",
    "    elif idx >=50 and idx < 55:\n",
    "        p = sub_precision(150,165,rank)/n\n",
    "    elif idx >=55 and idx < 60:\n",
    "        p = sub_precision(165,180,rank)/n\n",
    "    elif idx >=60 and idx < 65:\n",
    "        p = sub_precision(180,195,rank)/n\n",
    "    elif idx >=65 and idx < 70:\n",
    "        p = sub_precision(195,210,rank)/n\n",
    "    elif idx >=70 and idx < 75:\n",
    "        p = sub_precision(210,225,rank)/n\n",
    "    elif idx >=75 and idx < 80:\n",
    "        p = sub_precision(225,240,rank)/n\n",
    "    elif idx >=80 and idx < 85:\n",
    "        p = sub_precision(240,255,rank)/n\n",
    "    elif idx >=85 and idx < 90:\n",
    "        p = sub_precision(255,270,rank)/n\n",
    "    elif idx >=90 and idx < 95:\n",
    "        p = sub_precision(270,285,rank)/n\n",
    "    elif idx >=95 and idx < 100:\n",
    "        p = sub_precision(285,300,rank)/n\n",
    "    elif idx >=100 and idx < 105:\n",
    "        p = sub_precision(300,315,rank)/n\n",
    "    elif idx >=105 and idx < 110:\n",
    "        p = sub_precision(315,330,rank)/n\n",
    "    elif idx >=110 and idx < 115:\n",
    "        p = sub_precision(330,345,rank)/n\n",
    "    elif idx >=115 and idx < 120:\n",
    "        p = sub_precision(345,360,rank)/n\n",
    "    elif idx >=120 and idx < 125:\n",
    "        p = sub_precision(360,375,rank)/n\n",
    "    elif idx >=125 and idx < 130:\n",
    "        p = sub_precision(375,390,rank)/n\n",
    "    elif idx >=130 and idx < 135:\n",
    "        p = sub_precision(390,405,rank)/n\n",
    "    elif idx >=135 and idx < 140:\n",
    "        p = sub_precision(405,420,rank)/n\n",
    "    elif idx >=140 and idx < 145:\n",
    "        p = sub_precision(420,435,rank)/n\n",
    "    elif idx >=145 and idx < 150:\n",
    "        p = sub_precision(435,450,rank)/n\n",
    "    elif idx >=150 and idx < 155:\n",
    "        p = sub_precision(450,465,rank)/n\n",
    "    elif idx >=155 and idx < 160:\n",
    "        p = sub_precision(465,480,rank)/n\n",
    "    elif idx >=160 and idx < 165:\n",
    "        p = sub_precision(480,495,rank)/n\n",
    "    elif idx >=165 and idx < 170:\n",
    "        p = sub_precision(495,510,rank)/n\n",
    "    elif idx >=170 and idx < 175:\n",
    "        p = sub_precision(510,525,rank)/n\n",
    "    elif idx >=175 and idx < 180:\n",
    "        p = sub_precision(525,540,rank)/n\n",
    "    elif idx >=180 and idx < 185:\n",
    "        p = sub_precision(540,555,rank)/n\n",
    "    elif idx >=185 and idx < 190:\n",
    "        p = sub_precision(555,570,rank)/n\n",
    "    elif idx >=190 and idx < 195:\n",
    "        p = sub_precision(570,585,rank)/n\n",
    "    elif idx >=195 and idx < 200:\n",
    "        p = sub_precision(585,600,rank)/n\n",
    "    elif idx >=200 and idx < 205:\n",
    "        p = sub_precision(600,615,rank)/n\n",
    "    elif idx >=205 and idx < 210:\n",
    "        p = sub_precision(615,630,rank)/n\n",
    "    elif idx >=210 and idx < 215:\n",
    "        p = sub_precision(630,645,rank)/n\n",
    "    elif idx >=215 and idx < 220:\n",
    "        p = sub_precision(645,660,rank)/n\n",
    "    elif idx >=220 and idx < 225:\n",
    "        p = sub_precision(660,675,rank)/n\n",
    "    elif idx >=225 and idx < 230:\n",
    "        p = sub_precision(675,690,rank)/n\n",
    "    elif idx >=230 and idx < 235:\n",
    "        p = sub_precision(690,705,rank)/n\n",
    "    elif idx >=235 and idx < 240:\n",
    "        p = sub_precision(705,735,rank)/n\n",
    "    elif idx >=240 and idx < 245:\n",
    "        p = sub_precision(735,750,rank)/n\n",
    "    elif idx >=245 and idx < 250:\n",
    "        p = sub_precision(750,765,rank)/n\n",
    "    elif idx >= 250:\n",
    "        p = sub_precision(765,780,rank)/n\n",
    "    return p"
   ]
  },
  {
   "cell_type": "code",
   "execution_count": 177,
   "metadata": {
    "ExecuteTime": {
     "end_time": "2019-11-06T14:08:24.001682Z",
     "start_time": "2019-11-06T14:08:23.996687Z"
    }
   },
   "outputs": [],
   "source": [
    "def sub_precision(start, end, predict):\n",
    "    count = 0\n",
    "    for i in range(start,end):\n",
    "        if i in predict:\n",
    "            count += 1\n",
    "    return count"
   ]
  },
  {
   "cell_type": "code",
   "execution_count": 251,
   "metadata": {
    "ExecuteTime": {
     "end_time": "2019-11-06T20:48:25.648311Z",
     "start_time": "2019-11-06T20:48:24.810644Z"
    }
   },
   "outputs": [],
   "source": [
    "def one_shot_task(test_images, train_images, train_labels, train_n_classes, N = 49):\n",
    "    \"\"\"\n",
    "    Create a set of pairs, targets for N-way one shot learning.\n",
    "    \"\"\"\n",
    "\n",
    "    images = train_images\n",
    "    labels = train_labels\n",
    "    n_classes = train_n_classes\n",
    "\n",
    "\n",
    "    img_shape = images[0].shape\n",
    "    pairs = [np.zeros((N, img_shape[0], img_shape[1], 1)) for i in range(2)]\n",
    "    targets = []\n",
    "    idxs_pairs = []\n",
    "    k = 0\n",
    "\n",
    "    i_sorteado = np.random.randint(0,n_classes)\n",
    "\n",
    "    idx_base, categ_base = _get_index(labels, i_sorteado, test_images)\n",
    "    img_base = images[idx_base]\n",
    "\n",
    "\n",
    "    idx_pair, categ_pair = _get_index(labels, i_sorteado, images)\n",
    "    img_pair = images[idx_pair]\n",
    "    idxs_pairs.append(idx_pair)\n",
    "\n",
    "    pairs[0][k] = img_base.reshape((img_shape[0], img_shape[1], 1))\n",
    "    pairs[1][k] = img_pair.reshape((img_shape[0], img_shape[1], 1))\n",
    "    targets.append(1)\n",
    "\n",
    "    for j in range(1, N):\n",
    "\n",
    "        idx_pair, categ_pair = _get_false_index(labels, i_sorteado, images)\n",
    "        img_pair = images[idx_pair]\n",
    "        idxs_pairs.append(idx_pair)\n",
    "\n",
    "\n",
    "        if categ_base == categ_pair:\n",
    "            targets.append(1)\n",
    "        else:\n",
    "            targets.append(0)\n",
    "\n",
    "        k += 1\n",
    "        pairs[0][k] = img_base.reshape((img_shape[0], img_shape[1], 1))\n",
    "        pairs[1][k] = img_pair.reshape((img_shape[0], img_shape[1], 1))\n",
    "\n",
    "\n",
    "\n",
    "    pairs[0] /= 255.\n",
    "    pairs[1] /= 255.\n",
    "\n",
    "    return pairs, targets, idxs_pairs\n",
    "\n",
    "def _get_index(self, labels, i, images):\n",
    "    while True:\n",
    "        idx = np.random.randint(0, len(images))\n",
    "        if labels[idx] == i:\n",
    "            return idx, labels[idx]\n",
    "            \n",
    "def _get_false_index(self, labels, i, images):\n",
    "    while True:\n",
    "        idx = np.random.randint(0, len(images))\n",
    "        if labels[idx] != i:\n",
    "            return idx, labels[idx]"
   ]
  },
  {
   "cell_type": "code",
   "execution_count": null,
   "metadata": {},
   "outputs": [],
   "source": [
    "correct = 0\n",
    "n = 10\n",
    "retrieval = []\n",
    "retrieval_probs = []\n",
    "for i in tqdm_notebook(range(1, n+1)):\n",
    "    x_t, y_t, indices = one_shot_task(test_images=test_images, train_images=train_images,\n",
    "                                      train_labels=train_labels, train_n_classes=unique_label, N=52)\n",
    "    predict = model_hiragana.predict([ x_t[0], x_t[1] ])\n",
    "    if np.argmin(predict) == 0:\n",
    "        correct += 1\n",
    "        retrieval.append(indices[0])\n",
    "        retrieval_probs.append(predict[0])\n",
    "print('Precisao: {}%'.format((correct/i)*100))  "
   ]
  }
 ],
 "metadata": {
  "kernelspec": {
   "display_name": "Python 3",
   "language": "python",
   "name": "python3"
  },
  "language_info": {
   "codemirror_mode": {
    "name": "ipython",
    "version": 3
   },
   "file_extension": ".py",
   "mimetype": "text/x-python",
   "name": "python",
   "nbconvert_exporter": "python",
   "pygments_lexer": "ipython3",
   "version": "3.7.3"
  },
  "latex_envs": {
   "LaTeX_envs_menu_present": true,
   "autoclose": false,
   "autocomplete": true,
   "bibliofile": "biblio.bib",
   "cite_by": "apalike",
   "current_citInitial": 1,
   "eqLabelWithNumbers": true,
   "eqNumInitial": 1,
   "hotkeys": {
    "equation": "Ctrl-E",
    "itemize": "Ctrl-I"
   },
   "labels_anchors": false,
   "latex_user_defs": false,
   "report_style_numbering": false,
   "user_envs_cfg": false
  },
  "varInspector": {
   "cols": {
    "lenName": 16,
    "lenType": 16,
    "lenVar": 40
   },
   "kernels_config": {
    "python": {
     "delete_cmd_postfix": "",
     "delete_cmd_prefix": "del ",
     "library": "var_list.py",
     "varRefreshCmd": "print(var_dic_list())"
    },
    "r": {
     "delete_cmd_postfix": ") ",
     "delete_cmd_prefix": "rm(",
     "library": "var_list.r",
     "varRefreshCmd": "cat(var_dic_list()) "
    }
   },
   "types_to_exclude": [
    "module",
    "function",
    "builtin_function_or_method",
    "instance",
    "_Feature"
   ],
   "window_display": false
  }
 },
 "nbformat": 4,
 "nbformat_minor": 1
}
