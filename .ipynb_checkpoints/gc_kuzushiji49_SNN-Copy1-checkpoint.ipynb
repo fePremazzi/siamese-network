{
 "cells": [
  {
   "cell_type": "code",
   "execution_count": 115,
   "metadata": {
    "ExecuteTime": {
     "end_time": "2019-10-22T19:53:58.608337Z",
     "start_time": "2019-10-22T19:53:58.089035Z"
    },
    "code_folding": []
   },
   "outputs": [],
   "source": [
    "# Import Keras and other Deep Learning dependencies\n",
    "from keras.models import Sequential\n",
    "from keras.optimizers import Adam\n",
    "from keras.layers import Conv2D, ZeroPadding2D, Activation, Input, concatenate\n",
    "from keras.models import Model, load_model\n",
    "from keras.layers.normalization import BatchNormalization\n",
    "from keras.layers.pooling import MaxPooling2D, AveragePooling2D\n",
    "from keras.layers.merge import Concatenate\n",
    "from keras.layers.core import Lambda, Flatten, Dense, Dropout\n",
    "from keras.initializers import glorot_uniform\n",
    "from sklearn.preprocessing import LabelBinarizer\n",
    "from keras.optimizers import *\n",
    "from keras.engine.topology import Layer\n",
    "from keras.regularizers import l2\n",
    "import cv2\n",
    "import sys\n",
    "import h5py\n",
    "import numpy as np\n",
    "import pandas as pd\n",
    "import matplotlib.pyplot as plt\n",
    "import time\n",
    "import os\n",
    "from tqdm import tqdm_notebook\n",
    "from sklearn.metrics import accuracy_score\n",
    "from sklearn import metrics\n",
    "from collections import Counter \n",
    "from IPython.display import clear_output\n",
    "import pandas as pd\n",
    "from matplotlib import gridspec"
   ]
  },
  {
   "cell_type": "code",
   "execution_count": 13,
   "metadata": {
    "ExecuteTime": {
     "end_time": "2019-10-22T01:45:05.739100Z",
     "start_time": "2019-10-22T01:45:05.718112Z"
    }
   },
   "outputs": [],
   "source": [
    "def initialize_weights(shape, name=None):\n",
    "    \"\"\"\n",
    "        The paper, http://www.cs.utoronto.ca/~gkoch/files/msc-thesis.pdf\n",
    "        suggests to initialize CNN layer weights with mean as 0.0 and standard deviation of 0.01\n",
    "    \"\"\"\n",
    "    return np.random.normal(loc = 0.0, scale = 1e-2, size = shape)\n",
    "\n",
    "def initialize_bias(shape, name=None):\n",
    "    \"\"\"\n",
    "        The paper, http://www.cs.utoronto.ca/~gkoch/files/msc-thesis.pdf\n",
    "        suggests to initialize CNN layer bias with mean as 0.5 and standard deviation of 0.01\n",
    "    \"\"\"\n",
    "    return np.random.normal(loc = 0.5, scale = 1e-2, size = shape)\n",
    "\n",
    "def get_siamese_model(input_shape, similarity_metric='l1', verbose=True):\n",
    "    \"\"\"\n",
    "        Model architecture based on the one provided in: http://www.cs.utoronto.ca/~gkoch/files/msc-thesis.pdf\n",
    "    \"\"\"\n",
    "    left_input = Input(input_shape)\n",
    "    right_input = Input(input_shape)\n",
    "#     model = Sequential()\n",
    "#     model.add(Conv2D(32, (3,3), activation='relu', input_shape=input_shape,\n",
    "#                     kernel_initializer=initialize_weights, \n",
    "#                     kernel_regularizer=l2(2e-4)))\n",
    "    \n",
    "#     model.add(Conv2D(64, (3,3), activation='relu', input_shape=input_shape,\n",
    "#                     kernel_initializer=initialize_weights, \n",
    "#                     kernel_regularizer=l2(2e-4)))    \n",
    "#     model.add(MaxPooling2D(pool_size=(2, 2)))\n",
    "    \n",
    "#     model.add(Dropout(0.25))\n",
    "#     model.add(Flatten())\n",
    "    \n",
    "#     model.add(Dense(128, activation='relu'))\n",
    "#     model.add(Dropout(0.25))\n",
    "    \n",
    "#     model.add(Dense(input_shape[0]**2, activation='sigmoid', kernel_initializer=initialize_weights,\n",
    "#                     bias_initializer=initialize_bias, \n",
    "#                     kernel_regularizer=l2(1e-3),))\n",
    "    \n",
    "    model = Sequential()\n",
    "    model.add(Conv2D(64, (10,10), activation='relu', input_shape=input_shape,\n",
    "                   kernel_initializer=initialize_weights, kernel_regularizer=l2(2e-4)))\n",
    "    model.add(MaxPooling2D())\n",
    "    model.add(Conv2D(128, (7,7), activation='relu',\n",
    "                     kernel_initializer=initialize_weights,\n",
    "                     bias_initializer=initialize_bias, kernel_regularizer=l2(2e-4)))\n",
    "    model.add(MaxPooling2D())\n",
    "    model.add(Conv2D(128, (4,4), activation='relu', kernel_initializer=initialize_weights,\n",
    "                     bias_initializer=initialize_bias, kernel_regularizer=l2(2e-4)))\n",
    "    model.add(MaxPooling2D())\n",
    "    model.add(Conv2D(256, (4,4), activation='relu', kernel_initializer=initialize_weights,\n",
    "                     bias_initializer=initialize_bias, kernel_regularizer=l2(2e-4)))\n",
    "    model.add(Flatten())\n",
    "    model.add(Dense(4096, activation='sigmoid',\n",
    "                   kernel_regularizer=l2(1e-3),\n",
    "                   kernel_initializer=initialize_weights,bias_initializer=initialize_bias))\n",
    "    \n",
    "    # Generate the encodings (feature vectors) for the two images\n",
    "    encoded_l = model(left_input)\n",
    "    encoded_r = model(right_input)\n",
    "    \n",
    "    # Add a customized layer to compute the absolute difference between the encodings\n",
    "    if similarity_metric == 'l1':\n",
    "        Similarity_layer = Lambda(lambda tensors:K.abs(tensors[0] - tensors[1]))        \n",
    "    elif siamese_metric == 'l2':\n",
    "        Similarity_layer = Lambda(lambda tensors:K.sqrt(K.square(tensors[0] - tensors[1])))\n",
    "    elif siamese_metric == 'cross': ## TODO\n",
    "        Similarity_layer = Lambda(lambda tensors:K.abs(tensors[0] - tensors[1]))     \n",
    "        \n",
    "    Similarity_distance = Similarity_layer([encoded_l, encoded_r])\n",
    "    \n",
    "    # Add a dense layer with a sigmoid unit to generate the similarity score\n",
    "    prediction = Dense(1,activation='sigmoid',bias_initializer=initialize_bias)(Similarity_distance)\n",
    "    \n",
    "    # Connect the input with the outputs\n",
    "    siamese_net = Model(inputs=[left_input,right_input],outputs=prediction)\n",
    "    if verbose:\n",
    "        model.summary()\n",
    "    return siamese_net"
   ]
  },
  {
   "cell_type": "code",
   "execution_count": 14,
   "metadata": {
    "ExecuteTime": {
     "end_time": "2019-10-22T01:45:06.513274Z",
     "start_time": "2019-10-22T01:45:06.507280Z"
    }
   },
   "outputs": [],
   "source": [
    "def contrastive_loss(y_true, y_pred):\n",
    "    '''Contrastive loss from Hadsell-et-al.'06\n",
    "    http://yann.lecun.com/exdb/publis/pdf/hadsell-chopra-lecun-06.pdf\n",
    "    '''\n",
    "    margin = 1\n",
    "    square_pred = K.square(y_pred)\n",
    "    margin_square = K.square(K.maximum(margin - y_pred, 0))\n",
    "    return K.mean(y_true * square_pred + (1 - y_true) * margin_square)"
   ]
  },
  {
   "cell_type": "code",
   "execution_count": 165,
   "metadata": {
    "ExecuteTime": {
     "end_time": "2019-10-23T01:25:52.507406Z",
     "start_time": "2019-10-23T01:25:52.344501Z"
    },
    "code_folding": []
   },
   "outputs": [],
   "source": [
    "class Siamese_Loader:\n",
    "    def __init__(self, train_path=None, \n",
    "                 test_path=None, dataset_type = '49kmnist',\n",
    "                 images=None, labels=None, img_channel=1):\n",
    "        \"\"\"\n",
    "        Loads dataset\n",
    "        \n",
    "        Parameters\n",
    "        -----------\n",
    "        \n",
    "        train_path ... list[train_images, train_labels]\n",
    "        test_path ... list[test_images, test_labels]\n",
    "        \n",
    "        \"\"\"\n",
    "        self.train_images = []\n",
    "        self.train_labels = []\n",
    "        self.train_path = train_path\n",
    "        \n",
    "        self.test_images = []\n",
    "        self.test_labels = []        \n",
    "        self.test_path = test_path\n",
    "        \n",
    "        self.dataset_type = dataset_type        \n",
    "        \n",
    "        if train_path is None and test_path is None:\n",
    "            self.train_images = images[0]\n",
    "            self.train_labels = labels[0]\n",
    "            self.test_images = images[1]\n",
    "            self.test_labels = labels[1] \n",
    "        \n",
    "        else:        \n",
    "            print('Loading Train images')\n",
    "            self.train_images = self._load(self.train_path[0])\n",
    "\n",
    "            print('Loading Test images')\n",
    "            self.test_images = self._load(self.test_path[0])\n",
    "\n",
    "            print('Loading Train labels')\n",
    "            self.train_labels = self._load(self.train_path[1])\n",
    "\n",
    "            print('Loading Test labels')\n",
    "            self.test_labels = self._load(self.test_path[1])\n",
    "\n",
    "        self.train_n_classes = len(np.unique(self.train_labels))\n",
    "        self.test_n_classes = len(np.unique(self.test_labels))\n",
    "        \n",
    "        self.train_shape = self.train_images[0].shape\n",
    "        self.test_shape = self.test_images[0].shape\n",
    "        \n",
    "        self.image_channel = img_channel\n",
    "        \n",
    "    def _load(self, f):\n",
    "        return np.load(f)['arr_0']\n",
    "        \n",
    "    def _get_index(self, labels, i, images):\n",
    "        while True:\n",
    "            idx = np.random.randint(0, len(images))\n",
    "            if labels[idx] == i:\n",
    "                return idx, labels[idx]\n",
    "            \n",
    "    def _get_false_index(self, labels, i, images):\n",
    "        while True:\n",
    "            idx = np.random.randint(0, len(images))\n",
    "            if labels[idx] != i:\n",
    "                return idx, labels[idx]\n",
    "            \n",
    "    def get_batch(self, batch_multiplier = 1, disable_progress_bar = False):\n",
    "        \n",
    "        if type(batch_multiplier) is float:\n",
    "            raise TypeError('batch_multiplier must be an integer')\n",
    "        \n",
    "        n_examples = batch_multiplier*self.train_n_classes\n",
    "        \n",
    "        img_shape = self.train_images[0].shape\n",
    "        pairs = [np.zeros((n_examples, img_shape[0], img_shape[1], self.image_channel)) for i in range(2)]\n",
    "        categs_list = []\n",
    "        targets = []\n",
    "        \n",
    "        images = self.train_images\n",
    "        labels = self.train_labels\n",
    "        n_classes = self.train_n_classes\n",
    "        \n",
    "        k = 0\n",
    "        for i in tqdm_notebook(range(0, n_examples), disable = disable_progress_bar):\n",
    "            img_1 = None\n",
    "            img_2 = None\n",
    "            \n",
    "            i_correto = i % n_classes            \n",
    "            \n",
    "            if i%2 == 0: \n",
    "                idx_1, categ_1 = self._get_index(labels, i_correto, images)\n",
    "                img_1 = self.train_images[idx_1]\n",
    "                idx_2, categ_2 = self._get_index(labels, i_correto, images)\n",
    "                img_2 = images[idx_2]\n",
    "                categs_list.append([categ_1,categ_2])\n",
    "                target = 1\n",
    "                \n",
    "            else:\n",
    "                idx_1, categ_1 = self._get_index(labels, i_correto, images)\n",
    "                img_1 = self.train_images[idx_1]\n",
    "                idx_2, categ_2 = self._get_false_index(labels, i_correto, images)\n",
    "                img_2 = images[idx_2]\n",
    "                categs_list.append([categ_1,categ_2])\n",
    "                target = 0\n",
    "\n",
    "            \n",
    "            pairs[0][k] = img_1.reshape((self.train_shape[0], self.train_shape[1], self.image_channel))\n",
    "            pairs[1][k] = img_2.reshape((self.train_shape[0], self.train_shape[1], self.image_channel))\n",
    "            targets.append(target)\n",
    "            k += 1\n",
    "            \n",
    "        pairs[0] /= 255.\n",
    "        pairs[1] /= 255.\n",
    "        \n",
    "        return pairs, targets, categs_list\n",
    "                    \n",
    "        \n",
    "    def one_shot_task(self, N = 49, tipo = 'train'):\n",
    "        \"\"\"\n",
    "        Create a set of pairs, targets for N-way one shot learning.\n",
    "        \"\"\"\n",
    "        if tipo == 'train':\n",
    "            images = self.train_images\n",
    "            labels = self.train_labels\n",
    "            n_classes = self.train_n_classes\n",
    "        else:\n",
    "            images = self.test_images\n",
    "            labels = self.test_labels\n",
    "            n_classes = self.test_n_classes\n",
    "            \n",
    "        \n",
    "        img_shape = images[0].shape\n",
    "        pairs = [np.zeros((N, img_shape[0], img_shape[1], self.image_channel)) for i in range(2)]\n",
    "        targets = []\n",
    "        k = 0\n",
    "        \n",
    "        i_sorteado = np.random.randint(0,n_classes)\n",
    "        idx_base, categ_base = self._get_index(labels, i_sorteado, images)\n",
    "        img_base = images[idx_base]\n",
    "\n",
    "        idx_pair, categ_pair = self._get_index(labels, i_sorteado, images)\n",
    "        img_pair = images[idx_pair]\n",
    "        \n",
    "        pairs[0][k] = img_base.reshape((self.train_shape[0], self.train_shape[1], self.image_channel))\n",
    "        pairs[1][k] = img_pair.reshape((self.train_shape[0], self.train_shape[1], self.image_channel))\n",
    "        targets.append(1)\n",
    "        \n",
    "        for j in range(1, N):\n",
    "            \n",
    "            idx_pair, categ_pair = self._get_false_index(labels, i_sorteado, images)\n",
    "            img_pair = images[idx_pair]\n",
    "\n",
    "            if categ_base == categ_pair:\n",
    "                targets.append(1)\n",
    "            else:\n",
    "                targets.append(0)\n",
    "            \n",
    "            k += 1\n",
    "            pairs[0][k] = img_base.reshape((self.train_shape[0],self.train_shape[1],self.image_channel))\n",
    "            pairs[1][k] = img_pair.reshape((self.train_shape[0],self.train_shape[1],self.image_channel))\n",
    "\n",
    "            \n",
    "        \n",
    "        pairs[0] /= 255.\n",
    "        pairs[1] /= 255.\n",
    "        \n",
    "        return pairs, targets\n",
    "    \n",
    "    def test_oneshot(self, model, N, k, verbose=True, tipo = 'test'):\n",
    "        \"\"\"Test average N way oneshot learning accuracy of a siamese neural net over k one-shot tasks\"\"\"\n",
    "        n_correct = 0\n",
    "        if verbose:\n",
    "            print(\"Evaluating model on {} random {} way one-shot learning tasks ... \\n\".format(k,N))\n",
    "        for i in range(k):\n",
    "            inputs, targets = self.one_shot_task(N, tipo = tipo)\n",
    "            probs = model.predict(inputs)\n",
    "            probs = 1-probs\n",
    "            if np.argmax(probs) == np.argmax(targets):\n",
    "                n_correct+=1\n",
    "        percent_correct = (100.0*n_correct / k)\n",
    "        if verbose:\n",
    "            print(\"Got an average of {}% {} way one-shot learning accuracy \\n\".format(percent_correct,N))\n",
    "        return percent_correct\n",
    "    \n",
    "    def image_retrieval(self, model, img_search, top_n=5):\n",
    "        images = self.test_images\n",
    "        labels = self.test_labels\n",
    "        n_imgs = len(images)\n",
    "        \n",
    "        img_shape = images[0].shape\n",
    "        pairs = [np.zeros((n_imgs, img_shape[0], img_shape[1], self.image_channel)) for i in range(2)]\n",
    "        targets = []\n",
    "        idx_imgs = []\n",
    "        k = 0\n",
    "        \n",
    "        img_base = img_search\n",
    "        \n",
    "        for i in range(0, n_imgs):            \n",
    "            img_pair = images[i]\n",
    "            pairs[0][k] = img_base.reshape((self.train_shape[0],self.train_shape[1],self.image_channel))\n",
    "            pairs[1][k] = img_pair.reshape((self.train_shape[0],self.train_shape[1],self.image_channel))\n",
    "            idx_imgs.append(i)\n",
    "            k += 1\n",
    "        \n",
    "        pairs[0] /= 255.\n",
    "        pairs[1] /= 255.\n",
    "        \n",
    "        predict = model.predict(pairs)\n",
    "        df = pd.DataFrame(data={'indice':idx_imgs, 'predict':predict.reshape((len(predict)))})\n",
    "        df_N = df.sort_values(by=['predict'])[0:top_n]\n",
    "        ranking_list = df_N['indice'].tolist()\n",
    "        \n",
    "        self.plot_rank(idxs=np.array(ranking_list))\n",
    "    \n",
    "    def plot_rank(self, idxs):\n",
    "        if type(idxs) != np.ndarray:\n",
    "            idxs = np.array([idxs])\n",
    "        fig = plt.figure()\n",
    "        gs = gridspec.GridSpec(1,len(idxs))\n",
    "        for i in range(len(idxs)):\n",
    "            ax = fig.add_subplot(gs[0,i])\n",
    "            ax.imshow(self.test_images[idxs[i]], cmap='gray')\n",
    "            ax.axis('off')\n",
    "        plt.show()"
   ]
  },
  {
   "cell_type": "code",
   "execution_count": 142,
   "metadata": {
    "ExecuteTime": {
     "end_time": "2019-10-22T21:22:11.785438Z",
     "start_time": "2019-10-22T21:22:11.770445Z"
    }
   },
   "outputs": [],
   "source": [
    "def concat_images(X):\n",
    "    \"\"\"Concatenates a bunch of images into a big matrix for plotting purposes.\"\"\"\n",
    "    nc, h , w, _ = X.shape\n",
    "    X = X.reshape(nc, h, w)\n",
    "    n = np.ceil(np.sqrt(nc)).astype(\"int8\")\n",
    "    img = np.zeros((n*w,n*h))\n",
    "    x = 0\n",
    "    y = 0\n",
    "    for example in range(nc):\n",
    "        img[x*w:(x+1)*w,y*h:(y+1)*h] = X[example]\n",
    "        y += 1\n",
    "        if y >= n:\n",
    "            y = 0\n",
    "            x += 1\n",
    "    return img\n",
    "\n",
    "\n",
    "def plot_oneshot_task(ref, comparativas, x_s = 28, y_s = 28):\n",
    "    fig,(ax1,ax2) = plt.subplots(2)\n",
    "    ax1.matshow(ref.reshape(x_s,y_s), cmap='gray')\n",
    "    img = concat_images(comparativas)\n",
    "    ax1.get_yaxis().set_visible(False)\n",
    "    ax1.get_xaxis().set_visible(False)\n",
    "    ax2.matshow(img,cmap='gray')\n",
    "    plt.xticks([])\n",
    "    plt.yticks([])\n",
    "    plt.show()\n",
    "    \n",
    "def show_image(img):\n",
    "    plt.imshow(img, cmap=\"gray\")\n",
    "    plt.show()"
   ]
  },
  {
   "cell_type": "code",
   "execution_count": null,
   "metadata": {
    "ExecuteTime": {
     "end_time": "2019-10-18T17:58:49.552746Z",
     "start_time": "2019-10-18T17:58:49.524759Z"
    }
   },
   "outputs": [],
   "source": [
    "for i in tqdm_notebook(range(0,10), disable = False):\n",
    "    pass"
   ]
  },
  {
   "cell_type": "code",
   "execution_count": null,
   "metadata": {
    "ExecuteTime": {
     "end_time": "2019-10-17T21:58:37.504305Z",
     "start_time": "2019-10-17T21:58:37.500310Z"
    }
   },
   "outputs": [],
   "source": [
    "# batch_size = 128\n",
    "# num_classes = 10\n",
    "# epochs = 12"
   ]
  },
  {
   "cell_type": "code",
   "execution_count": null,
   "metadata": {
    "ExecuteTime": {
     "end_time": "2019-10-18T15:02:28.189449Z",
     "start_time": "2019-10-18T15:02:28.186451Z"
    }
   },
   "outputs": [],
   "source": [
    "# def load(f):\n",
    "#     return np.load(f)['arr_0']"
   ]
  },
  {
   "cell_type": "code",
   "execution_count": null,
   "metadata": {
    "ExecuteTime": {
     "end_time": "2019-10-17T21:58:38.476549Z",
     "start_time": "2019-10-17T21:58:38.471552Z"
    }
   },
   "outputs": [],
   "source": [
    "# Load the data\n",
    "# x_train = load('dataset/kuzushiji-mnist/k49-train-imgs.npz')\n",
    "# x_test = load('dataset/kuzushiji-mnist/k49-test-imgs.npz')\n",
    "# y_train = load('dataset/kuzushiji-mnist/k49-train-labels.npz')\n",
    "# y_test = load('dataset/kuzushiji-mnist/k49-test-labels.npz')"
   ]
  },
  {
   "cell_type": "code",
   "execution_count": null,
   "metadata": {
    "ExecuteTime": {
     "end_time": "2019-10-17T21:58:39.044902Z",
     "start_time": "2019-10-17T21:58:39.039893Z"
    }
   },
   "outputs": [],
   "source": [
    "# ys = list()\n",
    "# for y in y_train:\n",
    "#     if y not in ys:\n",
    "#         ys.append(y)\n",
    "# print('N classes: {}'.format(len(ys)))\n",
    "# print(len(Counter(y_train).keys()))\n",
    "# np.unique(y_train, return_counts=True)"
   ]
  },
  {
   "cell_type": "code",
   "execution_count": null,
   "metadata": {
    "ExecuteTime": {
     "end_time": "2019-10-17T22:08:22.519235Z",
     "start_time": "2019-10-17T22:08:22.335325Z"
    }
   },
   "outputs": [],
   "source": [
    "w = x_train[99]\n",
    "\n",
    "plt.imshow(w, cmap=\"gray\")\n",
    "\n",
    "plt.show()"
   ]
  },
  {
   "cell_type": "markdown",
   "metadata": {},
   "source": [
    "# Model"
   ]
  },
  {
   "cell_type": "code",
   "execution_count": null,
   "metadata": {
    "ExecuteTime": {
     "end_time": "2019-10-18T19:13:53.628015Z",
     "start_time": "2019-10-18T19:13:52.969397Z"
    }
   },
   "outputs": [],
   "source": [
    "model = get_siamese_model((28, 28, 1), verbose=True)\n",
    "model.compile(loss=contrastive_loss,optimizer=Adam(lr = 0.00006))\n",
    "# model.compile(loss=contrastive_loss,optimizer=Adadelta())\n",
    "# model.compile(loss='binary_crossentropy',optimizer=Adam(lr = 0.00006))\n",
    "model.summary()"
   ]
  },
  {
   "cell_type": "markdown",
   "metadata": {},
   "source": [
    "## Loading dataset"
   ]
  },
  {
   "cell_type": "code",
   "execution_count": null,
   "metadata": {
    "ExecuteTime": {
     "end_time": "2019-10-18T19:05:24.732907Z",
     "start_time": "2019-10-18T19:05:23.298733Z"
    },
    "scrolled": false
   },
   "outputs": [],
   "source": [
    "loader = Siamese_Loader(train_path=['dataset/kuzushiji-mnist/k49-train-imgs.npz',\n",
    "                                    'dataset/kuzushiji-mnist/k49-train-labels.npz'],\n",
    "                       test_path=['dataset/kuzushiji-mnist/k49-test-imgs.npz',\n",
    "                                  'dataset/kuzushiji-mnist/k49-test-labels.npz'])"
   ]
  },
  {
   "cell_type": "code",
   "execution_count": null,
   "metadata": {
    "ExecuteTime": {
     "end_time": "2019-10-18T19:05:25.927015Z",
     "start_time": "2019-10-18T19:05:25.924016Z"
    },
    "scrolled": false
   },
   "outputs": [],
   "source": [
    "#train_pairs, train_targets = loader.get_batch(batch_multiplier=2)"
   ]
  },
  {
   "cell_type": "code",
   "execution_count": null,
   "metadata": {
    "ExecuteTime": {
     "end_time": "2019-10-18T19:45:59.441607Z",
     "start_time": "2019-10-18T19:45:59.429614Z"
    }
   },
   "outputs": [],
   "source": [
    "N = 10\n",
    "test_pairs, test_targets = loader.one_shot_task(N=N, tipo='test')\n",
    "print(test_targets)\n",
    "\n",
    "plot_oneshot_task(test_pairs[0][9], test_pairs[1][:N])"
   ]
  },
  {
   "cell_type": "markdown",
   "metadata": {},
   "source": [
    "# Training pipeline 1"
   ]
  },
  {
   "cell_type": "code",
   "execution_count": 161,
   "metadata": {
    "ExecuteTime": {
     "end_time": "2019-10-23T01:18:11.984453Z",
     "start_time": "2019-10-23T01:18:11.975456Z"
    }
   },
   "outputs": [],
   "source": [
    "evaluate = 100 # interval for evaluating on one-shot tasks and losses\n",
    "batch_multiplier = 5\n",
    "n_iter = 2000 # 20000\n",
    "best = -1\n",
    "N_way = 10\n",
    "data_path = 'kmodel_weights/'\n",
    "weights_path_2 = 'kmodel_weights/kmodel_weights_1.h5'"
   ]
  },
  {
   "cell_type": "code",
   "execution_count": null,
   "metadata": {
    "ExecuteTime": {
     "end_time": "2019-10-19T03:34:29.191535Z",
     "start_time": "2019-10-19T03:34:22.503428Z"
    }
   },
   "outputs": [],
   "source": [
    "print(\"Starting training process!\")\n",
    "print(\"##############################################################\")\n",
    "t_start = time.time()\n",
    "for i in tqdm_notebook(range(1, n_iter)):\n",
    "    \n",
    "    inputs, targets = loader.get_batch(batch_multiplier, disable_progress_bar=True)\n",
    "    \n",
    "    loss=model.train_on_batch(inputs,targets)\n",
    "    \n",
    "    if i % evaluate == 0:\n",
    "        clear_output()\n",
    "        print(\"Time for {0} iterations: {1}\".format(i, time.time()-t_start))\n",
    "        val_acc = loader.test_oneshot(model,N_way,20,verbose=True)\n",
    "        if val_acc >= best:\n",
    "            print(\"Current best: {0}, previous best: {1}\".format(val_acc, best))\n",
    "            print(\"Saving weights to: {0} \\n\".format(weights_path_2))\n",
    "            model.save_weights(weights_path_2)\n",
    "            best=val_acc   \n",
    "    \n",
    "        print(\"iteration {}, training loss: {:.2f},\".format(i,loss))\n",
    "        print('---------------------------------------------------------------------------------')\n",
    "\n",
    "        \n",
    "# weights_path_2 = os.path.join(data_path, \"model_weights.h5\")\n",
    "# model.load_weights(weights_path_2)"
   ]
  },
  {
   "cell_type": "markdown",
   "metadata": {},
   "source": [
    "# Training pipeline 2"
   ]
  },
  {
   "cell_type": "code",
   "execution_count": null,
   "metadata": {
    "ExecuteTime": {
     "end_time": "2019-10-18T18:31:39.474335Z",
     "start_time": "2019-10-18T18:29:13.836649Z"
    }
   },
   "outputs": [],
   "source": [
    "model.fit(x=train_pairs, y=train_targets, epochs=2000) "
   ]
  },
  {
   "cell_type": "code",
   "execution_count": null,
   "metadata": {
    "ExecuteTime": {
     "end_time": "2019-10-18T18:31:48.152746Z",
     "start_time": "2019-10-18T18:31:48.127762Z"
    }
   },
   "outputs": [],
   "source": [
    "weight_path_fit = 'kmodel_weights/model_weights_2_10.h5'\n",
    "model.save_weights(weight_path_fit)"
   ]
  },
  {
   "cell_type": "code",
   "execution_count": null,
   "metadata": {
    "ExecuteTime": {
     "end_time": "2019-10-18T18:31:50.860636Z",
     "start_time": "2019-10-18T18:31:50.853643Z"
    }
   },
   "outputs": [],
   "source": [
    "len(test_pairs[0])"
   ]
  },
  {
   "cell_type": "code",
   "execution_count": null,
   "metadata": {
    "ExecuteTime": {
     "end_time": "2019-10-18T19:48:50.969775Z",
     "start_time": "2019-10-18T19:48:50.859837Z"
    }
   },
   "outputs": [],
   "source": [
    "N = 10\n",
    "test_pairs, test_targets = loader.one_shot_task(N=N, tipo='test')\n",
    "plot_oneshot_task(test_pairs[0][9], test_pairs[1][:N])"
   ]
  },
  {
   "cell_type": "code",
   "execution_count": null,
   "metadata": {
    "ExecuteTime": {
     "end_time": "2019-10-18T19:48:51.502632Z",
     "start_time": "2019-10-18T19:48:51.469649Z"
    }
   },
   "outputs": [],
   "source": [
    "predict = model.predict(x=test_pairs)\n",
    "predict"
   ]
  },
  {
   "cell_type": "code",
   "execution_count": null,
   "metadata": {
    "ExecuteTime": {
     "end_time": "2019-10-18T15:58:27.174831Z",
     "start_time": "2019-10-18T15:58:27.171831Z"
    }
   },
   "outputs": [],
   "source": [
    "# fpr, tpr, thresholds = metrics.roc_curve(test_targets, predict)\n",
    "# metrics.auc(fpr, tpr)"
   ]
  },
  {
   "cell_type": "markdown",
   "metadata": {},
   "source": [
    "# OMNIGLOT - ひらがな"
   ]
  },
  {
   "cell_type": "code",
   "execution_count": 8,
   "metadata": {},
   "outputs": [],
   "source": [
    "#!pip install scipy==1.1.0"
   ]
  },
  {
   "cell_type": "code",
   "execution_count": 4,
   "metadata": {
    "ExecuteTime": {
     "end_time": "2019-10-22T01:44:46.879089Z",
     "start_time": "2019-10-22T01:44:43.651877Z"
    }
   },
   "outputs": [
    {
     "name": "stdout",
     "output_type": "stream",
     "text": [
      "loading alphabet: Japanese_(hiragana)\n",
      "loading alphabet: Japanese_(hiragana)\n"
     ]
    }
   ],
   "source": [
    "from load_data import *"
   ]
  },
  {
   "cell_type": "code",
   "execution_count": 5,
   "metadata": {
    "ExecuteTime": {
     "end_time": "2019-10-22T01:44:49.019495Z",
     "start_time": "2019-10-22T01:44:49.013497Z"
    }
   },
   "outputs": [],
   "source": [
    "data_path = os.path.join('dataset/omniglot')\n",
    "train_folder = os.path.join(data_path,'images_train')\n",
    "valpath = os.path.join(data_path,'images_test')"
   ]
  },
  {
   "cell_type": "code",
   "execution_count": 6,
   "metadata": {
    "ExecuteTime": {
     "end_time": "2019-10-22T01:44:50.968408Z",
     "start_time": "2019-10-22T01:44:50.686093Z"
    }
   },
   "outputs": [
    {
     "name": "stdout",
     "output_type": "stream",
     "text": [
      "Training alphabets: \n",
      "\n",
      "['Japanese_(hiragana)']\n",
      "Validation alphabets:\n",
      "\n",
      "['Japanese_(hiragana)']\n"
     ]
    }
   ],
   "source": [
    "with open(os.path.join(data_path, \"pickle/train.pickle\"), \"rb\") as f:\n",
    "    (X, classes) = pickle.load(f)\n",
    "\n",
    "with open(os.path.join(data_path, \"pickle/val.pickle\"), \"rb\") as f:\n",
    "    (Xval, val_classes) = pickle.load(f)\n",
    "    \n",
    "print(\"Training alphabets: \\n\")\n",
    "print(list(classes.keys()))\n",
    "print(\"Validation alphabets:\", end=\"\\n\\n\")\n",
    "print(list(val_classes.keys()))"
   ]
  },
  {
   "cell_type": "code",
   "execution_count": 7,
   "metadata": {
    "ExecuteTime": {
     "end_time": "2019-10-22T01:44:51.849989Z",
     "start_time": "2019-10-22T01:44:51.840979Z"
    }
   },
   "outputs": [],
   "source": [
    "x_train = []\n",
    "y_train = []\n",
    "x_test = []\n",
    "y_test = []\n",
    "\n",
    "target = 0\n",
    "for classe in X:    \n",
    "    for img in classe:\n",
    "        x_train.append(img)\n",
    "        y_train.append(target)\n",
    "    target += 1\n",
    "\n",
    "target = 0\n",
    "for classe in Xval:    \n",
    "    for img in classe:\n",
    "        x_test.append(img)\n",
    "        y_test.append(target)\n",
    "    target += 1    "
   ]
  },
  {
   "cell_type": "code",
   "execution_count": 117,
   "metadata": {
    "ExecuteTime": {
     "end_time": "2019-10-22T20:09:50.118932Z",
     "start_time": "2019-10-22T20:09:50.037564Z"
    }
   },
   "outputs": [],
   "source": [
    "x_imgs = np.asarray([np.asarray(x_train), np.asarray(x_test)])\n",
    "y_lbls = np.asarray([np.asarray(y_train), np.asarray(y_test)])"
   ]
  },
  {
   "cell_type": "code",
   "execution_count": 118,
   "metadata": {
    "ExecuteTime": {
     "end_time": "2019-10-22T20:09:50.655666Z",
     "start_time": "2019-10-22T20:09:50.645672Z"
    }
   },
   "outputs": [
    {
     "data": {
      "text/plain": [
       "(780, 105, 105)"
      ]
     },
     "execution_count": 118,
     "metadata": {},
     "output_type": "execute_result"
    }
   ],
   "source": [
    "x_imgs[0].shape"
   ]
  },
  {
   "cell_type": "markdown",
   "metadata": {},
   "source": [
    "### Omni Loader"
   ]
  },
  {
   "cell_type": "code",
   "execution_count": 166,
   "metadata": {
    "ExecuteTime": {
     "end_time": "2019-10-23T01:25:58.260139Z",
     "start_time": "2019-10-23T01:25:58.256145Z"
    }
   },
   "outputs": [],
   "source": [
    "omni_loader = Siamese_Loader(images = x_imgs, labels=y_lbls, dataset_type='omniglot_hiragana')"
   ]
  },
  {
   "cell_type": "code",
   "execution_count": 167,
   "metadata": {
    "ExecuteTime": {
     "end_time": "2019-10-23T01:25:58.720889Z",
     "start_time": "2019-10-23T01:25:58.713895Z"
    }
   },
   "outputs": [
    {
     "data": {
      "text/plain": [
       "'omniglot_hiragana'"
      ]
     },
     "execution_count": 167,
     "metadata": {},
     "output_type": "execute_result"
    }
   ],
   "source": [
    "omni_loader.dataset_type"
   ]
  },
  {
   "cell_type": "markdown",
   "metadata": {},
   "source": [
    "### Model"
   ]
  },
  {
   "cell_type": "code",
   "execution_count": 137,
   "metadata": {
    "ExecuteTime": {
     "end_time": "2019-10-22T21:01:27.688681Z",
     "start_time": "2019-10-22T21:01:27.684672Z"
    },
    "scrolled": true
   },
   "outputs": [],
   "source": [
    "# model_hiragana = get_siamese_model((105, 105, 1), verbose=False)\n",
    "# model_hiragana.compile(loss=contrastive_loss,optimizer=Adam(lr = 0.00006))\n",
    "# # model.compile(loss=contrastive_loss,optimizer=Adadelta())\n",
    "# # model.compile(loss='binary_crossentropy',optimizer=Adam(lr = 0.00006))\n",
    "# model_hiragana.summary()"
   ]
  },
  {
   "cell_type": "markdown",
   "metadata": {},
   "source": [
    "### Few-shot testing"
   ]
  },
  {
   "cell_type": "code",
   "execution_count": 125,
   "metadata": {
    "ExecuteTime": {
     "end_time": "2019-10-22T20:13:41.775079Z",
     "start_time": "2019-10-22T20:13:40.846013Z"
    }
   },
   "outputs": [
    {
     "data": {
      "image/png": "[encoded data removed]",
      "text/plain": [
       "<Figure size 432x288 with 2 Axes>"
      ]
     },
     "metadata": {
      "needs_background": "light"
     },
     "output_type": "display_data"
    }
   ],
   "source": [
    "N = 16\n",
    "test_pairs, test_targets = omni_loader.one_shot_task(N=N, tipo='test')\n",
    "\n",
    "plot_oneshot_task(test_pairs[0][9], test_pairs[1][:N], x_s=105, y_s=105)"
   ]
  },
  {
   "cell_type": "markdown",
   "metadata": {},
   "source": [
    "### Training"
   ]
  },
  {
   "cell_type": "code",
   "execution_count": 21,
   "metadata": {
    "ExecuteTime": {
     "end_time": "2019-10-22T01:45:34.327430Z",
     "start_time": "2019-10-22T01:45:34.321433Z"
    }
   },
   "outputs": [],
   "source": [
    "evaluate = 100 # interval for evaluating on one-shot tasks and losses\n",
    "batch_multiplier = 4\n",
    "n_iter = 600 # 20000\n",
    "best = -1\n",
    "N_way = 10\n",
    "data_path = 'kmodel_weights/'\n",
    "weights_path_2 = 'kmodel_weights/omni_model_hiragana_weights_1.h5'"
   ]
  },
  {
   "cell_type": "code",
   "execution_count": 22,
   "metadata": {
    "ExecuteTime": {
     "end_time": "2019-10-22T01:45:42.927753Z",
     "start_time": "2019-10-22T01:45:42.923754Z"
    },
    "scrolled": true
   },
   "outputs": [],
   "source": [
    "# print(\"Starting training process!\")\n",
    "# print(\"##############################################################\")\n",
    "# t_start = time.time()\n",
    "# for i in tqdm_notebook(range(1, n_iter)):\n",
    "    \n",
    "#     inputs, targets, _ = omni_loader.get_batch(batch_multiplier, disable_progress_bar=True)\n",
    "    \n",
    "#     loss=model_hiragana.train_on_batch(inputs,targets)\n",
    "    \n",
    "#     if i % evaluate == 0:\n",
    "#         clear_output()\n",
    "#         print(\"Time for {0} iterations: {1}\".format(i, time.time()-t_start))\n",
    "#         val_acc = omni_loader.test_oneshot(model_hiragana,N_way,1,verbose=True)\n",
    "#         if val_acc >= best:\n",
    "#             print(\"Current best: {0}, previous best: {1}\".format(val_acc, best))\n",
    "#             print(\"Saving weights to: {0} \\n\".format(weights_path_2))\n",
    "#             model_hiragana.save_weights(weights_path_2)\n",
    "#             best=val_acc   \n",
    "    \n",
    "#         print(\"iteration {}, training loss: {:.2f},\".format(i,loss))\n",
    "#         print('---------------------------------------------------------------------------------')"
   ]
  },
  {
   "cell_type": "markdown",
   "metadata": {},
   "source": [
    "### Testing stuff"
   ]
  },
  {
   "cell_type": "code",
   "execution_count": 168,
   "metadata": {
    "ExecuteTime": {
     "end_time": "2019-10-23T01:26:15.115788Z",
     "start_time": "2019-10-23T01:26:15.009833Z"
    }
   },
   "outputs": [],
   "source": [
    "inputs, targets, categs_list = omni_loader.get_batch(batch_multiplier, disable_progress_bar=True)\n",
    "# inputs, targets = loader.get_batch(batch_multiplier, disable_progress_bar=True)"
   ]
  },
  {
   "cell_type": "code",
   "execution_count": 169,
   "metadata": {
    "ExecuteTime": {
     "end_time": "2019-10-23T01:26:22.749644Z",
     "start_time": "2019-10-23T01:26:22.741649Z"
    }
   },
   "outputs": [
    {
     "name": "stdout",
     "output_type": "stream",
     "text": [
      "[[0, 0], [1, 29], [2, 2], [3, 40], [4, 4], [5, 29], [6, 6], [7, 19], [8, 8], [9, 33], [10, 10], [11, 17], [12, 12], [13, 35], [14, 14], [15, 0], [16, 16], [17, 11], [18, 18], [19, 31], [20, 20], [21, 25], [22, 22], [23, 22], [24, 24], [25, 22], [26, 26], [27, 33], [28, 28], [29, 11], [30, 30], [31, 35], [32, 32], [33, 25], [34, 34], [35, 6], [36, 36], [37, 4], [38, 38], [39, 34], [40, 40], [41, 36], [42, 42], [43, 0], [44, 44], [45, 24], [46, 46], [47, 17], [48, 48], [49, 12], [50, 50], [51, 36], [0, 0], [1, 42], [2, 2], [3, 15], [4, 4], [5, 11], [6, 6], [7, 24], [8, 8], [9, 10], [10, 10], [11, 33], [12, 12], [13, 43], [14, 14], [15, 30], [16, 16], [17, 2], [18, 18], [19, 47], [20, 20], [21, 10], [22, 22], [23, 9], [24, 24], [25, 15], [26, 26], [27, 48], [28, 28], [29, 51], [30, 30], [31, 50], [32, 32], [33, 35], [34, 34], [35, 20], [36, 36], [37, 23], [38, 38], [39, 1], [40, 40], [41, 43], [42, 42], [43, 0], [44, 44], [45, 47], [46, 46], [47, 3], [48, 48], [49, 44], [50, 50], [51, 5], [0, 0], [1, 8], [2, 2], [3, 31], [4, 4], [5, 43], [6, 6], [7, 48], [8, 8], [9, 46], [10, 10], [11, 36], [12, 12], [13, 16], [14, 14], [15, 51], [16, 16], [17, 41], [18, 18], [19, 2], [20, 20], [21, 28], [22, 22], [23, 39], [24, 24], [25, 42], [26, 26], [27, 31], [28, 28], [29, 7], [30, 30], [31, 36], [32, 32], [33, 13], [34, 34], [35, 6], [36, 36], [37, 16], [38, 38], [39, 34], [40, 40], [41, 23], [42, 42], [43, 0], [44, 44], [45, 33], [46, 46], [47, 19], [48, 48], [49, 40], [50, 50], [51, 3], [0, 0], [1, 34], [2, 2], [3, 45], [4, 4], [5, 11], [6, 6], [7, 47], [8, 8], [9, 48], [10, 10], [11, 44], [12, 12], [13, 15], [14, 14], [15, 29], [16, 16], [17, 21], [18, 18], [19, 26], [20, 20], [21, 48], [22, 22], [23, 28], [24, 24], [25, 6], [26, 26], [27, 17], [28, 28], [29, 2], [30, 30], [31, 37], [32, 32], [33, 36], [34, 34], [35, 49], [36, 36], [37, 10], [38, 38], [39, 45], [40, 40], [41, 37], [42, 42], [43, 32], [44, 44], [45, 8], [46, 46], [47, 46], [48, 48], [49, 16], [50, 50], [51, 32], [0, 0], [1, 28], [2, 2], [3, 19], [4, 4], [5, 22], [6, 6], [7, 18], [8, 8], [9, 18], [10, 10], [11, 19], [12, 12], [13, 48], [14, 14], [15, 25], [16, 16], [17, 4], [18, 18], [19, 45], [20, 20], [21, 40], [22, 22], [23, 36], [24, 24], [25, 31], [26, 26], [27, 29], [28, 28], [29, 48], [30, 30], [31, 25], [32, 32], [33, 31], [34, 34], [35, 3], [36, 36], [37, 35], [38, 38], [39, 19], [40, 40], [41, 10], [42, 42], [43, 15], [44, 44], [45, 18], [46, 46], [47, 7], [48, 48], [49, 12], [50, 50], [51, 49]]\n"
     ]
    }
   ],
   "source": [
    "print(categs_list)"
   ]
  },
  {
   "cell_type": "code",
   "execution_count": 163,
   "metadata": {
    "ExecuteTime": {
     "end_time": "2019-10-23T01:23:25.719152Z",
     "start_time": "2019-10-23T01:23:25.544247Z"
    }
   },
   "outputs": [
    {
     "data": {
      "image/png": "[encoded data removed]",
      "text/plain": [
       "<Figure size 432x288 with 1 Axes>"
      ]
     },
     "metadata": {
      "needs_background": "light"
     },
     "output_type": "display_data"
    }
   ],
   "source": [
    "plt.imshow(inputs[0][2].reshape((105,105)), cmap='gray')\n",
    "\n",
    "plt.show()"
   ]
  },
  {
   "cell_type": "code",
   "execution_count": 164,
   "metadata": {
    "ExecuteTime": {
     "end_time": "2019-10-23T01:23:27.006535Z",
     "start_time": "2019-10-23T01:23:26.818644Z"
    }
   },
   "outputs": [
    {
     "data": {
      "image/png": "[encoded data removed]",
      "text/plain": [
       "<Figure size 432x288 with 1 Axes>"
      ]
     },
     "metadata": {
      "needs_background": "light"
     },
     "output_type": "display_data"
    }
   ],
   "source": [
    "plt.imshow(inputs[1][2].reshape((105,105)), cmap='gray')\n",
    "\n",
    "plt.show()"
   ]
  },
  {
   "cell_type": "code",
   "execution_count": 129,
   "metadata": {
    "ExecuteTime": {
     "end_time": "2019-10-22T20:14:05.572068Z",
     "start_time": "2019-10-22T20:14:05.443142Z"
    }
   },
   "outputs": [
    {
     "name": "stdout",
     "output_type": "stream",
     "text": [
      "[1, 0, 1, 0, 1, 0, 1, 0, 1, 0, 1, 0, 1, 0, 1, 0, 1, 0, 1, 0, 1, 0, 1, 0, 1, 0, 1, 0, 1, 0, 1, 0, 1, 0, 1, 0, 1, 0, 1, 0, 1, 0, 1, 0, 1, 0, 1, 0, 1, 0, 1, 0, 1, 0, 1, 0, 1, 0, 1, 0, 1, 0, 1, 0, 1, 0, 1, 0, 1, 0, 1, 0, 1, 0, 1, 0, 1, 0, 1, 0, 1, 0, 1, 0, 1, 0, 1, 0, 1, 0, 1, 0, 1, 0, 1, 0, 1, 0, 1, 0, 1, 0, 1, 0, 1, 0, 1, 0, 1, 0, 1, 0, 1, 0, 1, 0, 1, 0, 1, 0, 1, 0, 1, 0, 1, 0, 1, 0, 1, 0, 1, 0, 1, 0, 1, 0, 1, 0, 1, 0, 1, 0, 1, 0, 1, 0, 1, 0, 1, 0, 1, 0, 1, 0, 1, 0, 1, 0, 1, 0, 1, 0, 1, 0, 1, 0, 1, 0, 1, 0, 1, 0, 1, 0, 1, 0, 1, 0, 1, 0, 1, 0, 1, 0, 1, 0, 1, 0, 1, 0, 1, 0, 1, 0, 1, 0, 1, 0, 1, 0, 1, 0, 1, 0, 1, 0, 1, 0]\n"
     ]
    }
   ],
   "source": [
    "print(targets)"
   ]
  },
  {
   "cell_type": "code",
   "execution_count": 27,
   "metadata": {
    "ExecuteTime": {
     "end_time": "2019-10-22T01:46:02.173346Z",
     "start_time": "2019-10-22T01:46:02.171346Z"
    }
   },
   "outputs": [],
   "source": [
    "# p = model_hiragana.predict(inputs)\n",
    "# print(p)"
   ]
  },
  {
   "cell_type": "code",
   "execution_count": 130,
   "metadata": {
    "ExecuteTime": {
     "end_time": "2019-10-22T20:14:09.368178Z",
     "start_time": "2019-10-22T20:14:09.359181Z"
    }
   },
   "outputs": [],
   "source": [
    "x_t, y_t = omni_loader.one_shot_task(N=20, tipo='test')"
   ]
  },
  {
   "cell_type": "code",
   "execution_count": 131,
   "metadata": {
    "ExecuteTime": {
     "end_time": "2019-10-22T20:14:09.800726Z",
     "start_time": "2019-10-22T20:14:09.793733Z"
    }
   },
   "outputs": [
    {
     "name": "stdout",
     "output_type": "stream",
     "text": [
      "[1, 0, 0, 0, 0, 0, 0, 0, 0, 0, 0, 0, 0, 0, 0, 0, 0, 0, 0, 0]\n"
     ]
    }
   ],
   "source": [
    "print(y_t)"
   ]
  },
  {
   "cell_type": "code",
   "execution_count": 132,
   "metadata": {
    "ExecuteTime": {
     "end_time": "2019-10-22T20:14:11.313796Z",
     "start_time": "2019-10-22T20:14:11.130522Z"
    },
    "scrolled": true
   },
   "outputs": [
    {
     "data": {
      "image/png": "[encoded data removed]",
      "text/plain": [
       "<Figure size 432x288 with 2 Axes>"
      ]
     },
     "metadata": {
      "needs_background": "light"
     },
     "output_type": "display_data"
    }
   ],
   "source": [
    "plot_oneshot_task(x_t[0][0], x_t[1], x_s=105, y_s=105)"
   ]
  },
  {
   "cell_type": "code",
   "execution_count": 31,
   "metadata": {
    "ExecuteTime": {
     "end_time": "2019-10-22T01:47:24.896106Z",
     "start_time": "2019-10-22T01:47:00.388755Z"
    }
   },
   "outputs": [
    {
     "name": "stderr",
     "output_type": "stream",
     "text": [
      "W1021 22:47:02.090929  9448 deprecation_wrapper.py:119] From C:\\ProgramData\\Anaconda3\\lib\\site-packages\\keras\\backend\\tensorflow_backend.py:174: The name tf.get_default_session is deprecated. Please use tf.compat.v1.get_default_session instead.\n",
      "\n",
      "W1021 22:47:02.092929  9448 deprecation_wrapper.py:119] From C:\\ProgramData\\Anaconda3\\lib\\site-packages\\keras\\backend\\tensorflow_backend.py:181: The name tf.ConfigProto is deprecated. Please use tf.compat.v1.ConfigProto instead.\n",
      "\n"
     ]
    }
   ],
   "source": [
    "model_hiragana.load_weights('kmodel_weights/gc/omni_model_hiragana_weights_1.h5')"
   ]
  },
  {
   "cell_type": "code",
   "execution_count": 122,
   "metadata": {},
   "outputs": [
    {
     "data": {
      "application/vnd.jupyter.widget-view+json": {
       "model_id": "41096544196a4f9a91bd604c0ffead63",
       "version_major": 2,
       "version_minor": 0
      },
      "text/plain": [
       "HBox(children=(IntProgress(value=0), HTML(value='')))"
      ]
     },
     "metadata": {},
     "output_type": "display_data"
    },
    {
     "name": "stdout",
     "output_type": "stream",
     "text": [
      "Acuracia: 39.0%\n"
     ]
    }
   ],
   "source": [
    "correct = 0\n",
    "n = 100\n",
    "for i in tqdm_notebook(range(0, n)):\n",
    "    x_t, y_t = omni_loader.one_shot_task(N=20, tipo='test')\n",
    "    predict = model_hiragana.predict(x_t)\n",
    "    if np.argmin(predict) == 0:\n",
    "        correct += 1\n",
    "print('Acuracia: {}%'.format((correct/n)*100))  "
   ]
  },
  {
   "cell_type": "code",
   "execution_count": 34,
   "metadata": {
    "ExecuteTime": {
     "end_time": "2019-10-22T01:52:41.809115Z",
     "start_time": "2019-10-22T01:52:41.061544Z"
    }
   },
   "outputs": [
    {
     "data": {
      "text/plain": [
       "3"
      ]
     },
     "execution_count": 34,
     "metadata": {},
     "output_type": "execute_result"
    }
   ],
   "source": [
    "predict = model_hiragana.predict(x_t)\n",
    "np.argmin(predict)"
   ]
  },
  {
   "cell_type": "code",
   "execution_count": 42,
   "metadata": {
    "ExecuteTime": {
     "end_time": "2019-10-22T01:54:46.654364Z",
     "start_time": "2019-10-22T01:54:46.640371Z"
    }
   },
   "outputs": [
    {
     "name": "stdout",
     "output_type": "stream",
     "text": [
      "[[0.39794412]\n",
      " [0.5464858 ]\n",
      " [0.6967162 ]\n",
      " [0.8662625 ]\n",
      " [0.90881   ]\n",
      " [0.9234793 ]\n",
      " [0.9398962 ]\n",
      " [0.97940993]\n",
      " [0.98412955]\n",
      " [0.98460686]\n",
      " [0.9926179 ]\n",
      " [0.993678  ]\n",
      " [0.99888843]\n",
      " [0.9989736 ]\n",
      " [0.9989736 ]\n",
      " [0.999514  ]\n",
      " [0.99978113]\n",
      " [0.9998758 ]\n",
      " [0.99992347]\n",
      " [0.9999392 ]]\n"
     ]
    }
   ],
   "source": [
    "print(np.sort(predict, kind='mergesort', axis=0))"
   ]
  },
  {
   "cell_type": "code",
   "execution_count": 94,
   "metadata": {
    "ExecuteTime": {
     "end_time": "2019-10-22T02:40:15.334868Z",
     "start_time": "2019-10-22T02:40:15.328872Z"
    }
   },
   "outputs": [],
   "source": [
    "df = pd.DataFrame(data={'indice':is_, \n",
    "                        'predict':predict.reshape((len(predict)))})"
   ]
  },
  {
   "cell_type": "code",
   "execution_count": 96,
   "metadata": {
    "ExecuteTime": {
     "end_time": "2019-10-22T02:40:43.839884Z",
     "start_time": "2019-10-22T02:40:43.827905Z"
    }
   },
   "outputs": [
    {
     "data": {
      "text/html": [
       "<div>\n",
       "<style scoped>\n",
       "    .dataframe tbody tr th:only-of-type {\n",
       "        vertical-align: middle;\n",
       "    }\n",
       "\n",
       "    .dataframe tbody tr th {\n",
       "        vertical-align: top;\n",
       "    }\n",
       "\n",
       "    .dataframe thead th {\n",
       "        text-align: right;\n",
       "    }\n",
       "</style>\n",
       "<table border=\"1\" class=\"dataframe\">\n",
       "  <thead>\n",
       "    <tr style=\"text-align: right;\">\n",
       "      <th></th>\n",
       "      <th>indice</th>\n",
       "      <th>predict</th>\n",
       "    </tr>\n",
       "  </thead>\n",
       "  <tbody>\n",
       "    <tr>\n",
       "      <th>3</th>\n",
       "      <td>3</td>\n",
       "      <td>0.397944</td>\n",
       "    </tr>\n",
       "    <tr>\n",
       "      <th>1</th>\n",
       "      <td>1</td>\n",
       "      <td>0.546486</td>\n",
       "    </tr>\n",
       "    <tr>\n",
       "      <th>16</th>\n",
       "      <td>16</td>\n",
       "      <td>0.696716</td>\n",
       "    </tr>\n",
       "    <tr>\n",
       "      <th>15</th>\n",
       "      <td>15</td>\n",
       "      <td>0.866262</td>\n",
       "    </tr>\n",
       "    <tr>\n",
       "      <th>17</th>\n",
       "      <td>17</td>\n",
       "      <td>0.908810</td>\n",
       "    </tr>\n",
       "  </tbody>\n",
       "</table>\n",
       "</div>"
      ],
      "text/plain": [
       "    indice   predict\n",
       "3        3  0.397944\n",
       "1        1  0.546486\n",
       "16      16  0.696716\n",
       "15      15  0.866262\n",
       "17      17  0.908810"
      ]
     },
     "execution_count": 96,
     "metadata": {},
     "output_type": "execute_result"
    }
   ],
   "source": [
    "df.sort_values(by=['predict'])[0:5]"
   ]
  },
  {
   "cell_type": "code",
   "execution_count": 97,
   "metadata": {
    "ExecuteTime": {
     "end_time": "2019-10-22T02:40:52.750700Z",
     "start_time": "2019-10-22T02:40:52.742703Z"
    }
   },
   "outputs": [],
   "source": [
    "b = df.sort_values(by=['predict'])[0:5]"
   ]
  },
  {
   "cell_type": "code",
   "execution_count": 141,
   "metadata": {
    "ExecuteTime": {
     "end_time": "2019-10-22T21:19:57.945534Z",
     "start_time": "2019-10-22T21:19:57.673003Z"
    }
   },
   "outputs": [
    {
     "data": {
      "image/png": "[encoded data removed]",
      "text/plain": [
       "<Figure size 432x288 with 5 Axes>"
      ]
     },
     "metadata": {
      "needs_background": "light"
     },
     "output_type": "display_data"
    }
   ],
   "source": [
    "omni_loader.plot_rank(np.array(b['indice'].tolist()))"
   ]
  },
  {
   "cell_type": "code",
   "execution_count": 144,
   "metadata": {
    "ExecuteTime": {
     "end_time": "2019-10-22T21:24:33.302410Z",
     "start_time": "2019-10-22T21:24:33.110518Z"
    }
   },
   "outputs": [
    {
     "data": {
      "image/png": "[encoded data removed]",
      "text/plain": [
       "<Figure size 432x288 with 1 Axes>"
      ]
     },
     "metadata": {
      "needs_background": "light"
     },
     "output_type": "display_data"
    }
   ],
   "source": [
    "show_image(x_t[0][0].reshape((105,105)))"
   ]
  },
  {
   "cell_type": "code",
   "execution_count": 157,
   "metadata": {
    "ExecuteTime": {
     "end_time": "2019-10-22T22:07:52.569649Z",
     "start_time": "2019-10-22T22:07:33.997422Z"
    }
   },
   "outputs": [
    {
     "data": {
      "image/png": "[encoded data removed]",
      "text/plain": [
       "<Figure size 432x288 with 5 Axes>"
      ]
     },
     "metadata": {
      "needs_background": "light"
     },
     "output_type": "display_data"
    }
   ],
   "source": [
    "omni_loader.image_retrieval(model=model_hiragana, img_search=x_t[0][0])"
   ]
  },
  {
   "cell_type": "code",
   "execution_count": null,
   "metadata": {},
   "outputs": [],
   "source": [
    "def get_batch(self, batch_multiplier = 1, disable_progress_bar = False):\n",
    "        \n",
    "        if type(batch_multiplier) is float:\n",
    "            raise TypeError('batch_multiplier must be an integer')\n",
    "        \n",
    "        n_examples = batch_multiplier*self.train_n_classes\n",
    "        \n",
    "        img_shape = self.train_images[0].shape\n",
    "        pairs = [np.zeros((n_examples, img_shape[0], img_shape[1], self.image_channel)) for i in range(2)]\n",
    "        categs_list = []\n",
    "        targets = []\n",
    "        \n",
    "        images = self.train_images\n",
    "        labels = self.train_labels\n",
    "        n_classes = self.train_n_classes\n",
    "        \n",
    "        k = 0\n",
    "        for i in tqdm_notebook(range(0, batch_multiplier), disable = disable_progress_bar):\n",
    "            img_1 = None\n",
    "            img_2 = None\n",
    "            \n",
    "            for j in range(0, n_classes):\n",
    "                idx_1, categ_1 = self._get_index(labels, j, images)\n",
    "                img_1 = self.train_images[idx_1]\n",
    "                idx_2, categ_2 = self._get_index(labels, j, images)\n",
    "                img_2 = images[idx_2]\n",
    "                categs_list.append([categ_1,categ_2])\n",
    "                target = 1\n",
    "                \n",
    "                pairs[0][k] = img_1.reshape((self.train_shape[0], self.train_shape[1], self.image_channel))\n",
    "                pairs[1][k] = img_2.reshape((self.train_shape[0], self.train_shape[1], self.image_channel))\n",
    "                targets.append(target)\n",
    "                k += 1\n",
    "            \n",
    "            for j_ in range(0, n_classes):\n",
    "                idx_1, categ_1 = self._get_index(labels, j_, images)\n",
    "                img_1 = self.train_images[idx_1]\n",
    "                idx_2, categ_2 = self._get_false_index(labels, j_, images)\n",
    "                img_2 = images[idx_2]\n",
    "                categs_list.append([categ_1,categ_2])\n",
    "                target = 0\n",
    "                \n",
    "                pairs[0][k] = img_1.reshape((self.train_shape[0], self.train_shape[1], self.image_channel))\n",
    "                pairs[1][k] = img_2.reshape((self.train_shape[0], self.train_shape[1], self.image_channel))\n",
    "                targets.append(target)\n",
    "                k += 1\n",
    "\n",
    "            \n",
    "        pairs[0] /= 255.\n",
    "        pairs[1] /= 255.\n",
    "        \n",
    "        return pairs, targets, categs_list"
   ]
  }
 ],
 "metadata": {
  "kernelspec": {
   "display_name": "Python 3",
   "language": "python",
   "name": "python3"
  },
  "language_info": {
   "codemirror_mode": {
    "name": "ipython",
    "version": 3
   },
   "file_extension": ".py",
   "mimetype": "text/x-python",
   "name": "python",
   "nbconvert_exporter": "python",
   "pygments_lexer": "ipython3",
   "version": "3.7.3"
  },
  "latex_envs": {
   "LaTeX_envs_menu_present": true,
   "autoclose": false,
   "autocomplete": true,
   "bibliofile": "biblio.bib",
   "cite_by": "apalike",
   "current_citInitial": 1,
   "eqLabelWithNumbers": true,
   "eqNumInitial": 1,
   "hotkeys": {
    "equation": "Ctrl-E",
    "itemize": "Ctrl-I"
   },
   "labels_anchors": false,
   "latex_user_defs": false,
   "report_style_numbering": false,
   "user_envs_cfg": false
  }
 },
 "nbformat": 4,
 "nbformat_minor": 2
}
