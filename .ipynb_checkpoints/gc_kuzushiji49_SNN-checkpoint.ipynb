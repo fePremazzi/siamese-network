{
 "cells": [
  {
   "cell_type": "code",
   "execution_count": 1,
   "metadata": {
    "ExecuteTime": {
     "end_time": "2019-10-23T17:58:18.120153Z",
     "start_time": "2019-10-23T17:58:13.905359Z"
    },
    "code_folding": []
   },
   "outputs": [
    {
     "name": "stderr",
     "output_type": "stream",
     "text": [
      "Using TensorFlow backend.\n"
     ]
    }
   ],
   "source": [
    "# Import Keras and other Deep Learning dependencies\n",
    "from keras.models import Sequential\n",
    "from keras.optimizers import Adam\n",
    "from keras.layers import Conv2D, ZeroPadding2D, Activation, Input, concatenate\n",
    "from keras.models import Model, load_model\n",
    "from keras.layers.normalization import BatchNormalization\n",
    "from keras.layers.pooling import MaxPooling2D, AveragePooling2D\n",
    "from keras.layers.merge import Concatenate\n",
    "from keras.layers.core import Lambda, Flatten, Dense, Dropout\n",
    "from keras.initializers import glorot_uniform\n",
    "from sklearn.preprocessing import LabelBinarizer\n",
    "from keras.optimizers import *\n",
    "from keras.engine.topology import Layer\n",
    "from keras.regularizers import l2\n",
    "import cv2\n",
    "import sys\n",
    "import h5py\n",
    "import numpy as np\n",
    "import pandas as pd\n",
    "import matplotlib.pyplot as plt\n",
    "import time\n",
    "import os\n",
    "from tqdm import tqdm_notebook\n",
    "from sklearn.metrics import accuracy_score\n",
    "from sklearn import metrics\n",
    "from collections import Counter \n",
    "from IPython.display import clear_output\n",
    "import pandas as pd\n",
    "from matplotlib import gridspec"
   ]
  },
  {
   "cell_type": "code",
   "execution_count": 2,
   "metadata": {
    "ExecuteTime": {
     "end_time": "2019-10-23T17:58:21.152763Z",
     "start_time": "2019-10-23T17:58:21.125766Z"
    }
   },
   "outputs": [],
   "source": [
    "def initialize_weights(shape, name=None):\n",
    "    \"\"\"\n",
    "        The paper, http://www.cs.utoronto.ca/~gkoch/files/msc-thesis.pdf\n",
    "        suggests to initialize CNN layer weights with mean as 0.0 and standard deviation of 0.01\n",
    "    \"\"\"\n",
    "    return np.random.normal(loc = 0.0, scale = 1e-2, size = shape)\n",
    "\n",
    "def initialize_bias(shape, name=None):\n",
    "    \"\"\"\n",
    "        The paper, http://www.cs.utoronto.ca/~gkoch/files/msc-thesis.pdf\n",
    "        suggests to initialize CNN layer bias with mean as 0.5 and standard deviation of 0.01\n",
    "    \"\"\"\n",
    "    return np.random.normal(loc = 0.5, scale = 1e-2, size = shape)\n",
    "\n",
    "def get_siamese_model(input_shape, similarity_metric='l1', verbose=True):\n",
    "    \"\"\"\n",
    "        Model architecture based on the one provided in: http://www.cs.utoronto.ca/~gkoch/files/msc-thesis.pdf\n",
    "    \"\"\"\n",
    "    left_input = Input(input_shape)\n",
    "    right_input = Input(input_shape)\n",
    "#     model = Sequential()\n",
    "#     model.add(Conv2D(32, (3,3), activation='relu', input_shape=input_shape,\n",
    "#                     kernel_initializer=initialize_weights, \n",
    "#                     kernel_regularizer=l2(2e-4)))\n",
    "    \n",
    "#     model.add(Conv2D(64, (3,3), activation='relu', input_shape=input_shape,\n",
    "#                     kernel_initializer=initialize_weights, \n",
    "#                     kernel_regularizer=l2(2e-4)))    \n",
    "#     model.add(MaxPooling2D(pool_size=(2, 2)))\n",
    "    \n",
    "#     model.add(Dropout(0.25))\n",
    "#     model.add(Flatten())\n",
    "    \n",
    "#     model.add(Dense(128, activation='relu'))\n",
    "#     model.add(Dropout(0.25))\n",
    "    \n",
    "#     model.add(Dense(input_shape[0]**2, activation='sigmoid', kernel_initializer=initialize_weights,\n",
    "#                     bias_initializer=initialize_bias, \n",
    "#                     kernel_regularizer=l2(1e-3),))\n",
    "    \n",
    "    model = Sequential()\n",
    "    model.add(Conv2D(64, (10,10), activation='relu', input_shape=input_shape,\n",
    "                   kernel_initializer=initialize_weights, kernel_regularizer=l2(2e-4)))\n",
    "    model.add(MaxPooling2D())\n",
    "    model.add(Conv2D(128, (7,7), activation='relu',\n",
    "                     kernel_initializer=initialize_weights,\n",
    "                     bias_initializer=initialize_bias, kernel_regularizer=l2(2e-4)))\n",
    "    model.add(MaxPooling2D())\n",
    "    model.add(Conv2D(128, (4,4), activation='relu', kernel_initializer=initialize_weights,\n",
    "                     bias_initializer=initialize_bias, kernel_regularizer=l2(2e-4)))\n",
    "    model.add(MaxPooling2D())\n",
    "    model.add(Conv2D(256, (4,4), activation='relu', kernel_initializer=initialize_weights,\n",
    "                     bias_initializer=initialize_bias, kernel_regularizer=l2(2e-4)))\n",
    "    model.add(Flatten())\n",
    "    model.add(Dense(4096, activation='sigmoid',\n",
    "                   kernel_regularizer=l2(1e-3),\n",
    "                   kernel_initializer=initialize_weights,bias_initializer=initialize_bias))\n",
    "    \n",
    "    # Generate the encodings (feature vectors) for the two images\n",
    "    encoded_l = model(left_input)\n",
    "    encoded_r = model(right_input)\n",
    "    \n",
    "    # Add a customized layer to compute the absolute difference between the encodings\n",
    "    if similarity_metric == 'l1':\n",
    "        Similarity_layer = Lambda(lambda tensors:K.abs(tensors[0] - tensors[1]))        \n",
    "    elif siamese_metric == 'l2':\n",
    "        Similarity_layer = Lambda(lambda tensors:K.sqrt(K.square(tensors[0] - tensors[1])))\n",
    "    elif siamese_metric == 'cross': ## TODO\n",
    "        Similarity_layer = Lambda(lambda tensors:K.abs(tensors[0] - tensors[1]))     \n",
    "        \n",
    "    Similarity_distance = Similarity_layer([encoded_l, encoded_r])\n",
    "    \n",
    "    # Add a dense layer with a sigmoid unit to generate the similarity score\n",
    "    prediction = Dense(1,activation='sigmoid',bias_initializer=initialize_bias)(Similarity_distance)\n",
    "    \n",
    "    # Connect the input with the outputs\n",
    "    siamese_net = Model(inputs=[left_input,right_input],outputs=prediction)\n",
    "    if verbose:\n",
    "        model.summary()\n",
    "    return siamese_net"
   ]
  },
  {
   "cell_type": "code",
   "execution_count": 3,
   "metadata": {
    "ExecuteTime": {
     "end_time": "2019-10-23T17:58:21.337269Z",
     "start_time": "2019-10-23T17:58:21.331271Z"
    }
   },
   "outputs": [],
   "source": [
    "def contrastive_loss(y_true, y_pred):\n",
    "    '''Contrastive loss from Hadsell-et-al.'06\n",
    "    http://yann.lecun.com/exdb/publis/pdf/hadsell-chopra-lecun-06.pdf\n",
    "    '''\n",
    "    margin = 1\n",
    "    square_pred = K.square(y_pred)\n",
    "    margin_square = K.square(K.maximum(margin - y_pred, 0))\n",
    "    return K.mean(y_true * square_pred + (1 - y_true) * margin_square)"
   ]
  },
  {
   "cell_type": "code",
   "execution_count": 63,
   "metadata": {
    "ExecuteTime": {
     "end_time": "2019-10-23T18:11:00.440490Z",
     "start_time": "2019-10-23T18:11:00.363537Z"
    },
    "code_folding": []
   },
   "outputs": [],
   "source": [
    "class Siamese_Loader:\n",
    "    def __init__(self, train_path=None, \n",
    "                 test_path=None, dataset_type = '49kmnist',\n",
    "                 images=None, labels=None, img_channel=1):\n",
    "        \"\"\"\n",
    "        Loads dataset\n",
    "        \n",
    "        Parameters\n",
    "        -----------\n",
    "        \n",
    "        train_path ... list[train_images, train_labels]\n",
    "        test_path ... list[test_images, test_labels]\n",
    "        \n",
    "        \"\"\"\n",
    "        self.train_images = []\n",
    "        self.train_labels = []\n",
    "        self.train_path = train_path\n",
    "        \n",
    "        self.test_images = []\n",
    "        self.test_labels = []        \n",
    "        self.test_path = test_path\n",
    "        \n",
    "        self.dataset_type = dataset_type        \n",
    "        \n",
    "        if train_path is None and test_path is None:\n",
    "            self.train_images = images[0]\n",
    "            self.train_labels = labels[0]\n",
    "            self.test_images = images[1]\n",
    "            self.test_labels = labels[1] \n",
    "        \n",
    "        else:        \n",
    "            print('Loading Train images')\n",
    "            self.train_images = self._load(self.train_path[0])\n",
    "\n",
    "            print('Loading Test images')\n",
    "            self.test_images = self._load(self.test_path[0])\n",
    "\n",
    "            print('Loading Train labels')\n",
    "            self.train_labels = self._load(self.train_path[1])\n",
    "\n",
    "            print('Loading Test labels')\n",
    "            self.test_labels = self._load(self.test_path[1])\n",
    "\n",
    "        self.train_n_classes = len(np.unique(self.train_labels))\n",
    "        self.test_n_classes = len(np.unique(self.test_labels))\n",
    "        \n",
    "        self.train_shape = self.train_images[0].shape\n",
    "        self.test_shape = self.test_images[0].shape\n",
    "        \n",
    "        self.image_channel = img_channel\n",
    "        \n",
    "    def _load(self, f):\n",
    "        return np.load(f)['arr_0']\n",
    "        \n",
    "    def _get_index(self, labels, i, images):\n",
    "        while True:\n",
    "            idx = np.random.randint(0, len(images))\n",
    "            if labels[idx] == i:\n",
    "                return idx, labels[idx]\n",
    "            \n",
    "    def _get_false_index(self, labels, i, images):\n",
    "        while True:\n",
    "            idx = np.random.randint(0, len(images))\n",
    "            if labels[idx] != i:\n",
    "                return idx, labels[idx]\n",
    "            \n",
    "    def get_batch(self, batch_multiplier = 1, disable_progress_bar = False):\n",
    "        \n",
    "        if type(batch_multiplier) is float:\n",
    "            raise TypeError('batch_multiplier must be an integer')\n",
    "        \n",
    "        n_examples = batch_multiplier*self.train_n_classes*2\n",
    "        \n",
    "        img_shape = self.train_images[0].shape\n",
    "        pairs = [np.zeros((n_examples, img_shape[0], img_shape[1], self.image_channel)) for i in range(2)]\n",
    "        categs_list = []\n",
    "        targets = []\n",
    "        \n",
    "        images = self.train_images\n",
    "        labels = self.train_labels\n",
    "        n_classes = self.train_n_classes\n",
    "        \n",
    "        k = 0\n",
    "        for i in tqdm_notebook(range(0, batch_multiplier), disable = disable_progress_bar):\n",
    "            img_1 = None\n",
    "            img_2 = None\n",
    "            \n",
    "            for j in range(0, n_classes):\n",
    "                idx_1, categ_1 = self._get_index(labels, j, images)\n",
    "                img_1 = self.train_images[idx_1]\n",
    "                idx_2, categ_2 = self._get_index(labels, j, images)\n",
    "                img_2 = images[idx_2]\n",
    "                categs_list.append([categ_1,categ_2])\n",
    "                target = 1\n",
    "                \n",
    "                pairs[0][k] = img_1.reshape((self.train_shape[0], self.train_shape[1], self.image_channel))\n",
    "                pairs[1][k] = img_2.reshape((self.train_shape[0], self.train_shape[1], self.image_channel))\n",
    "                targets.append(target)\n",
    "                k += 1\n",
    "            \n",
    "            for j_ in range(0, n_classes):\n",
    "                idx_1, categ_1 = self._get_index(labels, j_, images)\n",
    "                img_1 = self.train_images[idx_1]\n",
    "                idx_2, categ_2 = self._get_false_index(labels, j_, images)\n",
    "                img_2 = images[idx_2]\n",
    "                categs_list.append([categ_1,categ_2])\n",
    "                target = 0\n",
    "                \n",
    "                pairs[0][k] = img_1.reshape((self.train_shape[0], self.train_shape[1], self.image_channel))\n",
    "                pairs[1][k] = img_2.reshape((self.train_shape[0], self.train_shape[1], self.image_channel))\n",
    "                targets.append(target)\n",
    "                k += 1\n",
    "\n",
    "            \n",
    "        pairs[0] /= 255.\n",
    "        pairs[1] /= 255.\n",
    "        \n",
    "        return pairs, targets, categs_list\n",
    "                    \n",
    "        \n",
    "    def one_shot_task(self, N = 49, tipo = 'train'):\n",
    "        \"\"\"\n",
    "        Create a set of pairs, targets for N-way one shot learning.\n",
    "        \"\"\"\n",
    "        if tipo == 'train':\n",
    "            images = self.train_images\n",
    "            labels = self.train_labels\n",
    "            n_classes = self.train_n_classes\n",
    "        else:\n",
    "            images = self.test_images\n",
    "            labels = self.test_labels\n",
    "            n_classes = self.test_n_classes\n",
    "            \n",
    "        \n",
    "        img_shape = images[0].shape\n",
    "        pairs = [np.zeros((N, img_shape[0], img_shape[1], self.image_channel)) for i in range(2)]\n",
    "        targets = []\n",
    "        idxs_pairs = []\n",
    "        k = 0\n",
    "        \n",
    "        i_sorteado = np.random.randint(0,n_classes)\n",
    "        \n",
    "        idx_base, categ_base = self._get_index(labels, i_sorteado, images)\n",
    "        img_base = images[idx_base]\n",
    "        \n",
    "\n",
    "        idx_pair, categ_pair = self._get_index(labels, i_sorteado, images)\n",
    "        img_pair = images[idx_pair]\n",
    "        idxs_pairs.append(idx_pair)\n",
    "        \n",
    "        pairs[0][k] = img_base.reshape((self.train_shape[0], self.train_shape[1], self.image_channel))\n",
    "        pairs[1][k] = img_pair.reshape((self.train_shape[0], self.train_shape[1], self.image_channel))\n",
    "        targets.append(1)\n",
    "        \n",
    "        for j in range(1, N):\n",
    "            \n",
    "            idx_pair, categ_pair = self._get_false_index(labels, i_sorteado, images)\n",
    "            img_pair = images[idx_pair]\n",
    "            idxs_pairs.append(idx_pair)\n",
    "\n",
    "\n",
    "            if categ_base == categ_pair:\n",
    "                targets.append(1)\n",
    "            else:\n",
    "                targets.append(0)\n",
    "            \n",
    "            k += 1\n",
    "            pairs[0][k] = img_base.reshape((self.train_shape[0],self.train_shape[1],self.image_channel))\n",
    "            pairs[1][k] = img_pair.reshape((self.train_shape[0],self.train_shape[1],self.image_channel))\n",
    "\n",
    "            \n",
    "        \n",
    "        pairs[0] /= 255.\n",
    "        pairs[1] /= 255.\n",
    "        \n",
    "        return pairs, targets, idxs_pairs\n",
    "    \n",
    "    def test_oneshot(self, model, N, k, verbose=True, tipo = 'test'):\n",
    "        \"\"\"Test average N way oneshot learning accuracy of a siamese neural net over k one-shot tasks\"\"\"\n",
    "        n_correct = 0\n",
    "        if verbose:\n",
    "            print(\"Evaluating model on {} random {} way one-shot learning tasks ... \\n\".format(k,N))\n",
    "        for i in range(k):\n",
    "            inputs, targets = self.one_shot_task(N, tipo = tipo)\n",
    "            probs = model.predict(inputs)\n",
    "            probs = 1-probs\n",
    "            if np.argmax(probs) == np.argmax(targets):\n",
    "                n_correct+=1\n",
    "        percent_correct = (100.0*n_correct / k)\n",
    "        if verbose:\n",
    "            print(\"Got an average of {}% {} way one-shot learning accuracy \\n\".format(percent_correct,N))\n",
    "        return percent_correct\n",
    "    \n",
    "    def image_retrieval(self, model, img_search, top_n=5):\n",
    "        images = self.test_images\n",
    "        labels = self.test_labels\n",
    "        n_imgs = len(images)\n",
    "        \n",
    "        img_shape = images[0].shape\n",
    "        pairs = [np.zeros((n_imgs, img_shape[0], img_shape[1], self.image_channel)) for i in range(2)]\n",
    "        targets = []\n",
    "        idx_imgs = []\n",
    "        k = 0\n",
    "        \n",
    "        img_base = img_search\n",
    "        \n",
    "        for i in range(0, n_imgs):            \n",
    "            img_pair = images[i]\n",
    "            pairs[0][k] = img_base.reshape((img_shape[0], img_shape[1], self.image_channel))\n",
    "            pairs[1][k] = img_pair.reshape((img_shape[0], img_shape[1], self.image_channel))\n",
    "            idx_imgs.append(i)\n",
    "            k += 1\n",
    "        \n",
    "        pairs[0] /= 255.\n",
    "        pairs[1] /= 255.\n",
    "        \n",
    "        predict = model.predict(pairs)\n",
    "        df = pd.DataFrame(data={'indice':idx_imgs, 'predict':predict.reshape((len(predict)))})\n",
    "        df_N = df.sort_values(by=['predict'])[0:top_n]\n",
    "        ranking_list = df_N['indice'].tolist()\n",
    "        \n",
    "        self.plot_rank(idxs=np.array(ranking_list))\n",
    "        return ranking_list, df\n",
    "    \n",
    "    def plot_rank(self, idxs):\n",
    "        if type(idxs) != np.ndarray:\n",
    "            idxs = np.array([idxs])\n",
    "        fig = plt.figure()\n",
    "        gs = gridspec.GridSpec(1,len(idxs))\n",
    "        for i in range(len(idxs)):\n",
    "            ax = fig.add_subplot(gs[0,i])\n",
    "            ax.imshow(self.test_images[idxs[i]], cmap='gray')\n",
    "            ax.axis('off')\n",
    "        plt.show()"
   ]
  },
  {
   "cell_type": "code",
   "execution_count": 5,
   "metadata": {
    "ExecuteTime": {
     "end_time": "2019-10-23T17:58:22.140137Z",
     "start_time": "2019-10-23T17:58:22.128143Z"
    }
   },
   "outputs": [],
   "source": [
    "def concat_images(X):\n",
    "    \"\"\"Concatenates a bunch of images into a big matrix for plotting purposes.\"\"\"\n",
    "    nc, h , w, _ = X.shape\n",
    "    X = X.reshape(nc, h, w)\n",
    "    n = np.ceil(np.sqrt(nc)).astype(\"int8\")\n",
    "    img = np.zeros((n*w,n*h))\n",
    "    x = 0\n",
    "    y = 0\n",
    "    for example in range(nc):\n",
    "        img[x*w:(x+1)*w,y*h:(y+1)*h] = X[example]\n",
    "        y += 1\n",
    "        if y >= n:\n",
    "            y = 0\n",
    "            x += 1\n",
    "    return img\n",
    "\n",
    "\n",
    "def plot_oneshot_task(ref, comparativas, x_s = 28, y_s = 28):\n",
    "    fig,(ax1,ax2) = plt.subplots(2)\n",
    "    ax1.matshow(ref.reshape(x_s,y_s), cmap='gray')\n",
    "    img = concat_images(comparativas)\n",
    "    ax1.get_yaxis().set_visible(False)\n",
    "    ax1.get_xaxis().set_visible(False)\n",
    "    ax2.matshow(img,cmap='gray')\n",
    "    plt.xticks([])\n",
    "    plt.yticks([])\n",
    "    plt.show()\n",
    "    \n",
    "def show_image(img):\n",
    "    plt.imshow(img, cmap=\"gray\")\n",
    "    plt.show()"
   ]
  },
  {
   "cell_type": "code",
   "execution_count": null,
   "metadata": {
    "ExecuteTime": {
     "end_time": "2019-10-18T17:58:49.552746Z",
     "start_time": "2019-10-18T17:58:49.524759Z"
    }
   },
   "outputs": [],
   "source": [
    "for i in tqdm_notebook(range(0,10), disable = False):\n",
    "    pass"
   ]
  },
  {
   "cell_type": "code",
   "execution_count": null,
   "metadata": {
    "ExecuteTime": {
     "end_time": "2019-10-17T21:58:37.504305Z",
     "start_time": "2019-10-17T21:58:37.500310Z"
    }
   },
   "outputs": [],
   "source": [
    "# batch_size = 128\n",
    "# num_classes = 10\n",
    "# epochs = 12"
   ]
  },
  {
   "cell_type": "code",
   "execution_count": null,
   "metadata": {
    "ExecuteTime": {
     "end_time": "2019-10-18T15:02:28.189449Z",
     "start_time": "2019-10-18T15:02:28.186451Z"
    }
   },
   "outputs": [],
   "source": [
    "# def load(f):\n",
    "#     return np.load(f)['arr_0']"
   ]
  },
  {
   "cell_type": "code",
   "execution_count": null,
   "metadata": {
    "ExecuteTime": {
     "end_time": "2019-10-17T21:58:38.476549Z",
     "start_time": "2019-10-17T21:58:38.471552Z"
    }
   },
   "outputs": [],
   "source": [
    "# Load the data\n",
    "# x_train = load('dataset/kuzushiji-mnist/k49-train-imgs.npz')\n",
    "# x_test = load('dataset/kuzushiji-mnist/k49-test-imgs.npz')\n",
    "# y_train = load('dataset/kuzushiji-mnist/k49-train-labels.npz')\n",
    "# y_test = load('dataset/kuzushiji-mnist/k49-test-labels.npz')"
   ]
  },
  {
   "cell_type": "code",
   "execution_count": null,
   "metadata": {
    "ExecuteTime": {
     "end_time": "2019-10-17T21:58:39.044902Z",
     "start_time": "2019-10-17T21:58:39.039893Z"
    }
   },
   "outputs": [],
   "source": [
    "# ys = list()\n",
    "# for y in y_train:\n",
    "#     if y not in ys:\n",
    "#         ys.append(y)\n",
    "# print('N classes: {}'.format(len(ys)))\n",
    "# print(len(Counter(y_train).keys()))\n",
    "# np.unique(y_train, return_counts=True)"
   ]
  },
  {
   "cell_type": "code",
   "execution_count": null,
   "metadata": {
    "ExecuteTime": {
     "end_time": "2019-10-17T22:08:22.519235Z",
     "start_time": "2019-10-17T22:08:22.335325Z"
    }
   },
   "outputs": [],
   "source": [
    "w = x_train[99]\n",
    "\n",
    "plt.imshow(w, cmap=\"gray\")\n",
    "\n",
    "plt.show()"
   ]
  },
  {
   "cell_type": "markdown",
   "metadata": {},
   "source": [
    "# Model"
   ]
  },
  {
   "cell_type": "code",
   "execution_count": null,
   "metadata": {
    "ExecuteTime": {
     "end_time": "2019-10-18T19:13:53.628015Z",
     "start_time": "2019-10-18T19:13:52.969397Z"
    }
   },
   "outputs": [],
   "source": [
    "model = get_siamese_model((28, 28, 1), verbose=True)\n",
    "model.compile(loss=contrastive_loss,optimizer=Adam(lr = 0.00006))\n",
    "# model.compile(loss=contrastive_loss,optimizer=Adadelta())\n",
    "# model.compile(loss='binary_crossentropy',optimizer=Adam(lr = 0.00006))\n",
    "model.summary()"
   ]
  },
  {
   "cell_type": "markdown",
   "metadata": {},
   "source": [
    "## Loading dataset"
   ]
  },
  {
   "cell_type": "code",
   "execution_count": null,
   "metadata": {
    "ExecuteTime": {
     "end_time": "2019-10-18T19:05:24.732907Z",
     "start_time": "2019-10-18T19:05:23.298733Z"
    },
    "scrolled": false
   },
   "outputs": [],
   "source": [
    "loader = Siamese_Loader(train_path=['dataset/kuzushiji-mnist/k49-train-imgs.npz',\n",
    "                                    'dataset/kuzushiji-mnist/k49-train-labels.npz'],\n",
    "                       test_path=['dataset/kuzushiji-mnist/k49-test-imgs.npz',\n",
    "                                  'dataset/kuzushiji-mnist/k49-test-labels.npz'])"
   ]
  },
  {
   "cell_type": "code",
   "execution_count": null,
   "metadata": {
    "ExecuteTime": {
     "end_time": "2019-10-18T19:05:25.927015Z",
     "start_time": "2019-10-18T19:05:25.924016Z"
    },
    "scrolled": false
   },
   "outputs": [],
   "source": [
    "#train_pairs, train_targets = loader.get_batch(batch_multiplier=2)"
   ]
  },
  {
   "cell_type": "code",
   "execution_count": null,
   "metadata": {
    "ExecuteTime": {
     "end_time": "2019-10-18T19:45:59.441607Z",
     "start_time": "2019-10-18T19:45:59.429614Z"
    }
   },
   "outputs": [],
   "source": [
    "N = 10\n",
    "test_pairs, test_targets = loader.one_shot_task(N=N, tipo='test')\n",
    "print(test_targets)\n",
    "\n",
    "plot_oneshot_task(test_pairs[0][9], test_pairs[1][:N])"
   ]
  },
  {
   "cell_type": "markdown",
   "metadata": {},
   "source": [
    "# Training pipeline 1"
   ]
  },
  {
   "cell_type": "code",
   "execution_count": 161,
   "metadata": {
    "ExecuteTime": {
     "end_time": "2019-10-23T01:18:11.984453Z",
     "start_time": "2019-10-23T01:18:11.975456Z"
    }
   },
   "outputs": [],
   "source": [
    "evaluate = 100 # interval for evaluating on one-shot tasks and losses\n",
    "batch_multiplier = 5\n",
    "n_iter = 2000 # 20000\n",
    "best = -1\n",
    "N_way = 10\n",
    "data_path = 'kmodel_weights/'\n",
    "weights_path_2 = 'kmodel_weights/kmodel_weights_1.h5'"
   ]
  },
  {
   "cell_type": "code",
   "execution_count": null,
   "metadata": {
    "ExecuteTime": {
     "end_time": "2019-10-19T03:34:29.191535Z",
     "start_time": "2019-10-19T03:34:22.503428Z"
    }
   },
   "outputs": [],
   "source": [
    "print(\"Starting training process!\")\n",
    "print(\"##############################################################\")\n",
    "t_start = time.time()\n",
    "for i in tqdm_notebook(range(1, n_iter)):\n",
    "    \n",
    "    inputs, targets = loader.get_batch(batch_multiplier, disable_progress_bar=True)\n",
    "    \n",
    "    loss=model.train_on_batch(inputs,targets)\n",
    "    \n",
    "    if i % evaluate == 0:\n",
    "        clear_output()\n",
    "        print(\"Time for {0} iterations: {1}\".format(i, time.time()-t_start))\n",
    "        val_acc = loader.test_oneshot(model,N_way,20,verbose=True)\n",
    "        if val_acc >= best:\n",
    "            print(\"Current best: {0}, previous best: {1}\".format(val_acc, best))\n",
    "            print(\"Saving weights to: {0} \\n\".format(weights_path_2))\n",
    "            model.save_weights(weights_path_2)\n",
    "            best=val_acc   \n",
    "    \n",
    "        print(\"iteration {}, training loss: {:.2f},\".format(i,loss))\n",
    "        print('---------------------------------------------------------------------------------')\n",
    "\n",
    "        \n",
    "# weights_path_2 = os.path.join(data_path, \"model_weights.h5\")\n",
    "# model.load_weights(weights_path_2)"
   ]
  },
  {
   "cell_type": "markdown",
   "metadata": {},
   "source": [
    "# Training pipeline 2"
   ]
  },
  {
   "cell_type": "code",
   "execution_count": null,
   "metadata": {
    "ExecuteTime": {
     "end_time": "2019-10-18T18:31:39.474335Z",
     "start_time": "2019-10-18T18:29:13.836649Z"
    }
   },
   "outputs": [],
   "source": [
    "model.fit(x=train_pairs, y=train_targets, epochs=2000) "
   ]
  },
  {
   "cell_type": "code",
   "execution_count": null,
   "metadata": {
    "ExecuteTime": {
     "end_time": "2019-10-18T18:31:48.152746Z",
     "start_time": "2019-10-18T18:31:48.127762Z"
    }
   },
   "outputs": [],
   "source": [
    "weight_path_fit = 'kmodel_weights/model_weights_2_10.h5'\n",
    "model.save_weights(weight_path_fit)"
   ]
  },
  {
   "cell_type": "code",
   "execution_count": null,
   "metadata": {
    "ExecuteTime": {
     "end_time": "2019-10-18T18:31:50.860636Z",
     "start_time": "2019-10-18T18:31:50.853643Z"
    }
   },
   "outputs": [],
   "source": [
    "len(test_pairs[0])"
   ]
  },
  {
   "cell_type": "code",
   "execution_count": null,
   "metadata": {
    "ExecuteTime": {
     "end_time": "2019-10-18T19:48:50.969775Z",
     "start_time": "2019-10-18T19:48:50.859837Z"
    }
   },
   "outputs": [],
   "source": [
    "N = 10\n",
    "test_pairs, test_targets = loader.one_shot_task(N=N, tipo='test')\n",
    "plot_oneshot_task(test_pairs[0][9], test_pairs[1][:N])"
   ]
  },
  {
   "cell_type": "code",
   "execution_count": null,
   "metadata": {
    "ExecuteTime": {
     "end_time": "2019-10-18T19:48:51.502632Z",
     "start_time": "2019-10-18T19:48:51.469649Z"
    }
   },
   "outputs": [],
   "source": [
    "predict = model.predict(x=test_pairs)\n",
    "predict"
   ]
  },
  {
   "cell_type": "code",
   "execution_count": null,
   "metadata": {
    "ExecuteTime": {
     "end_time": "2019-10-18T15:58:27.174831Z",
     "start_time": "2019-10-18T15:58:27.171831Z"
    }
   },
   "outputs": [],
   "source": [
    "# fpr, tpr, thresholds = metrics.roc_curve(test_targets, predict)\n",
    "# metrics.auc(fpr, tpr)"
   ]
  },
  {
   "cell_type": "markdown",
   "metadata": {},
   "source": [
    "# OMNIGLOT - ひらがな"
   ]
  },
  {
   "cell_type": "code",
   "execution_count": 8,
   "metadata": {},
   "outputs": [],
   "source": [
    "#!pip install scipy==1.1.0"
   ]
  },
  {
   "cell_type": "code",
   "execution_count": 6,
   "metadata": {
    "ExecuteTime": {
     "end_time": "2019-10-23T17:58:28.064010Z",
     "start_time": "2019-10-23T17:58:27.562335Z"
    }
   },
   "outputs": [
    {
     "name": "stdout",
     "output_type": "stream",
     "text": [
      "loading alphabet: Japanese_(hiragana)\n",
      "loading alphabet: Japanese_(hiragana)\n"
     ]
    }
   ],
   "source": [
    "from load_data import *"
   ]
  },
  {
   "cell_type": "code",
   "execution_count": 7,
   "metadata": {
    "ExecuteTime": {
     "end_time": "2019-10-23T17:58:29.944449Z",
     "start_time": "2019-10-23T17:58:29.938451Z"
    }
   },
   "outputs": [],
   "source": [
    "data_path = os.path.join('dataset/omniglot')\n",
    "train_folder = os.path.join(data_path,'images_train')\n",
    "valpath = os.path.join(data_path,'images_test')"
   ]
  },
  {
   "cell_type": "code",
   "execution_count": 8,
   "metadata": {
    "ExecuteTime": {
     "end_time": "2019-10-23T17:58:30.661034Z",
     "start_time": "2019-10-23T17:58:30.599069Z"
    }
   },
   "outputs": [
    {
     "name": "stdout",
     "output_type": "stream",
     "text": [
      "Training alphabets: \n",
      "\n",
      "['Japanese_(hiragana)']\n",
      "Validation alphabets:\n",
      "\n",
      "['Japanese_(hiragana)']\n"
     ]
    }
   ],
   "source": [
    "with open(os.path.join(data_path, \"pickle/train.pickle\"), \"rb\") as f:\n",
    "    (X, classes) = pickle.load(f)\n",
    "\n",
    "with open(os.path.join(data_path, \"pickle/val.pickle\"), \"rb\") as f:\n",
    "    (Xval, val_classes) = pickle.load(f)\n",
    "    \n",
    "print(\"Training alphabets: \\n\")\n",
    "print(list(classes.keys()))\n",
    "print(\"Validation alphabets:\", end=\"\\n\\n\")\n",
    "print(list(val_classes.keys()))"
   ]
  },
  {
   "cell_type": "code",
   "execution_count": 82,
   "metadata": {
    "ExecuteTime": {
     "end_time": "2019-10-23T18:21:36.466243Z",
     "start_time": "2019-10-23T18:21:36.431277Z"
    }
   },
   "outputs": [],
   "source": [
    "x_train = []\n",
    "y_train = []\n",
    "x_test = []\n",
    "y_test = []\n",
    "\n",
    "target = 0\n",
    "for classe in X:    \n",
    "    for img in classe:\n",
    "        x_train.append(255 - img)\n",
    "        y_train.append(target)\n",
    "    target += 1\n",
    "\n",
    "target = 0\n",
    "for classe in Xval:    \n",
    "    for img in classe:\n",
    "        x_test.append(255 - img)\n",
    "        y_test.append(target)\n",
    "    target += 1    "
   ]
  },
  {
   "cell_type": "code",
   "execution_count": 83,
   "metadata": {
    "ExecuteTime": {
     "end_time": "2019-10-23T18:21:39.292957Z",
     "start_time": "2019-10-23T18:21:39.277963Z"
    }
   },
   "outputs": [],
   "source": [
    "x_imgs = np.asarray([np.asarray(x_train), np.asarray(x_test)])\n",
    "y_lbls = np.asarray([np.asarray(y_train), np.asarray(y_test)])"
   ]
  },
  {
   "cell_type": "code",
   "execution_count": 84,
   "metadata": {
    "ExecuteTime": {
     "end_time": "2019-10-23T18:21:39.655136Z",
     "start_time": "2019-10-23T18:21:39.649127Z"
    }
   },
   "outputs": [
    {
     "data": {
      "text/plain": [
       "(780, 105, 105)"
      ]
     },
     "execution_count": 84,
     "metadata": {},
     "output_type": "execute_result"
    }
   ],
   "source": [
    "x_imgs[0].shape"
   ]
  },
  {
   "cell_type": "markdown",
   "metadata": {},
   "source": [
    "### Omni Loader"
   ]
  },
  {
   "cell_type": "code",
   "execution_count": 85,
   "metadata": {
    "ExecuteTime": {
     "end_time": "2019-10-23T18:21:48.955486Z",
     "start_time": "2019-10-23T18:21:48.948492Z"
    }
   },
   "outputs": [],
   "source": [
    "omni_loader = Siamese_Loader(images = x_imgs, labels=y_lbls, dataset_type='omniglot_hiragana')"
   ]
  },
  {
   "cell_type": "code",
   "execution_count": 86,
   "metadata": {
    "ExecuteTime": {
     "end_time": "2019-10-23T18:21:49.491410Z",
     "start_time": "2019-10-23T18:21:49.486413Z"
    }
   },
   "outputs": [
    {
     "data": {
      "text/plain": [
       "'omniglot_hiragana'"
      ]
     },
     "execution_count": 86,
     "metadata": {},
     "output_type": "execute_result"
    }
   ],
   "source": [
    "omni_loader.dataset_type"
   ]
  },
  {
   "cell_type": "markdown",
   "metadata": {},
   "source": [
    "### Model"
   ]
  },
  {
   "cell_type": "code",
   "execution_count": 14,
   "metadata": {
    "ExecuteTime": {
     "end_time": "2019-10-23T17:58:54.094796Z",
     "start_time": "2019-10-23T17:58:50.519856Z"
    },
    "scrolled": true
   },
   "outputs": [
    {
     "name": "stderr",
     "output_type": "stream",
     "text": [
      "WARNING: Logging before flag parsing goes to stderr.\n",
      "W1023 14:58:50.523854  3044 deprecation_wrapper.py:119] From C:\\ProgramData\\Anaconda3\\lib\\site-packages\\keras\\backend\\tensorflow_backend.py:74: The name tf.get_default_graph is deprecated. Please use tf.compat.v1.get_default_graph instead.\n",
      "\n",
      "W1023 14:58:50.549853  3044 deprecation_wrapper.py:119] From C:\\ProgramData\\Anaconda3\\lib\\site-packages\\keras\\backend\\tensorflow_backend.py:517: The name tf.placeholder is deprecated. Please use tf.compat.v1.placeholder instead.\n",
      "\n",
      "W1023 14:58:50.579822  3044 deprecation_wrapper.py:119] From C:\\ProgramData\\Anaconda3\\lib\\site-packages\\keras\\backend\\tensorflow_backend.py:3976: The name tf.nn.max_pool is deprecated. Please use tf.nn.max_pool2d instead.\n",
      "\n",
      "W1023 14:58:53.985858  3044 deprecation_wrapper.py:119] From C:\\ProgramData\\Anaconda3\\lib\\site-packages\\keras\\backend\\tensorflow_backend.py:4138: The name tf.random_uniform is deprecated. Please use tf.random.uniform instead.\n",
      "\n",
      "W1023 14:58:54.024836  3044 deprecation_wrapper.py:119] From C:\\ProgramData\\Anaconda3\\lib\\site-packages\\keras\\optimizers.py:790: The name tf.train.Optimizer is deprecated. Please use tf.compat.v1.train.Optimizer instead.\n",
      "\n"
     ]
    },
    {
     "name": "stdout",
     "output_type": "stream",
     "text": [
      "__________________________________________________________________________________________________\n",
      "Layer (type)                    Output Shape         Param #     Connected to                     \n",
      "==================================================================================================\n",
      "input_1 (InputLayer)            (None, 105, 105, 1)  0                                            \n",
      "__________________________________________________________________________________________________\n",
      "input_2 (InputLayer)            (None, 105, 105, 1)  0                                            \n",
      "__________________________________________________________________________________________________\n",
      "sequential_1 (Sequential)       (None, 4096)         38947648    input_1[0][0]                    \n",
      "                                                                 input_2[0][0]                    \n",
      "__________________________________________________________________________________________________\n",
      "lambda_1 (Lambda)               (None, 4096)         0           sequential_1[1][0]               \n",
      "                                                                 sequential_1[2][0]               \n",
      "__________________________________________________________________________________________________\n",
      "dense_2 (Dense)                 (None, 1)            4097        lambda_1[0][0]                   \n",
      "==================================================================================================\n",
      "Total params: 38,951,745\n",
      "Trainable params: 38,951,745\n",
      "Non-trainable params: 0\n",
      "__________________________________________________________________________________________________\n"
     ]
    }
   ],
   "source": [
    "model_hiragana = get_siamese_model((105, 105, 1), verbose=False)\n",
    "model_hiragana.compile(loss=contrastive_loss,optimizer=Adam(lr = 0.00006))\n",
    "# model.compile(loss=contrastive_loss,optimizer=Adadelta())\n",
    "# model.compile(loss='binary_crossentropy',optimizer=Adam(lr = 0.00006))\n",
    "model_hiragana.summary()"
   ]
  },
  {
   "cell_type": "markdown",
   "metadata": {},
   "source": [
    "### Few-shot testing"
   ]
  },
  {
   "cell_type": "code",
   "execution_count": 87,
   "metadata": {
    "ExecuteTime": {
     "end_time": "2019-10-23T18:21:54.498196Z",
     "start_time": "2019-10-23T18:21:54.376265Z"
    }
   },
   "outputs": [
    {
     "data": {
      "image/png": "[encoded data removed]",
      "text/plain": [
       "<Figure size 432x288 with 2 Axes>"
      ]
     },
     "metadata": {
      "needs_background": "light"
     },
     "output_type": "display_data"
    }
   ],
   "source": [
    "N = 16\n",
    "test_pairs, test_targets, idxs_pairs = omni_loader.one_shot_task(N=N, tipo='test')\n",
    "\n",
    "plot_oneshot_task(test_pairs[0][9], test_pairs[1][:N], x_s=105, y_s=105)"
   ]
  },
  {
   "cell_type": "code",
   "execution_count": 88,
   "metadata": {
    "ExecuteTime": {
     "end_time": "2019-10-23T18:23:17.845648Z",
     "start_time": "2019-10-23T18:23:17.839653Z"
    }
   },
   "outputs": [
    {
     "data": {
      "text/plain": [
       "[118, 181, 162, 218, 90, 61, 130, 178, 253, 238, 209, 79, 54, 214, 18, 5]"
      ]
     },
     "execution_count": 88,
     "metadata": {},
     "output_type": "execute_result"
    }
   ],
   "source": [
    "idxs_pairs"
   ]
  },
  {
   "cell_type": "code",
   "execution_count": 89,
   "metadata": {
    "ExecuteTime": {
     "end_time": "2019-10-23T18:23:20.045643Z",
     "start_time": "2019-10-23T18:23:19.850772Z"
    }
   },
   "outputs": [
    {
     "data": {
      "image/png": "[encoded data removed]",
      "text/plain": [
       "<Figure size 432x288 with 1 Axes>"
      ]
     },
     "metadata": {
      "needs_background": "light"
     },
     "output_type": "display_data"
    }
   ],
   "source": [
    "show_image(omni_loader.test_images[20].reshape((105,105)))"
   ]
  },
  {
   "cell_type": "markdown",
   "metadata": {},
   "source": [
    "### Training"
   ]
  },
  {
   "cell_type": "code",
   "execution_count": 90,
   "metadata": {
    "ExecuteTime": {
     "end_time": "2019-10-23T18:23:24.933295Z",
     "start_time": "2019-10-23T18:23:24.927297Z"
    }
   },
   "outputs": [],
   "source": [
    "evaluate = 100 # interval for evaluating on one-shot tasks and losses\n",
    "batch_multiplier = 4\n",
    "n_iter = 600 # 20000\n",
    "best = -1\n",
    "N_way = 10\n",
    "data_path = 'kmodel_weights/'\n",
    "weights_path_2 = 'kmodel_weights/omni_model_hiragana_weights_1.h5'"
   ]
  },
  {
   "cell_type": "code",
   "execution_count": 22,
   "metadata": {
    "ExecuteTime": {
     "end_time": "2019-10-22T01:45:42.927753Z",
     "start_time": "2019-10-22T01:45:42.923754Z"
    },
    "scrolled": true
   },
   "outputs": [],
   "source": [
    "# print(\"Starting training process!\")\n",
    "# print(\"##############################################################\")\n",
    "# t_start = time.time()\n",
    "# for i in tqdm_notebook(range(1, n_iter)):\n",
    "    \n",
    "#     inputs, targets, _ = omni_loader.get_batch(batch_multiplier, disable_progress_bar=True)\n",
    "    \n",
    "#     loss=model_hiragana.train_on_batch(inputs,targets)\n",
    "    \n",
    "#     if i % evaluate == 0:\n",
    "#         clear_output()\n",
    "#         print(\"Time for {0} iterations: {1}\".format(i, time.time()-t_start))\n",
    "#         val_acc = omni_loader.test_oneshot(model_hiragana,N_way,1,verbose=True)\n",
    "#         if val_acc >= best:\n",
    "#             print(\"Current best: {0}, previous best: {1}\".format(val_acc, best))\n",
    "#             print(\"Saving weights to: {0} \\n\".format(weights_path_2))\n",
    "#             model_hiragana.save_weights(weights_path_2)\n",
    "#             best=val_acc   \n",
    "    \n",
    "#         print(\"iteration {}, training loss: {:.2f},\".format(i,loss))\n",
    "#         print('---------------------------------------------------------------------------------')"
   ]
  },
  {
   "cell_type": "markdown",
   "metadata": {},
   "source": [
    "### Testing stuff"
   ]
  },
  {
   "cell_type": "code",
   "execution_count": 19,
   "metadata": {
    "ExecuteTime": {
     "end_time": "2019-10-23T17:59:09.439976Z",
     "start_time": "2019-10-23T17:59:09.307015Z"
    }
   },
   "outputs": [],
   "source": [
    "inputs, targets, categs_list = omni_loader.get_batch(batch_multiplier, disable_progress_bar=True)\n",
    "# inputs, targets = loader.get_batch(batch_multiplier, disable_progress_bar=True)"
   ]
  },
  {
   "cell_type": "code",
   "execution_count": 20,
   "metadata": {
    "ExecuteTime": {
     "end_time": "2019-10-23T17:59:10.058736Z",
     "start_time": "2019-10-23T17:59:09.866844Z"
    }
   },
   "outputs": [
    {
     "data": {
      "image/png": "[encoded data removed]",
      "text/plain": [
       "<Figure size 432x288 with 1 Axes>"
      ]
     },
     "metadata": {
      "needs_background": "light"
     },
     "output_type": "display_data"
    }
   ],
   "source": [
    "plt.imshow(inputs[0][2].reshape((105,105)), cmap='gray')\n",
    "\n",
    "plt.show()"
   ]
  },
  {
   "cell_type": "code",
   "execution_count": 21,
   "metadata": {
    "ExecuteTime": {
     "end_time": "2019-10-23T17:59:10.960746Z",
     "start_time": "2019-10-23T17:59:10.760864Z"
    }
   },
   "outputs": [
    {
     "data": {
      "image/png": "[encoded data removed]",
      "text/plain": [
       "<Figure size 432x288 with 1 Axes>"
      ]
     },
     "metadata": {
      "needs_background": "light"
     },
     "output_type": "display_data"
    }
   ],
   "source": [
    "plt.imshow(inputs[1][2].reshape((105,105)), cmap='gray')\n",
    "\n",
    "plt.show()"
   ]
  },
  {
   "cell_type": "code",
   "execution_count": 22,
   "metadata": {
    "ExecuteTime": {
     "end_time": "2019-10-23T17:59:12.280235Z",
     "start_time": "2019-10-23T17:59:12.273236Z"
    }
   },
   "outputs": [
    {
     "name": "stdout",
     "output_type": "stream",
     "text": [
      "[1, 1, 1, 1, 1, 1, 1, 1, 1, 1, 1, 1, 1, 1, 1, 1, 1, 1, 1, 1, 1, 1, 1, 1, 1, 1, 1, 1, 1, 1, 1, 1, 1, 1, 1, 1, 1, 1, 1, 1, 1, 1, 1, 1, 1, 1, 1, 1, 1, 1, 1, 1, 0, 0, 0, 0, 0, 0, 0, 0, 0, 0, 0, 0, 0, 0, 0, 0, 0, 0, 0, 0, 0, 0, 0, 0, 0, 0, 0, 0, 0, 0, 0, 0, 0, 0, 0, 0, 0, 0, 0, 0, 0, 0, 0, 0, 0, 0, 0, 0, 0, 0, 0, 0, 1, 1, 1, 1, 1, 1, 1, 1, 1, 1, 1, 1, 1, 1, 1, 1, 1, 1, 1, 1, 1, 1, 1, 1, 1, 1, 1, 1, 1, 1, 1, 1, 1, 1, 1, 1, 1, 1, 1, 1, 1, 1, 1, 1, 1, 1, 1, 1, 1, 1, 1, 1, 0, 0, 0, 0, 0, 0, 0, 0, 0, 0, 0, 0, 0, 0, 0, 0, 0, 0, 0, 0, 0, 0, 0, 0, 0, 0, 0, 0, 0, 0, 0, 0, 0, 0, 0, 0, 0, 0, 0, 0, 0, 0, 0, 0, 0, 0, 0, 0, 0, 0, 0, 0, 1, 1, 1, 1, 1, 1, 1, 1, 1, 1, 1, 1, 1, 1, 1, 1, 1, 1, 1, 1, 1, 1, 1, 1, 1, 1, 1, 1, 1, 1, 1, 1, 1, 1, 1, 1, 1, 1, 1, 1, 1, 1, 1, 1, 1, 1, 1, 1, 1, 1, 1, 1, 0, 0, 0, 0, 0, 0, 0, 0, 0, 0, 0, 0, 0, 0, 0, 0, 0, 0, 0, 0, 0, 0, 0, 0, 0, 0, 0, 0, 0, 0, 0, 0, 0, 0, 0, 0, 0, 0, 0, 0, 0, 0, 0, 0, 0, 0, 0, 0, 0, 0, 0, 0, 1, 1, 1, 1, 1, 1, 1, 1, 1, 1, 1, 1, 1, 1, 1, 1, 1, 1, 1, 1, 1, 1, 1, 1, 1, 1, 1, 1, 1, 1, 1, 1, 1, 1, 1, 1, 1, 1, 1, 1, 1, 1, 1, 1, 1, 1, 1, 1, 1, 1, 1, 1, 0, 0, 0, 0, 0, 0, 0, 0, 0, 0, 0, 0, 0, 0, 0, 0, 0, 0, 0, 0, 0, 0, 0, 0, 0, 0, 0, 0, 0, 0, 0, 0, 0, 0, 0, 0, 0, 0, 0, 0, 0, 0, 0, 0, 0, 0, 0, 0, 0, 0, 0, 0]\n"
     ]
    }
   ],
   "source": [
    "print(targets)"
   ]
  },
  {
   "cell_type": "markdown",
   "metadata": {},
   "source": [
    "#### One shot task"
   ]
  },
  {
   "cell_type": "code",
   "execution_count": 102,
   "metadata": {
    "ExecuteTime": {
     "end_time": "2019-10-23T18:28:08.606756Z",
     "start_time": "2019-10-23T18:28:08.598759Z"
    }
   },
   "outputs": [],
   "source": [
    "x_t, y_t, ids_ = omni_loader.one_shot_task(N=2, tipo='test')"
   ]
  },
  {
   "cell_type": "code",
   "execution_count": 103,
   "metadata": {
    "ExecuteTime": {
     "end_time": "2019-10-23T18:28:08.623743Z",
     "start_time": "2019-10-23T18:28:08.610753Z"
    }
   },
   "outputs": [
    {
     "name": "stdout",
     "output_type": "stream",
     "text": [
      "[1, 0]\n"
     ]
    }
   ],
   "source": [
    "print(y_t)"
   ]
  },
  {
   "cell_type": "code",
   "execution_count": 104,
   "metadata": {
    "ExecuteTime": {
     "end_time": "2019-10-23T18:28:08.765663Z",
     "start_time": "2019-10-23T18:28:08.626742Z"
    },
    "scrolled": true
   },
   "outputs": [
    {
     "data": {
      "image/png": "[encoded data removed]",
      "text/plain": [
       "<Figure size 432x288 with 2 Axes>"
      ]
     },
     "metadata": {
      "needs_background": "light"
     },
     "output_type": "display_data"
    }
   ],
   "source": [
    "plot_oneshot_task(x_t[0][0], x_t[1], x_s=105, y_s=105)"
   ]
  },
  {
   "cell_type": "code",
   "execution_count": 27,
   "metadata": {
    "ExecuteTime": {
     "end_time": "2019-10-23T17:59:46.839744Z",
     "start_time": "2019-10-23T17:59:33.632516Z"
    }
   },
   "outputs": [
    {
     "name": "stderr",
     "output_type": "stream",
     "text": [
      "W1023 14:59:35.777193  3044 deprecation_wrapper.py:119] From C:\\ProgramData\\Anaconda3\\lib\\site-packages\\keras\\backend\\tensorflow_backend.py:174: The name tf.get_default_session is deprecated. Please use tf.compat.v1.get_default_session instead.\n",
      "\n",
      "W1023 14:59:35.779188  3044 deprecation_wrapper.py:119] From C:\\ProgramData\\Anaconda3\\lib\\site-packages\\keras\\backend\\tensorflow_backend.py:181: The name tf.ConfigProto is deprecated. Please use tf.compat.v1.ConfigProto instead.\n",
      "\n"
     ]
    }
   ],
   "source": [
    "model_hiragana.load_weights('kmodel_weights/gc/2000iter_omni_model_hiragana_weights.h5')"
   ]
  },
  {
   "cell_type": "code",
   "execution_count": 101,
   "metadata": {
    "ExecuteTime": {
     "end_time": "2019-10-23T18:28:08.595761Z",
     "start_time": "2019-10-23T18:25:10.015765Z"
    }
   },
   "outputs": [
    {
     "data": {
      "application/vnd.jupyter.widget-view+json": {
       "model_id": "82d961a7d5f840a2be04100bf9fd3068",
       "version_major": 2,
       "version_minor": 0
      },
      "text/plain": [
       "HBox(children=(IntProgress(value=0), HTML(value='')))"
      ]
     },
     "metadata": {},
     "output_type": "display_data"
    },
    {
     "name": "stdout",
     "output_type": "stream",
     "text": [
      "Precisao: 4.0%\n"
     ]
    }
   ],
   "source": [
    "correct = 0\n",
    "n = 100\n",
    "for i in tqdm_notebook(range(0, n)):\n",
    "    x_t, y_t, _ = omni_loader.one_shot_task(N=49, tipo='test')\n",
    "    predict = model_hiragana.predict(x_t)\n",
    "    if np.argmin(predict) == 0:\n",
    "        correct += 1\n",
    "print('Precisao: {}%'.format((correct/n)*100))  "
   ]
  },
  {
   "cell_type": "markdown",
   "metadata": {},
   "source": [
    "### hide"
   ]
  },
  {
   "cell_type": "code",
   "execution_count": 41,
   "metadata": {
    "ExecuteTime": {
     "end_time": "2019-10-23T18:04:17.633626Z",
     "start_time": "2019-10-23T18:04:17.629629Z"
    },
    "hide_input": true
   },
   "outputs": [],
   "source": [
    "#predict = model_hiragana.predict(x_t)\n",
    "#np.argmin(predict)\n",
    "\n",
    "# print(predict)\n",
    "\n",
    "# df = pd.DataFrame(data={'indice':ids_, \n",
    "#                         'predict':predict.reshape((len(predict)))})\n",
    "\n",
    "# df.sort_values(by=['predict'])[0:5]\n",
    "\n",
    "# b = df.sort_values(by=['predict'])[0:5]\n",
    "\n",
    "# omni_loader.plot_rank(np.array(b['indice'].tolist()))"
   ]
  },
  {
   "cell_type": "code",
   "execution_count": 105,
   "metadata": {
    "ExecuteTime": {
     "end_time": "2019-10-23T18:28:08.983537Z",
     "start_time": "2019-10-23T18:28:08.770662Z"
    }
   },
   "outputs": [
    {
     "data": {
      "image/png": "[encoded data removed]",
      "text/plain": [
       "<Figure size 432x288 with 1 Axes>"
      ]
     },
     "metadata": {
      "needs_background": "light"
     },
     "output_type": "display_data"
    }
   ],
   "source": [
    "show_image(x_t[0][0].reshape((105,105)))"
   ]
  },
  {
   "cell_type": "code",
   "execution_count": 106,
   "metadata": {
    "ExecuteTime": {
     "end_time": "2019-10-23T18:28:18.117269Z",
     "start_time": "2019-10-23T18:28:08.986537Z"
    }
   },
   "outputs": [
    {
     "data": {
      "image/png": "[encoded data removed]",
      "text/plain": [
       "<Figure size 432x288 with 10 Axes>"
      ]
     },
     "metadata": {
      "needs_background": "light"
     },
     "output_type": "display_data"
    }
   ],
   "source": [
    "rank, p = omni_loader.image_retrieval(model=model_hiragana, img_search=x_t[0][0], top_n=10)"
   ]
  },
  {
   "cell_type": "code",
   "execution_count": 81,
   "metadata": {
    "ExecuteTime": {
     "end_time": "2019-10-23T18:18:01.295720Z",
     "start_time": "2019-10-23T18:18:01.284730Z"
    }
   },
   "outputs": [
    {
     "data": {
      "text/plain": [
       "([array([[[[1.],\n",
       "           [1.],\n",
       "           [1.],\n",
       "           ...,\n",
       "           [1.],\n",
       "           [1.],\n",
       "           [1.]],\n",
       "  \n",
       "          [[1.],\n",
       "           [1.],\n",
       "           [1.],\n",
       "           ...,\n",
       "           [1.],\n",
       "           [1.],\n",
       "           [1.]],\n",
       "  \n",
       "          [[1.],\n",
       "           [1.],\n",
       "           [1.],\n",
       "           ...,\n",
       "           [1.],\n",
       "           [1.],\n",
       "           [1.]],\n",
       "  \n",
       "          ...,\n",
       "  \n",
       "          [[1.],\n",
       "           [1.],\n",
       "           [1.],\n",
       "           ...,\n",
       "           [1.],\n",
       "           [1.],\n",
       "           [1.]],\n",
       "  \n",
       "          [[1.],\n",
       "           [1.],\n",
       "           [1.],\n",
       "           ...,\n",
       "           [1.],\n",
       "           [1.],\n",
       "           [1.]],\n",
       "  \n",
       "          [[1.],\n",
       "           [1.],\n",
       "           [1.],\n",
       "           ...,\n",
       "           [1.],\n",
       "           [1.],\n",
       "           [1.]]]]), array([[[[1.],\n",
       "           [1.],\n",
       "           [1.],\n",
       "           ...,\n",
       "           [1.],\n",
       "           [1.],\n",
       "           [1.]],\n",
       "  \n",
       "          [[1.],\n",
       "           [1.],\n",
       "           [1.],\n",
       "           ...,\n",
       "           [1.],\n",
       "           [1.],\n",
       "           [1.]],\n",
       "  \n",
       "          [[1.],\n",
       "           [1.],\n",
       "           [1.],\n",
       "           ...,\n",
       "           [1.],\n",
       "           [1.],\n",
       "           [1.]],\n",
       "  \n",
       "          ...,\n",
       "  \n",
       "          [[1.],\n",
       "           [1.],\n",
       "           [1.],\n",
       "           ...,\n",
       "           [1.],\n",
       "           [1.],\n",
       "           [1.]],\n",
       "  \n",
       "          [[1.],\n",
       "           [1.],\n",
       "           [1.],\n",
       "           ...,\n",
       "           [1.],\n",
       "           [1.],\n",
       "           [1.]],\n",
       "  \n",
       "          [[1.],\n",
       "           [1.],\n",
       "           [1.],\n",
       "           ...,\n",
       "           [1.],\n",
       "           [1.],\n",
       "           [1.]]]])], [1], [211])"
      ]
     },
     "execution_count": 81,
     "metadata": {},
     "output_type": "execute_result"
    }
   ],
   "source": [
    "omni_loader.one_shot_task(N=1, tipo='test')"
   ]
  },
  {
   "cell_type": "code",
   "execution_count": 80,
   "metadata": {
    "ExecuteTime": {
     "end_time": "2019-10-23T18:17:33.755084Z",
     "start_time": "2019-10-23T18:17:33.725097Z"
    }
   },
   "outputs": [
    {
     "ename": "ValueError",
     "evalue": "Error when checking model input: the list of Numpy arrays that you are passing to your model is not the size the model expected. Expected to see 2 array(s), but instead got the following list of 1 arrays: [array([[list([array([[[[1.],\n         [1.],\n         [1.],\n         ...,\n         [1.],\n         [1.],\n         [1.]],\n\n        [[1.],\n         [1.],\n         [1.],\n         ...,\n         [1.],\n     ...",
     "output_type": "error",
     "traceback": [
      "\u001b[1;31m---------------------------------------------------------------------------\u001b[0m",
      "\u001b[1;31mValueError\u001b[0m                                Traceback (most recent call last)",
      "\u001b[1;32m<ipython-input-80-07edf0604d1c>\u001b[0m in \u001b[0;36m<module>\u001b[1;34m\u001b[0m\n\u001b[1;32m----> 1\u001b[1;33m \u001b[0mmodel_hiragana\u001b[0m\u001b[1;33m.\u001b[0m\u001b[0mpredict\u001b[0m\u001b[1;33m(\u001b[0m\u001b[0mnp\u001b[0m\u001b[1;33m.\u001b[0m\u001b[0marray\u001b[0m\u001b[1;33m(\u001b[0m\u001b[0momni_loader\u001b[0m\u001b[1;33m.\u001b[0m\u001b[0mone_shot_task\u001b[0m\u001b[1;33m(\u001b[0m\u001b[0mN\u001b[0m\u001b[1;33m=\u001b[0m\u001b[1;36m1\u001b[0m\u001b[1;33m,\u001b[0m \u001b[0mtipo\u001b[0m\u001b[1;33m=\u001b[0m\u001b[1;34m'test'\u001b[0m\u001b[1;33m)\u001b[0m\u001b[1;33m)\u001b[0m\u001b[1;33m)\u001b[0m\u001b[1;33m\u001b[0m\u001b[1;33m\u001b[0m\u001b[0m\n\u001b[0m",
      "\u001b[1;32mC:\\ProgramData\\Anaconda3\\lib\\site-packages\\keras\\engine\\training.py\u001b[0m in \u001b[0;36mpredict\u001b[1;34m(self, x, batch_size, verbose, steps)\u001b[0m\n\u001b[0;32m   1147\u001b[0m                              'argument.')\n\u001b[0;32m   1148\u001b[0m         \u001b[1;31m# Validate user data.\u001b[0m\u001b[1;33m\u001b[0m\u001b[1;33m\u001b[0m\u001b[1;33m\u001b[0m\u001b[0m\n\u001b[1;32m-> 1149\u001b[1;33m         \u001b[0mx\u001b[0m\u001b[1;33m,\u001b[0m \u001b[0m_\u001b[0m\u001b[1;33m,\u001b[0m \u001b[0m_\u001b[0m \u001b[1;33m=\u001b[0m \u001b[0mself\u001b[0m\u001b[1;33m.\u001b[0m\u001b[0m_standardize_user_data\u001b[0m\u001b[1;33m(\u001b[0m\u001b[0mx\u001b[0m\u001b[1;33m)\u001b[0m\u001b[1;33m\u001b[0m\u001b[1;33m\u001b[0m\u001b[0m\n\u001b[0m\u001b[0;32m   1150\u001b[0m         \u001b[1;32mif\u001b[0m \u001b[0mself\u001b[0m\u001b[1;33m.\u001b[0m\u001b[0mstateful\u001b[0m\u001b[1;33m:\u001b[0m\u001b[1;33m\u001b[0m\u001b[1;33m\u001b[0m\u001b[0m\n\u001b[0;32m   1151\u001b[0m             \u001b[1;32mif\u001b[0m \u001b[0mx\u001b[0m\u001b[1;33m[\u001b[0m\u001b[1;36m0\u001b[0m\u001b[1;33m]\u001b[0m\u001b[1;33m.\u001b[0m\u001b[0mshape\u001b[0m\u001b[1;33m[\u001b[0m\u001b[1;36m0\u001b[0m\u001b[1;33m]\u001b[0m \u001b[1;33m>\u001b[0m \u001b[0mbatch_size\u001b[0m \u001b[1;32mand\u001b[0m \u001b[0mx\u001b[0m\u001b[1;33m[\u001b[0m\u001b[1;36m0\u001b[0m\u001b[1;33m]\u001b[0m\u001b[1;33m.\u001b[0m\u001b[0mshape\u001b[0m\u001b[1;33m[\u001b[0m\u001b[1;36m0\u001b[0m\u001b[1;33m]\u001b[0m \u001b[1;33m%\u001b[0m \u001b[0mbatch_size\u001b[0m \u001b[1;33m!=\u001b[0m \u001b[1;36m0\u001b[0m\u001b[1;33m:\u001b[0m\u001b[1;33m\u001b[0m\u001b[1;33m\u001b[0m\u001b[0m\n",
      "\u001b[1;32mC:\\ProgramData\\Anaconda3\\lib\\site-packages\\keras\\engine\\training.py\u001b[0m in \u001b[0;36m_standardize_user_data\u001b[1;34m(self, x, y, sample_weight, class_weight, check_array_lengths, batch_size)\u001b[0m\n\u001b[0;32m    749\u001b[0m             \u001b[0mfeed_input_shapes\u001b[0m\u001b[1;33m,\u001b[0m\u001b[1;33m\u001b[0m\u001b[1;33m\u001b[0m\u001b[0m\n\u001b[0;32m    750\u001b[0m             \u001b[0mcheck_batch_axis\u001b[0m\u001b[1;33m=\u001b[0m\u001b[1;32mFalse\u001b[0m\u001b[1;33m,\u001b[0m  \u001b[1;31m# Don't enforce the batch size.\u001b[0m\u001b[1;33m\u001b[0m\u001b[1;33m\u001b[0m\u001b[0m\n\u001b[1;32m--> 751\u001b[1;33m             exception_prefix='input')\n\u001b[0m\u001b[0;32m    752\u001b[0m \u001b[1;33m\u001b[0m\u001b[0m\n\u001b[0;32m    753\u001b[0m         \u001b[1;32mif\u001b[0m \u001b[0my\u001b[0m \u001b[1;32mis\u001b[0m \u001b[1;32mnot\u001b[0m \u001b[1;32mNone\u001b[0m\u001b[1;33m:\u001b[0m\u001b[1;33m\u001b[0m\u001b[1;33m\u001b[0m\u001b[0m\n",
      "\u001b[1;32mC:\\ProgramData\\Anaconda3\\lib\\site-packages\\keras\\engine\\training_utils.py\u001b[0m in \u001b[0;36mstandardize_input_data\u001b[1;34m(data, names, shapes, check_batch_axis, exception_prefix)\u001b[0m\n\u001b[0;32m    100\u001b[0m                 \u001b[1;34m'Expected to see '\u001b[0m \u001b[1;33m+\u001b[0m \u001b[0mstr\u001b[0m\u001b[1;33m(\u001b[0m\u001b[0mlen\u001b[0m\u001b[1;33m(\u001b[0m\u001b[0mnames\u001b[0m\u001b[1;33m)\u001b[0m\u001b[1;33m)\u001b[0m \u001b[1;33m+\u001b[0m \u001b[1;34m' array(s), '\u001b[0m\u001b[1;33m\u001b[0m\u001b[1;33m\u001b[0m\u001b[0m\n\u001b[0;32m    101\u001b[0m                 \u001b[1;34m'but instead got the following list of '\u001b[0m \u001b[1;33m+\u001b[0m\u001b[1;33m\u001b[0m\u001b[1;33m\u001b[0m\u001b[0m\n\u001b[1;32m--> 102\u001b[1;33m                 str(len(data)) + ' arrays: ' + str(data)[:200] + '...')\n\u001b[0m\u001b[0;32m    103\u001b[0m         \u001b[1;32melif\u001b[0m \u001b[0mlen\u001b[0m\u001b[1;33m(\u001b[0m\u001b[0mnames\u001b[0m\u001b[1;33m)\u001b[0m \u001b[1;33m>\u001b[0m \u001b[1;36m1\u001b[0m\u001b[1;33m:\u001b[0m\u001b[1;33m\u001b[0m\u001b[1;33m\u001b[0m\u001b[0m\n\u001b[0;32m    104\u001b[0m             raise ValueError(\n",
      "\u001b[1;31mValueError\u001b[0m: Error when checking model input: the list of Numpy arrays that you are passing to your model is not the size the model expected. Expected to see 2 array(s), but instead got the following list of 1 arrays: [array([[list([array([[[[1.],\n         [1.],\n         [1.],\n         ...,\n         [1.],\n         [1.],\n         [1.]],\n\n        [[1.],\n         [1.],\n         [1.],\n         ...,\n         [1.],\n     ..."
     ]
    }
   ],
   "source": [
    "model_hiragana.predict()"
   ]
  },
  {
   "cell_type": "code",
   "execution_count": 75,
   "metadata": {
    "ExecuteTime": {
     "end_time": "2019-10-23T18:15:26.105258Z",
     "start_time": "2019-10-23T18:15:26.090269Z"
    }
   },
   "outputs": [
    {
     "data": {
      "text/html": [
       "<div>\n",
       "<style scoped>\n",
       "    .dataframe tbody tr th:only-of-type {\n",
       "        vertical-align: middle;\n",
       "    }\n",
       "\n",
       "    .dataframe tbody tr th {\n",
       "        vertical-align: top;\n",
       "    }\n",
       "\n",
       "    .dataframe thead th {\n",
       "        text-align: right;\n",
       "    }\n",
       "</style>\n",
       "<table border=\"1\" class=\"dataframe\">\n",
       "  <thead>\n",
       "    <tr style=\"text-align: right;\">\n",
       "      <th></th>\n",
       "      <th>indice</th>\n",
       "      <th>predict</th>\n",
       "    </tr>\n",
       "  </thead>\n",
       "  <tbody>\n",
       "    <tr>\n",
       "      <th>0</th>\n",
       "      <td>0</td>\n",
       "      <td>0.913260</td>\n",
       "    </tr>\n",
       "    <tr>\n",
       "      <th>1</th>\n",
       "      <td>1</td>\n",
       "      <td>0.846119</td>\n",
       "    </tr>\n",
       "    <tr>\n",
       "      <th>2</th>\n",
       "      <td>2</td>\n",
       "      <td>0.924881</td>\n",
       "    </tr>\n",
       "    <tr>\n",
       "      <th>3</th>\n",
       "      <td>3</td>\n",
       "      <td>0.687344</td>\n",
       "    </tr>\n",
       "    <tr>\n",
       "      <th>4</th>\n",
       "      <td>4</td>\n",
       "      <td>0.992648</td>\n",
       "    </tr>\n",
       "    <tr>\n",
       "      <th>5</th>\n",
       "      <td>5</td>\n",
       "      <td>1.000000</td>\n",
       "    </tr>\n",
       "    <tr>\n",
       "      <th>6</th>\n",
       "      <td>6</td>\n",
       "      <td>1.000000</td>\n",
       "    </tr>\n",
       "    <tr>\n",
       "      <th>7</th>\n",
       "      <td>7</td>\n",
       "      <td>1.000000</td>\n",
       "    </tr>\n",
       "    <tr>\n",
       "      <th>8</th>\n",
       "      <td>8</td>\n",
       "      <td>1.000000</td>\n",
       "    </tr>\n",
       "    <tr>\n",
       "      <th>9</th>\n",
       "      <td>9</td>\n",
       "      <td>1.000000</td>\n",
       "    </tr>\n",
       "    <tr>\n",
       "      <th>10</th>\n",
       "      <td>10</td>\n",
       "      <td>1.000000</td>\n",
       "    </tr>\n",
       "    <tr>\n",
       "      <th>11</th>\n",
       "      <td>11</td>\n",
       "      <td>1.000000</td>\n",
       "    </tr>\n",
       "    <tr>\n",
       "      <th>12</th>\n",
       "      <td>12</td>\n",
       "      <td>1.000000</td>\n",
       "    </tr>\n",
       "    <tr>\n",
       "      <th>13</th>\n",
       "      <td>13</td>\n",
       "      <td>1.000000</td>\n",
       "    </tr>\n",
       "    <tr>\n",
       "      <th>14</th>\n",
       "      <td>14</td>\n",
       "      <td>1.000000</td>\n",
       "    </tr>\n",
       "    <tr>\n",
       "      <th>15</th>\n",
       "      <td>15</td>\n",
       "      <td>0.999958</td>\n",
       "    </tr>\n",
       "    <tr>\n",
       "      <th>16</th>\n",
       "      <td>16</td>\n",
       "      <td>1.000000</td>\n",
       "    </tr>\n",
       "    <tr>\n",
       "      <th>17</th>\n",
       "      <td>17</td>\n",
       "      <td>0.999998</td>\n",
       "    </tr>\n",
       "    <tr>\n",
       "      <th>18</th>\n",
       "      <td>18</td>\n",
       "      <td>0.998827</td>\n",
       "    </tr>\n",
       "    <tr>\n",
       "      <th>19</th>\n",
       "      <td>19</td>\n",
       "      <td>0.999388</td>\n",
       "    </tr>\n",
       "  </tbody>\n",
       "</table>\n",
       "</div>"
      ],
      "text/plain": [
       "    indice   predict\n",
       "0        0  0.913260\n",
       "1        1  0.846119\n",
       "2        2  0.924881\n",
       "3        3  0.687344\n",
       "4        4  0.992648\n",
       "5        5  1.000000\n",
       "6        6  1.000000\n",
       "7        7  1.000000\n",
       "8        8  1.000000\n",
       "9        9  1.000000\n",
       "10      10  1.000000\n",
       "11      11  1.000000\n",
       "12      12  1.000000\n",
       "13      13  1.000000\n",
       "14      14  1.000000\n",
       "15      15  0.999958\n",
       "16      16  1.000000\n",
       "17      17  0.999998\n",
       "18      18  0.998827\n",
       "19      19  0.999388"
      ]
     },
     "execution_count": 75,
     "metadata": {},
     "output_type": "execute_result"
    }
   ],
   "source": [
    "p.head(n=20)"
   ]
  },
  {
   "cell_type": "code",
   "execution_count": 39,
   "metadata": {
    "ExecuteTime": {
     "end_time": "2019-10-23T18:02:16.865694Z",
     "start_time": "2019-10-23T18:02:16.656818Z"
    }
   },
   "outputs": [
    {
     "data": {
      "image/png": "[encoded data removed]",
      "text/plain": [
       "<Figure size 432x288 with 1 Axes>"
      ]
     },
     "metadata": {
      "needs_background": "light"
     },
     "output_type": "display_data"
    }
   ],
   "source": [
    "show_image(omni_loader.test_images[226].reshape((105,105)))"
   ]
  },
  {
   "cell_type": "code",
   "execution_count": null,
   "metadata": {},
   "outputs": [],
   "source": []
  }
 ],
 "metadata": {
  "kernelspec": {
   "display_name": "Python 3",
   "language": "python",
   "name": "python3"
  },
  "language_info": {
   "codemirror_mode": {
    "name": "ipython",
    "version": 3
   },
   "file_extension": ".py",
   "mimetype": "text/x-python",
   "name": "python",
   "nbconvert_exporter": "python",
   "pygments_lexer": "ipython3",
   "version": "3.7.3"
  },
  "latex_envs": {
   "LaTeX_envs_menu_present": true,
   "autoclose": false,
   "autocomplete": true,
   "bibliofile": "biblio.bib",
   "cite_by": "apalike",
   "current_citInitial": 1,
   "eqLabelWithNumbers": true,
   "eqNumInitial": 1,
   "hotkeys": {
    "equation": "Ctrl-E",
    "itemize": "Ctrl-I"
   },
   "labels_anchors": false,
   "latex_user_defs": false,
   "report_style_numbering": false,
   "user_envs_cfg": false
  }
 },
 "nbformat": 4,
 "nbformat_minor": 2
}
