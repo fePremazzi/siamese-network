{
 "cells": [
  {
   "cell_type": "code",
   "execution_count": 51,
   "metadata": {
    "ExecuteTime": {
     "end_time": "2019-10-25T19:25:17.853022Z",
     "start_time": "2019-10-25T19:25:17.691116Z"
    },
    "code_folding": []
   },
   "outputs": [],
   "source": [
    "# Import Keras and other Deep Learning dependencies\n",
    "from keras.models import Sequential\n",
    "from keras.optimizers import Adam\n",
    "from keras.layers import Conv2D, ZeroPadding2D, Activation, Input, concatenate\n",
    "from keras.models import Model, load_model\n",
    "from keras.layers.normalization import BatchNormalization\n",
    "from keras.layers.pooling import MaxPooling2D, AveragePooling2D\n",
    "from keras.layers.merge import Concatenate\n",
    "from keras.layers.core import Lambda, Flatten, Dense, Dropout\n",
    "from keras.initializers import glorot_uniform\n",
    "from sklearn.preprocessing import LabelBinarizer\n",
    "from keras.optimizers import *\n",
    "from keras.engine.topology import Layer\n",
    "from keras.regularizers import l2\n",
    "import cv2\n",
    "import sys\n",
    "import h5py\n",
    "import numpy as np\n",
    "import pandas as pd\n",
    "import matplotlib.pyplot as plt\n",
    "import time\n",
    "import os\n",
    "from tqdm import tqdm_notebook\n",
    "from sklearn.metrics import accuracy_score\n",
    "from sklearn import metrics\n",
    "from collections import Counter \n",
    "from IPython.display import clear_output\n",
    "import pandas as pd\n",
    "from matplotlib import gridspec\n",
    "from keras.optimizers import RMSprop"
   ]
  },
  {
   "cell_type": "code",
   "execution_count": 86,
   "metadata": {
    "ExecuteTime": {
     "end_time": "2019-10-25T20:00:11.086786Z",
     "start_time": "2019-10-25T20:00:11.060801Z"
    }
   },
   "outputs": [],
   "source": [
    "def initialize_weights(shape, name=None):\n",
    "    \"\"\"\n",
    "        The paper, http://www.cs.utoronto.ca/~gkoch/files/msc-thesis.pdf\n",
    "        suggests to initialize CNN layer weights with mean as 0.0 and standard deviation of 0.01\n",
    "    \"\"\"\n",
    "    return np.random.normal(loc = 0.0, scale = 1e-2, size = shape)\n",
    "\n",
    "def initialize_bias(shape, name=None):\n",
    "    \"\"\"\n",
    "        The paper, http://www.cs.utoronto.ca/~gkoch/files/msc-thesis.pdf\n",
    "        suggests to initialize CNN layer bias with mean as 0.5 and standard deviation of 0.01\n",
    "    \"\"\"\n",
    "    return np.random.normal(loc = 0.5, scale = 1e-2, size = shape)\n",
    "\n",
    "def euclidean_distance(vects):\n",
    "    x, y = vects\n",
    "    sum_square = K.sum(K.square(x - y), axis=1, keepdims=True)\n",
    "    return K.sqrt(K.maximum(sum_square, K.epsilon()))\n",
    "\n",
    "\n",
    "def eucl_dist_output_shape(shapes):\n",
    "    shape1, shape2 = shapes\n",
    "    return (shape1[0], 1)\n",
    "\n",
    "def accuracy(y_true, y_pred):\n",
    "    '''Compute classification accuracy with a fixed threshold on distances.\n",
    "    '''\n",
    "    return K.mean(K.equal(y_true, K.cast(y_pred < 0.5, y_true.dtype)))\n",
    "\n",
    "def get_siamese_model(input_shape, similarity_metric='l1', verbose=True):\n",
    "    \"\"\"\n",
    "        Model architecture based on the one provided in: http://www.cs.utoronto.ca/~gkoch/files/msc-thesis.pdf\n",
    "    \"\"\"\n",
    "    left_input = Input(input_shape)\n",
    "    right_input = Input(input_shape)\n",
    "#     model = Sequential()\n",
    "#     model.add(Conv2D(32, (3,3), activation='relu', input_shape=input_shape,\n",
    "#                     kernel_initializer=initialize_weights, \n",
    "#                     kernel_regularizer=l2(2e-4)))\n",
    "    \n",
    "#     model.add(Conv2D(64, (3,3), activation='relu', input_shape=input_shape,\n",
    "#                     kernel_initializer=initialize_weights, \n",
    "#                     kernel_regularizer=l2(2e-4)))    \n",
    "#     model.add(MaxPooling2D(pool_size=(2, 2)))\n",
    "    \n",
    "#     model.add(Dropout(0.25))\n",
    "#     model.add(Flatten())\n",
    "    \n",
    "#     model.add(Dense(128, activation='relu'))\n",
    "#     model.add(Dropout(0.25))\n",
    "    \n",
    "#     model.add(Dense(input_shape[0]**2, activation='sigmoid', kernel_initializer=initialize_weights,\n",
    "#                     bias_initializer=initialize_bias, \n",
    "#                     kernel_regularizer=l2(1e-3),))\n",
    "    \n",
    "    model = Sequential()\n",
    "#     model.add(Conv2D(64, (10,10), activation='relu', input_shape=input_shape,\n",
    "#                    kernel_initializer=initialize_weights, kernel_regularizer=l2(2e-4)))\n",
    "#     model.add(MaxPooling2D())\n",
    "#     model.add(Conv2D(128, (7,7), activation='relu',\n",
    "#                      kernel_initializer=initialize_weights,\n",
    "#                      bias_initializer=initialize_bias, kernel_regularizer=l2(2e-4)))\n",
    "#     model.add(MaxPooling2D())\n",
    "#     model.add(Conv2D(128, (4,4), activation='relu', kernel_initializer=initialize_weights,\n",
    "#                      bias_initializer=initialize_bias, kernel_regularizer=l2(2e-4)))\n",
    "#     model.add(MaxPooling2D())\n",
    "#     model.add(Conv2D(256, (4,4), activation='relu', kernel_initializer=initialize_weights,\n",
    "#                      bias_initializer=initialize_bias, kernel_regularizer=l2(2e-4)))\n",
    "#     model.add(Flatten())\n",
    "#     model.add(Dense(4096, activation='sigmoid',\n",
    "#                    kernel_regularizer=l2(1e-3),\n",
    "#                    kernel_initializer=initialize_weights,bias_initializer=initialize_bias))\n",
    "    \n",
    "    model.add(Flatten())\n",
    "    model.add(Dense(128, activation='relu'))\n",
    "    model.add(Dropout(0.1))\n",
    "    model.add(Dense(128, activation='relu'))\n",
    "    model.add(Dropout(0.1))\n",
    "    model.add(Dense(128, activation='relu'))\n",
    "    \n",
    "    # Generate the encodings (feature vectors) for the two images\n",
    "    encoded_l = model(left_input)\n",
    "    encoded_r = model(right_input)\n",
    "    \n",
    "    # Add a customized layer to compute the absolute difference between the encodings\n",
    "    if similarity_metric == 'l1':\n",
    "        Similarity_layer = Lambda(lambda tensors:K.abs(tensors[0] - tensors[1]))        \n",
    "        Similarity_distance = Similarity_layer([encoded_l, encoded_r])\n",
    "    elif similarity_metric == 'l2':\n",
    "        Similarity_layer = Lambda(euclidean_distance)\n",
    "        Similarity_distance = Similarity_layer([encoded_l, encoded_r])\n",
    "           \n",
    "    # Add a dense layer with a sigmoid unit to generate the similarity score\n",
    "    prediction = Dense(1,activation='sigmoid',bias_initializer=initialize_bias)(Similarity_distance)\n",
    "    \n",
    "    # Connect the input with the outputs\n",
    "    siamese_net = Model(inputs=[left_input,right_input],outputs=prediction)\n",
    "    if verbose:\n",
    "        model.summary()\n",
    "    return siamese_net"
   ]
  },
  {
   "cell_type": "code",
   "execution_count": 3,
   "metadata": {
    "ExecuteTime": {
     "end_time": "2019-10-25T18:47:22.241549Z",
     "start_time": "2019-10-25T18:47:22.233557Z"
    }
   },
   "outputs": [],
   "source": [
    "def contrastive_loss(y_true, y_pred):\n",
    "    '''Contrastive loss from Hadsell-et-al.'06\n",
    "    http://yann.lecun.com/exdb/publis/pdf/hadsell-chopra-lecun-06.pdf\n",
    "    '''\n",
    "    margin = 1\n",
    "    square_pred = K.square(y_pred)\n",
    "    margin_square = K.square(K.maximum(margin - y_pred, 0))\n",
    "    return K.mean(y_true * square_pred + (1 - y_true) * margin_square)"
   ]
  },
  {
   "cell_type": "code",
   "execution_count": 4,
   "metadata": {
    "ExecuteTime": {
     "end_time": "2019-10-25T18:47:22.979015Z",
     "start_time": "2019-10-25T18:47:22.914036Z"
    },
    "code_folding": []
   },
   "outputs": [],
   "source": [
    "class Siamese_Loader:\n",
    "    def __init__(self, train_path=None, \n",
    "                 test_path=None, dataset_type = '49kmnist',\n",
    "                 images=None, labels=None, img_channel=1):\n",
    "        \"\"\"\n",
    "        Loads dataset\n",
    "        \n",
    "        Parameters\n",
    "        -----------\n",
    "        \n",
    "        train_path ... list[train_images, train_labels]\n",
    "        test_path ... list[test_images, test_labels]\n",
    "        \n",
    "        \"\"\"\n",
    "        self.train_images = []\n",
    "        self.train_labels = []\n",
    "        self.train_path = train_path\n",
    "        \n",
    "        self.test_images = []\n",
    "        self.test_labels = []        \n",
    "        self.test_path = test_path\n",
    "        \n",
    "        self.dataset_type = dataset_type        \n",
    "        \n",
    "        if train_path is None and test_path is None:\n",
    "            self.train_images = images[0]\n",
    "            self.train_labels = labels[0]\n",
    "            self.test_images = images[1]\n",
    "            self.test_labels = labels[1] \n",
    "        \n",
    "        else:        \n",
    "            print('Loading Train images')\n",
    "            self.train_images = self._load(self.train_path[0])\n",
    "\n",
    "            print('Loading Test images')\n",
    "            self.test_images = self._load(self.test_path[0])\n",
    "\n",
    "            print('Loading Train labels')\n",
    "            self.train_labels = self._load(self.train_path[1])\n",
    "\n",
    "            print('Loading Test labels')\n",
    "            self.test_labels = self._load(self.test_path[1])\n",
    "\n",
    "        self.train_n_classes = len(np.unique(self.train_labels))\n",
    "        self.test_n_classes = len(np.unique(self.test_labels))\n",
    "        \n",
    "        self.train_shape = self.train_images[0].shape\n",
    "        self.test_shape = self.test_images[0].shape\n",
    "        \n",
    "        self.image_channel = img_channel\n",
    "        \n",
    "    def _load(self, f):\n",
    "        return np.load(f)['arr_0']\n",
    "        \n",
    "    def _get_index(self, labels, i, images):\n",
    "        while True:\n",
    "            idx = np.random.randint(0, len(images))\n",
    "            if labels[idx] == i:\n",
    "                return idx, labels[idx]\n",
    "            \n",
    "    def _get_false_index(self, labels, i, images):\n",
    "        while True:\n",
    "            idx = np.random.randint(0, len(images))\n",
    "            if labels[idx] != i:\n",
    "                return idx, labels[idx]\n",
    "            \n",
    "    def get_batch(self, batch_multiplier = 1, disable_progress_bar = False):\n",
    "        \n",
    "        if type(batch_multiplier) is float:\n",
    "            raise TypeError('batch_multiplier must be an integer')\n",
    "        \n",
    "        n_examples = batch_multiplier*self.train_n_classes*2\n",
    "        \n",
    "        img_shape = self.train_images[0].shape\n",
    "        pairs = [np.zeros((n_examples, img_shape[0], img_shape[1], self.image_channel)) for i in range(2)]\n",
    "        categs_list = []\n",
    "        targets = []\n",
    "        \n",
    "        images = self.train_images\n",
    "        labels = self.train_labels\n",
    "        n_classes = self.train_n_classes\n",
    "        \n",
    "        k = 0\n",
    "        for i in tqdm_notebook(range(0, batch_multiplier), disable = disable_progress_bar):\n",
    "            img_1 = None\n",
    "            img_2 = None\n",
    "            \n",
    "            for j in range(0, n_classes):\n",
    "                idx_1, categ_1 = self._get_index(labels, j, images)\n",
    "                img_1 = self.train_images[idx_1]\n",
    "                idx_2, categ_2 = self._get_index(labels, j, images)\n",
    "                img_2 = images[idx_2]\n",
    "                categs_list.append([categ_1,categ_2])\n",
    "                target = 1\n",
    "                \n",
    "                pairs[0][k] = img_1.reshape((self.train_shape[0], self.train_shape[1], self.image_channel))\n",
    "                pairs[1][k] = img_2.reshape((self.train_shape[0], self.train_shape[1], self.image_channel))\n",
    "                targets.append(target)\n",
    "                k += 1\n",
    "            \n",
    "            for j_ in range(0, n_classes):\n",
    "                idx_1, categ_1 = self._get_index(labels, j_, images)\n",
    "                img_1 = self.train_images[idx_1]\n",
    "                idx_2, categ_2 = self._get_false_index(labels, j_, images)\n",
    "                img_2 = images[idx_2]\n",
    "                categs_list.append([categ_1,categ_2])\n",
    "                target = 0\n",
    "                \n",
    "                pairs[0][k] = img_1.reshape((self.train_shape[0], self.train_shape[1], self.image_channel))\n",
    "                pairs[1][k] = img_2.reshape((self.train_shape[0], self.train_shape[1], self.image_channel))\n",
    "                targets.append(target)\n",
    "                k += 1\n",
    "\n",
    "            \n",
    "        pairs[0] /= 255.\n",
    "        pairs[1] /= 255.\n",
    "        \n",
    "        return pairs, targets, categs_list\n",
    "                    \n",
    "        \n",
    "    def one_shot_task(self, N = 49, tipo = 'train'):\n",
    "        \"\"\"\n",
    "        Create a set of pairs, targets for N-way one shot learning.\n",
    "        \"\"\"\n",
    "        if tipo == 'train':\n",
    "            images = self.train_images\n",
    "            labels = self.train_labels\n",
    "            n_classes = self.train_n_classes\n",
    "        else:\n",
    "            images = self.test_images\n",
    "            labels = self.test_labels\n",
    "            n_classes = self.test_n_classes\n",
    "            \n",
    "        \n",
    "        img_shape = images[0].shape\n",
    "        pairs = [np.zeros((N, img_shape[0], img_shape[1], self.image_channel)) for i in range(2)]\n",
    "        targets = []\n",
    "        idxs_pairs = []\n",
    "        k = 0\n",
    "        \n",
    "        i_sorteado = np.random.randint(0,n_classes)\n",
    "        \n",
    "        idx_base, categ_base = self._get_index(labels, i_sorteado, images)\n",
    "        img_base = images[idx_base]\n",
    "        \n",
    "\n",
    "        idx_pair, categ_pair = self._get_index(labels, i_sorteado, images)\n",
    "        img_pair = images[idx_pair]\n",
    "        idxs_pairs.append(idx_pair)\n",
    "        \n",
    "        pairs[0][k] = img_base.reshape((self.train_shape[0], self.train_shape[1], self.image_channel))\n",
    "        pairs[1][k] = img_pair.reshape((self.train_shape[0], self.train_shape[1], self.image_channel))\n",
    "        targets.append(1)\n",
    "        \n",
    "        for j in range(1, N):\n",
    "            \n",
    "            idx_pair, categ_pair = self._get_false_index(labels, i_sorteado, images)\n",
    "            img_pair = images[idx_pair]\n",
    "            idxs_pairs.append(idx_pair)\n",
    "\n",
    "\n",
    "            if categ_base == categ_pair:\n",
    "                targets.append(1)\n",
    "            else:\n",
    "                targets.append(0)\n",
    "            \n",
    "            k += 1\n",
    "            pairs[0][k] = img_base.reshape((self.train_shape[0],self.train_shape[1],self.image_channel))\n",
    "            pairs[1][k] = img_pair.reshape((self.train_shape[0],self.train_shape[1],self.image_channel))\n",
    "\n",
    "            \n",
    "        \n",
    "        pairs[0] /= 255.\n",
    "        pairs[1] /= 255.\n",
    "        \n",
    "        return pairs, targets, idxs_pairs\n",
    "    \n",
    "    def test_oneshot(self, model, N, k, verbose=True, tipo = 'test'):\n",
    "        \"\"\"Test average N way oneshot learning accuracy of a siamese neural net over k one-shot tasks\"\"\"\n",
    "        n_correct = 0\n",
    "        if verbose:\n",
    "            print(\"Evaluating model on {} random {} way one-shot learning tasks ... \\n\".format(k,N))\n",
    "        for i in range(k):\n",
    "            inputs, targets = self.one_shot_task(N, tipo = tipo)\n",
    "            probs = model.predict(inputs)\n",
    "            probs = 1-probs\n",
    "            if np.argmax(probs) == np.argmax(targets):\n",
    "                n_correct+=1\n",
    "        percent_correct = (100.0*n_correct / k)\n",
    "        if verbose:\n",
    "            print(\"Got an average of {}% {} way one-shot learning accuracy \\n\".format(percent_correct,N))\n",
    "        return percent_correct\n",
    "    \n",
    "    def image_retrieval(self, model, img_search, top_n=5):\n",
    "        images = self.test_images\n",
    "        labels = self.test_labels\n",
    "        n_imgs = len(images)\n",
    "        \n",
    "        img_shape = images[0].shape\n",
    "        pairs = [np.zeros((n_imgs, img_shape[0], img_shape[1], self.image_channel)) for i in range(2)]\n",
    "        targets = []\n",
    "        idx_imgs = []\n",
    "        k = 0\n",
    "        \n",
    "        img_base = img_search\n",
    "        \n",
    "        for i in range(0, n_imgs):            \n",
    "            img_pair = images[i]\n",
    "            pairs[0][k] = img_base.reshape((img_shape[0], img_shape[1], self.image_channel))\n",
    "            pairs[1][k] = img_pair.reshape((img_shape[0], img_shape[1], self.image_channel))\n",
    "            idx_imgs.append(i)\n",
    "            k += 1\n",
    "        \n",
    "        pairs[0] /= 255.\n",
    "        pairs[1] /= 255.\n",
    "        \n",
    "        predict = model.predict(pairs)\n",
    "        df = pd.DataFrame(data={'indice':idx_imgs, 'predict':predict.reshape((len(predict)))})\n",
    "        df_N = df.sort_values(by=['predict'])[0:top_n]\n",
    "        ranking_list = df_N['indice'].tolist()\n",
    "        \n",
    "        self.plot_rank(idxs=np.array(ranking_list))\n",
    "        return ranking_list, df\n",
    "    \n",
    "    def plot_rank(self, idxs):\n",
    "        if type(idxs) != np.ndarray:\n",
    "            idxs = np.array([idxs])\n",
    "        fig = plt.figure()\n",
    "        gs = gridspec.GridSpec(1,len(idxs))\n",
    "        for i in range(len(idxs)):\n",
    "            ax = fig.add_subplot(gs[0,i])\n",
    "            ax.imshow(self.test_images[idxs[i]], cmap='gray')\n",
    "            ax.axis('off')\n",
    "        plt.show()"
   ]
  },
  {
   "cell_type": "code",
   "execution_count": 5,
   "metadata": {
    "ExecuteTime": {
     "end_time": "2019-10-25T18:47:23.476716Z",
     "start_time": "2019-10-25T18:47:23.460723Z"
    }
   },
   "outputs": [],
   "source": [
    "def concat_images(X):\n",
    "    \"\"\"Concatenates a bunch of images into a big matrix for plotting purposes.\"\"\"\n",
    "    nc, h , w, _ = X.shape\n",
    "    X = X.reshape(nc, h, w)\n",
    "    n = np.ceil(np.sqrt(nc)).astype(\"int8\")\n",
    "    img = np.zeros((n*w,n*h))\n",
    "    x = 0\n",
    "    y = 0\n",
    "    for example in range(nc):\n",
    "        img[x*w:(x+1)*w,y*h:(y+1)*h] = X[example]\n",
    "        y += 1\n",
    "        if y >= n:\n",
    "            y = 0\n",
    "            x += 1\n",
    "    return img\n",
    "\n",
    "\n",
    "def plot_oneshot_task(ref, comparativas, x_s = 28, y_s = 28):\n",
    "    fig,(ax1,ax2) = plt.subplots(2)\n",
    "    ax1.matshow(ref.reshape(x_s,y_s), cmap='gray')\n",
    "    img = concat_images(comparativas)\n",
    "    ax1.get_yaxis().set_visible(False)\n",
    "    ax1.get_xaxis().set_visible(False)\n",
    "    ax2.matshow(img,cmap='gray')\n",
    "    plt.xticks([])\n",
    "    plt.yticks([])\n",
    "    plt.show()\n",
    "    \n",
    "def show_image(img):\n",
    "    plt.imshow(img, cmap=\"gray\")\n",
    "    plt.show()"
   ]
  },
  {
   "cell_type": "code",
   "execution_count": 6,
   "metadata": {
    "ExecuteTime": {
     "end_time": "2019-10-25T18:47:31.578203Z",
     "start_time": "2019-10-25T18:47:31.575205Z"
    }
   },
   "outputs": [],
   "source": [
    "# batch_size = 128\n",
    "# num_classes = 10\n",
    "# epochs = 12"
   ]
  },
  {
   "cell_type": "code",
   "execution_count": 7,
   "metadata": {
    "ExecuteTime": {
     "end_time": "2019-10-25T18:47:31.883223Z",
     "start_time": "2019-10-25T18:47:31.880224Z"
    }
   },
   "outputs": [],
   "source": [
    "# def load(f):\n",
    "#     return np.load(f)['arr_0']"
   ]
  },
  {
   "cell_type": "code",
   "execution_count": 8,
   "metadata": {
    "ExecuteTime": {
     "end_time": "2019-10-25T18:47:32.140092Z",
     "start_time": "2019-10-25T18:47:32.135110Z"
    }
   },
   "outputs": [],
   "source": [
    "# Load the data\n",
    "# x_train = load('dataset/kuzushiji-mnist/k49-train-imgs.npz')\n",
    "# x_test = load('dataset/kuzushiji-mnist/k49-test-imgs.npz')\n",
    "# y_train = load('dataset/kuzushiji-mnist/k49-train-labels.npz')\n",
    "# y_test = load('dataset/kuzushiji-mnist/k49-test-labels.npz')"
   ]
  },
  {
   "cell_type": "code",
   "execution_count": 9,
   "metadata": {
    "ExecuteTime": {
     "end_time": "2019-10-25T18:47:32.656752Z",
     "start_time": "2019-10-25T18:47:32.652758Z"
    }
   },
   "outputs": [],
   "source": [
    "# ys = list()\n",
    "# for y in y_train:\n",
    "#     if y not in ys:\n",
    "#         ys.append(y)\n",
    "# print('N classes: {}'.format(len(ys)))\n",
    "# print(len(Counter(y_train).keys()))\n",
    "# np.unique(y_train, return_counts=True)"
   ]
  },
  {
   "cell_type": "code",
   "execution_count": null,
   "metadata": {
    "ExecuteTime": {
     "end_time": "2019-10-17T22:08:22.519235Z",
     "start_time": "2019-10-17T22:08:22.335325Z"
    }
   },
   "outputs": [],
   "source": [
    "w = x_train[99]\n",
    "\n",
    "plt.imshow(w, cmap=\"gray\")\n",
    "\n",
    "plt.show()"
   ]
  },
  {
   "cell_type": "markdown",
   "metadata": {},
   "source": [
    "# Model"
   ]
  },
  {
   "cell_type": "code",
   "execution_count": null,
   "metadata": {
    "ExecuteTime": {
     "end_time": "2019-10-18T19:13:53.628015Z",
     "start_time": "2019-10-18T19:13:52.969397Z"
    }
   },
   "outputs": [],
   "source": [
    "model = get_siamese_model((28, 28, 1), verbose=True)\n",
    "model.compile(loss=contrastive_loss,optimizer=Adam(lr = 0.00006))\n",
    "# model.compile(loss=contrastive_loss,optimizer=Adadelta())\n",
    "# model.compile(loss='binary_crossentropy',optimizer=Adam(lr = 0.00006))\n",
    "model.summary()"
   ]
  },
  {
   "cell_type": "markdown",
   "metadata": {},
   "source": [
    "## Loading dataset"
   ]
  },
  {
   "cell_type": "code",
   "execution_count": null,
   "metadata": {
    "ExecuteTime": {
     "end_time": "2019-10-18T19:05:24.732907Z",
     "start_time": "2019-10-18T19:05:23.298733Z"
    },
    "scrolled": false
   },
   "outputs": [],
   "source": [
    "loader = Siamese_Loader(train_path=['dataset/kuzushiji-mnist/k49-train-imgs.npz',\n",
    "                                    'dataset/kuzushiji-mnist/k49-train-labels.npz'],\n",
    "                       test_path=['dataset/kuzushiji-mnist/k49-test-imgs.npz',\n",
    "                                  'dataset/kuzushiji-mnist/k49-test-labels.npz'])"
   ]
  },
  {
   "cell_type": "code",
   "execution_count": null,
   "metadata": {
    "ExecuteTime": {
     "end_time": "2019-10-18T19:05:25.927015Z",
     "start_time": "2019-10-18T19:05:25.924016Z"
    },
    "scrolled": false
   },
   "outputs": [],
   "source": [
    "#train_pairs, train_targets = loader.get_batch(batch_multiplier=2)"
   ]
  },
  {
   "cell_type": "code",
   "execution_count": null,
   "metadata": {
    "ExecuteTime": {
     "end_time": "2019-10-18T19:45:59.441607Z",
     "start_time": "2019-10-18T19:45:59.429614Z"
    }
   },
   "outputs": [],
   "source": [
    "N = 10\n",
    "test_pairs, test_targets = loader.one_shot_task(N=N, tipo='test')\n",
    "print(test_targets)\n",
    "\n",
    "plot_oneshot_task(test_pairs[0][9], test_pairs[1][:N])"
   ]
  },
  {
   "cell_type": "markdown",
   "metadata": {},
   "source": [
    "# Training pipeline 1"
   ]
  },
  {
   "cell_type": "code",
   "execution_count": 161,
   "metadata": {
    "ExecuteTime": {
     "end_time": "2019-10-23T01:18:11.984453Z",
     "start_time": "2019-10-23T01:18:11.975456Z"
    }
   },
   "outputs": [],
   "source": [
    "evaluate = 100 # interval for evaluating on one-shot tasks and losses\n",
    "batch_multiplier = 5\n",
    "n_iter = 2000 # 20000\n",
    "best = -1\n",
    "N_way = 10\n",
    "data_path = 'kmodel_weights/'\n",
    "weights_path_2 = 'kmodel_weights/kmodel_weights_1.h5'"
   ]
  },
  {
   "cell_type": "code",
   "execution_count": null,
   "metadata": {
    "ExecuteTime": {
     "end_time": "2019-10-19T03:34:29.191535Z",
     "start_time": "2019-10-19T03:34:22.503428Z"
    }
   },
   "outputs": [],
   "source": [
    "print(\"Starting training process!\")\n",
    "print(\"##############################################################\")\n",
    "t_start = time.time()\n",
    "for i in tqdm_notebook(range(1, n_iter)):\n",
    "    \n",
    "    inputs, targets = loader.get_batch(batch_multiplier, disable_progress_bar=True)\n",
    "    \n",
    "    loss=model.train_on_batch(inputs,targets)\n",
    "    \n",
    "    if i % evaluate == 0:\n",
    "        clear_output()\n",
    "        print(\"Time for {0} iterations: {1}\".format(i, time.time()-t_start))\n",
    "        val_acc = loader.test_oneshot(model,N_way,20,verbose=True)\n",
    "        if val_acc >= best:\n",
    "            print(\"Current best: {0}, previous best: {1}\".format(val_acc, best))\n",
    "            print(\"Saving weights to: {0} \\n\".format(weights_path_2))\n",
    "            model.save_weights(weights_path_2)\n",
    "            best=val_acc   \n",
    "    \n",
    "        print(\"iteration {}, training loss: {:.2f},\".format(i,loss))\n",
    "        print('---------------------------------------------------------------------------------')\n",
    "\n",
    "        \n",
    "# weights_path_2 = os.path.join(data_path, \"model_weights.h5\")\n",
    "# model.load_weights(weights_path_2)"
   ]
  },
  {
   "cell_type": "markdown",
   "metadata": {},
   "source": [
    "# Training pipeline 2"
   ]
  },
  {
   "cell_type": "code",
   "execution_count": null,
   "metadata": {
    "ExecuteTime": {
     "end_time": "2019-10-18T18:31:39.474335Z",
     "start_time": "2019-10-18T18:29:13.836649Z"
    }
   },
   "outputs": [],
   "source": [
    "model.fit(x=train_pairs, y=train_targets, epochs=2000) "
   ]
  },
  {
   "cell_type": "code",
   "execution_count": null,
   "metadata": {
    "ExecuteTime": {
     "end_time": "2019-10-18T18:31:48.152746Z",
     "start_time": "2019-10-18T18:31:48.127762Z"
    }
   },
   "outputs": [],
   "source": [
    "weight_path_fit = 'kmodel_weights/model_weights_2_10.h5'\n",
    "model.save_weights(weight_path_fit)"
   ]
  },
  {
   "cell_type": "code",
   "execution_count": null,
   "metadata": {
    "ExecuteTime": {
     "end_time": "2019-10-18T18:31:50.860636Z",
     "start_time": "2019-10-18T18:31:50.853643Z"
    }
   },
   "outputs": [],
   "source": [
    "len(test_pairs[0])"
   ]
  },
  {
   "cell_type": "code",
   "execution_count": null,
   "metadata": {
    "ExecuteTime": {
     "end_time": "2019-10-18T19:48:50.969775Z",
     "start_time": "2019-10-18T19:48:50.859837Z"
    }
   },
   "outputs": [],
   "source": [
    "N = 10\n",
    "test_pairs, test_targets = loader.one_shot_task(N=N, tipo='test')\n",
    "plot_oneshot_task(test_pairs[0][9], test_pairs[1][:N])"
   ]
  },
  {
   "cell_type": "code",
   "execution_count": null,
   "metadata": {
    "ExecuteTime": {
     "end_time": "2019-10-18T19:48:51.502632Z",
     "start_time": "2019-10-18T19:48:51.469649Z"
    }
   },
   "outputs": [],
   "source": [
    "predict = model.predict(x=test_pairs)\n",
    "predict"
   ]
  },
  {
   "cell_type": "code",
   "execution_count": null,
   "metadata": {
    "ExecuteTime": {
     "end_time": "2019-10-18T15:58:27.174831Z",
     "start_time": "2019-10-18T15:58:27.171831Z"
    }
   },
   "outputs": [],
   "source": [
    "# fpr, tpr, thresholds = metrics.roc_curve(test_targets, predict)\n",
    "# metrics.auc(fpr, tpr)"
   ]
  },
  {
   "cell_type": "markdown",
   "metadata": {},
   "source": [
    "# OMNIGLOT - ひらがな"
   ]
  },
  {
   "cell_type": "code",
   "execution_count": 8,
   "metadata": {},
   "outputs": [],
   "source": [
    "#!pip install scipy==1.1.0"
   ]
  },
  {
   "cell_type": "code",
   "execution_count": 10,
   "metadata": {
    "ExecuteTime": {
     "end_time": "2019-10-25T18:47:43.293383Z",
     "start_time": "2019-10-25T18:47:39.925338Z"
    }
   },
   "outputs": [
    {
     "name": "stdout",
     "output_type": "stream",
     "text": [
      "loading alphabet: Japanese_(hiragana)\n",
      "loading alphabet: Japanese_(hiragana)\n"
     ]
    }
   ],
   "source": [
    "from load_data import *"
   ]
  },
  {
   "cell_type": "code",
   "execution_count": 11,
   "metadata": {
    "ExecuteTime": {
     "end_time": "2019-10-25T18:47:45.785054Z",
     "start_time": "2019-10-25T18:47:45.779056Z"
    }
   },
   "outputs": [],
   "source": [
    "data_path = os.path.join('dataset/omniglot')\n",
    "train_folder = os.path.join(data_path,'images_train')\n",
    "valpath = os.path.join(data_path,'images_test')"
   ]
  },
  {
   "cell_type": "code",
   "execution_count": 12,
   "metadata": {
    "ExecuteTime": {
     "end_time": "2019-10-25T18:47:48.133257Z",
     "start_time": "2019-10-25T18:47:47.998102Z"
    }
   },
   "outputs": [
    {
     "name": "stdout",
     "output_type": "stream",
     "text": [
      "Training alphabets: \n",
      "\n",
      "['Japanese_(hiragana)']\n",
      "Validation alphabets:\n",
      "\n",
      "['Japanese_(hiragana)']\n"
     ]
    }
   ],
   "source": [
    "with open(os.path.join(data_path, \"pickle/train.pickle\"), \"rb\") as f:\n",
    "    (X, classes) = pickle.load(f)\n",
    "\n",
    "with open(os.path.join(data_path, \"pickle/val.pickle\"), \"rb\") as f:\n",
    "    (Xval, val_classes) = pickle.load(f)\n",
    "    \n",
    "print(\"Training alphabets: \\n\")\n",
    "print(list(classes.keys()))\n",
    "print(\"Validation alphabets:\", end=\"\\n\\n\")\n",
    "print(list(val_classes.keys()))"
   ]
  },
  {
   "cell_type": "code",
   "execution_count": 13,
   "metadata": {
    "ExecuteTime": {
     "end_time": "2019-10-25T18:47:49.541940Z",
     "start_time": "2019-10-25T18:47:49.513939Z"
    }
   },
   "outputs": [],
   "source": [
    "x_train = []\n",
    "y_train = []\n",
    "x_test = []\n",
    "y_test = []\n",
    "\n",
    "target = 0\n",
    "for classe in X:    \n",
    "    for img in classe:\n",
    "        x_train.append(255 - img)\n",
    "        y_train.append(target)\n",
    "    target += 1\n",
    "\n",
    "target = 0\n",
    "for classe in Xval:    \n",
    "    for img in classe:\n",
    "        x_test.append(255 - img)\n",
    "        y_test.append(target)\n",
    "    target += 1    "
   ]
  },
  {
   "cell_type": "code",
   "execution_count": 14,
   "metadata": {
    "ExecuteTime": {
     "end_time": "2019-10-25T18:47:51.827631Z",
     "start_time": "2019-10-25T18:47:51.811623Z"
    }
   },
   "outputs": [],
   "source": [
    "x_imgs = np.asarray([np.asarray(x_train), np.asarray(x_test)])\n",
    "y_lbls = np.asarray([np.asarray(y_train), np.asarray(y_test)])"
   ]
  },
  {
   "cell_type": "code",
   "execution_count": 15,
   "metadata": {
    "ExecuteTime": {
     "end_time": "2019-10-25T18:47:52.600931Z",
     "start_time": "2019-10-25T18:47:52.590938Z"
    }
   },
   "outputs": [
    {
     "data": {
      "text/plain": [
       "(780, 105, 105)"
      ]
     },
     "execution_count": 15,
     "metadata": {},
     "output_type": "execute_result"
    }
   ],
   "source": [
    "x_imgs[0].shape"
   ]
  },
  {
   "cell_type": "markdown",
   "metadata": {},
   "source": [
    "### Omni Loader"
   ]
  },
  {
   "cell_type": "code",
   "execution_count": 16,
   "metadata": {
    "ExecuteTime": {
     "end_time": "2019-10-25T18:47:54.607175Z",
     "start_time": "2019-10-25T18:47:54.597169Z"
    }
   },
   "outputs": [],
   "source": [
    "omni_loader = Siamese_Loader(images = x_imgs, labels=y_lbls, dataset_type='omniglot_hiragana')"
   ]
  },
  {
   "cell_type": "code",
   "execution_count": 17,
   "metadata": {
    "ExecuteTime": {
     "end_time": "2019-10-25T18:47:55.369195Z",
     "start_time": "2019-10-25T18:47:55.364199Z"
    }
   },
   "outputs": [
    {
     "data": {
      "text/plain": [
       "'omniglot_hiragana'"
      ]
     },
     "execution_count": 17,
     "metadata": {},
     "output_type": "execute_result"
    }
   ],
   "source": [
    "omni_loader.dataset_type"
   ]
  },
  {
   "cell_type": "markdown",
   "metadata": {},
   "source": [
    "### Model"
   ]
  },
  {
   "cell_type": "code",
   "execution_count": 87,
   "metadata": {
    "ExecuteTime": {
     "end_time": "2019-10-25T20:00:20.613257Z",
     "start_time": "2019-10-25T20:00:16.728696Z"
    },
    "scrolled": false
   },
   "outputs": [
    {
     "name": "stdout",
     "output_type": "stream",
     "text": [
      "__________________________________________________________________________________________________\n",
      "Layer (type)                    Output Shape         Param #     Connected to                     \n",
      "==================================================================================================\n",
      "input_17 (InputLayer)           (None, 105, 105, 1)  0                                            \n",
      "__________________________________________________________________________________________________\n",
      "input_18 (InputLayer)           (None, 105, 105, 1)  0                                            \n",
      "__________________________________________________________________________________________________\n",
      "sequential_9 (Sequential)       (None, 4096)         38947648    input_17[0][0]                   \n",
      "                                                                 input_18[0][0]                   \n",
      "__________________________________________________________________________________________________\n",
      "lambda_8 (Lambda)               (None, 1)            0           sequential_9[1][0]               \n",
      "                                                                 sequential_9[2][0]               \n",
      "__________________________________________________________________________________________________\n",
      "dense_15 (Dense)                (None, 1)            2           lambda_8[0][0]                   \n",
      "==================================================================================================\n",
      "Total params: 38,947,650\n",
      "Trainable params: 38,947,650\n",
      "Non-trainable params: 0\n",
      "__________________________________________________________________________________________________\n"
     ]
    }
   ],
   "source": [
    "model_hiragana = get_siamese_model((105, 105, 1), verbose=False, similarity_metric='l2')\n",
    "# model_hiragana.compile(loss=contrastive_loss,optimizer=Adam(lr = 0.00006),metrics=['accuracy'])\n",
    "model_hiragana.compile(loss=contrastive_loss,optimizer=RMSprop(),metrics=[accuracy])\n",
    "# model.compile(loss=contrastive_loss,optimizer=Adadelta())\n",
    "# model.compile(loss='binary_crossentropy',optimizer=Adam(lr = 0.00006))\n",
    "model_hiragana.summary()"
   ]
  },
  {
   "cell_type": "markdown",
   "metadata": {},
   "source": [
    "### Few-shot testing"
   ]
  },
  {
   "cell_type": "code",
   "execution_count": 20,
   "metadata": {
    "ExecuteTime": {
     "end_time": "2019-10-25T18:48:37.352185Z",
     "start_time": "2019-10-25T18:48:37.093524Z"
    }
   },
   "outputs": [
    {
     "data": {
      "image/png": "[encoded data removed]",
      "text/plain": [
       "<Figure size 432x288 with 2 Axes>"
      ]
     },
     "metadata": {
      "needs_background": "light"
     },
     "output_type": "display_data"
    }
   ],
   "source": [
    "N = 16\n",
    "test_pairs, test_targets, idxs_pairs = omni_loader.one_shot_task(N=N, tipo='test')\n",
    "\n",
    "plot_oneshot_task(test_pairs[0][9], test_pairs[1][:N], x_s=105, y_s=105)"
   ]
  },
  {
   "cell_type": "code",
   "execution_count": 21,
   "metadata": {
    "ExecuteTime": {
     "end_time": "2019-10-25T18:48:41.514983Z",
     "start_time": "2019-10-25T18:48:41.508985Z"
    }
   },
   "outputs": [
    {
     "data": {
      "text/plain": [
       "[79, 33, 136, 161, 40, 238, 50, 199, 161, 226, 209, 216, 74, 13, 130, 138]"
      ]
     },
     "execution_count": 21,
     "metadata": {},
     "output_type": "execute_result"
    }
   ],
   "source": [
    "idxs_pairs"
   ]
  },
  {
   "cell_type": "code",
   "execution_count": 22,
   "metadata": {
    "ExecuteTime": {
     "end_time": "2019-10-25T18:48:42.724830Z",
     "start_time": "2019-10-25T18:48:42.290769Z"
    }
   },
   "outputs": [
    {
     "data": {
      "image/png": "[encoded data removed]",
      "text/plain": [
       "<Figure size 432x288 with 1 Axes>"
      ]
     },
     "metadata": {
      "needs_background": "light"
     },
     "output_type": "display_data"
    }
   ],
   "source": [
    "show_image(omni_loader.test_images[20].reshape((105,105)))"
   ]
  },
  {
   "cell_type": "markdown",
   "metadata": {},
   "source": [
    "### Training"
   ]
  },
  {
   "cell_type": "code",
   "execution_count": 79,
   "metadata": {
    "ExecuteTime": {
     "end_time": "2019-10-25T19:54:09.677990Z",
     "start_time": "2019-10-25T19:54:09.669995Z"
    }
   },
   "outputs": [],
   "source": [
    "evaluate = 100 # interval for evaluating on one-shot tasks and losses\n",
    "batch_multiplier = 10\n",
    "n_iter = 600 # 20000\n",
    "best = -1\n",
    "N_way = 10\n",
    "data_path = 'kmodel_weights/'\n",
    "weights_path_2 = 'kmodel_weights/20_inv_omni_model_hiragana_weights_1.h5'"
   ]
  },
  {
   "cell_type": "code",
   "execution_count": 24,
   "metadata": {
    "ExecuteTime": {
     "end_time": "2019-10-25T18:48:54.740498Z",
     "start_time": "2019-10-25T18:48:54.737498Z"
    },
    "scrolled": true
   },
   "outputs": [],
   "source": [
    "# print(\"Starting training process!\")\n",
    "# print(\"##############################################################\")\n",
    "# t_start = time.time()\n",
    "# for i in tqdm_notebook(range(1, n_iter)):\n",
    "    \n",
    "#     inputs, targets, _ = omni_loader.get_batch(batch_multiplier, disable_progress_bar=True)\n",
    "    \n",
    "#     loss=model_hiragana.train_on_batch(inputs,targets)\n",
    "    \n",
    "#     if i % evaluate == 0:\n",
    "#         clear_output()\n",
    "#         print(\"Time for {0} iterations: {1}\".format(i, time.time()-t_start))\n",
    "#         val_acc = omni_loader.test_oneshot(model_hiragana,N_way,1,verbose=True)\n",
    "#         if val_acc >= best:\n",
    "#             print(\"Current best: {0}, previous best: {1}\".format(val_acc, best))\n",
    "#             print(\"Saving weights to: {0} \\n\".format(weights_path_2))\n",
    "#             model_hiragana.save_weights(weights_path_2)\n",
    "#             best=val_acc   \n",
    "    \n",
    "#         print(\"iteration {}, training loss: {:.2f},\".format(i,loss))\n",
    "#         print('---------------------------------------------------------------------------------')"
   ]
  },
  {
   "cell_type": "code",
   "execution_count": null,
   "metadata": {
    "ExecuteTime": {
     "start_time": "2019-10-25T20:05:36.013Z"
    }
   },
   "outputs": [
    {
     "data": {
      "application/vnd.jupyter.widget-view+json": {
       "model_id": "b134212d54eb46268b562b034c42f3f6",
       "version_major": 2,
       "version_minor": 0
      },
      "text/plain": [
       "HBox(children=(IntProgress(value=0, max=10), HTML(value='')))"
      ]
     },
     "metadata": {},
     "output_type": "display_data"
    },
    {
     "name": "stdout",
     "output_type": "stream",
     "text": [
      "\n"
     ]
    },
    {
     "name": "stderr",
     "output_type": "stream",
     "text": [
      "W1025 17:05:37.000089 24164 deprecation.py:323] From C:\\ProgramData\\Anaconda3\\lib\\site-packages\\tensorflow\\python\\ops\\math_grad.py:1250: add_dispatch_support.<locals>.wrapper (from tensorflow.python.ops.array_ops) is deprecated and will be removed in a future version.\n",
      "Instructions for updating:\n",
      "Use tf.where in 2.0, which has the same broadcast rule as np.where\n"
     ]
    },
    {
     "name": "stdout",
     "output_type": "stream",
     "text": [
      "Epoch 1/20\n"
     ]
    }
   ],
   "source": [
    "tr_x, tr_y, _ = omni_loader.get_batch(batch_multiplier=10)\n",
    "model_hiragana.fit([ tr_x[0], tr_x[1] ], tr_y,\n",
    "                   batch_size=32,\n",
    "                   epochs=20)\n",
    "model_hiragana.save_weights(weights_path_2)"
   ]
  },
  {
   "cell_type": "code",
   "execution_count": 96,
   "metadata": {
    "ExecuteTime": {
     "end_time": "2019-10-25T20:04:48.938470Z",
     "start_time": "2019-10-25T20:04:48.753479Z"
    }
   },
   "outputs": [
    {
     "data": {
      "text/plain": [
       "array([[[[0.],\n",
       "         [0.],\n",
       "         [0.],\n",
       "         ...,\n",
       "         [0.],\n",
       "         [0.],\n",
       "         [0.]],\n",
       "\n",
       "        [[0.],\n",
       "         [0.],\n",
       "         [0.],\n",
       "         ...,\n",
       "         [0.],\n",
       "         [0.],\n",
       "         [0.]],\n",
       "\n",
       "        [[0.],\n",
       "         [0.],\n",
       "         [0.],\n",
       "         ...,\n",
       "         [0.],\n",
       "         [0.],\n",
       "         [0.]],\n",
       "\n",
       "        ...,\n",
       "\n",
       "        [[0.],\n",
       "         [0.],\n",
       "         [0.],\n",
       "         ...,\n",
       "         [0.],\n",
       "         [0.],\n",
       "         [0.]],\n",
       "\n",
       "        [[0.],\n",
       "         [0.],\n",
       "         [0.],\n",
       "         ...,\n",
       "         [0.],\n",
       "         [0.],\n",
       "         [0.]],\n",
       "\n",
       "        [[0.],\n",
       "         [0.],\n",
       "         [0.],\n",
       "         ...,\n",
       "         [0.],\n",
       "         [0.],\n",
       "         [0.]]],\n",
       "\n",
       "\n",
       "       [[[0.],\n",
       "         [0.],\n",
       "         [0.],\n",
       "         ...,\n",
       "         [0.],\n",
       "         [0.],\n",
       "         [0.]],\n",
       "\n",
       "        [[0.],\n",
       "         [0.],\n",
       "         [0.],\n",
       "         ...,\n",
       "         [0.],\n",
       "         [0.],\n",
       "         [0.]],\n",
       "\n",
       "        [[0.],\n",
       "         [0.],\n",
       "         [0.],\n",
       "         ...,\n",
       "         [0.],\n",
       "         [0.],\n",
       "         [0.]],\n",
       "\n",
       "        ...,\n",
       "\n",
       "        [[0.],\n",
       "         [0.],\n",
       "         [0.],\n",
       "         ...,\n",
       "         [0.],\n",
       "         [0.],\n",
       "         [0.]],\n",
       "\n",
       "        [[0.],\n",
       "         [0.],\n",
       "         [0.],\n",
       "         ...,\n",
       "         [0.],\n",
       "         [0.],\n",
       "         [0.]],\n",
       "\n",
       "        [[0.],\n",
       "         [0.],\n",
       "         [0.],\n",
       "         ...,\n",
       "         [0.],\n",
       "         [0.],\n",
       "         [0.]]]])"
      ]
     },
     "execution_count": 96,
     "metadata": {},
     "output_type": "execute_result"
    }
   ],
   "source": [
    "np.array(tr_x)[:,0]"
   ]
  },
  {
   "cell_type": "markdown",
   "metadata": {},
   "source": [
    "### Testing stuff"
   ]
  },
  {
   "cell_type": "code",
   "execution_count": 25,
   "metadata": {
    "ExecuteTime": {
     "end_time": "2019-10-25T18:48:59.247350Z",
     "start_time": "2019-10-25T18:48:58.918540Z"
    }
   },
   "outputs": [],
   "source": [
    "inputs, targets, categs_list = omni_loader.get_batch(batch_multiplier, disable_progress_bar=True)\n",
    "# inputs, targets = loader.get_batch(batch_multiplier, disable_progress_bar=True)"
   ]
  },
  {
   "cell_type": "code",
   "execution_count": 26,
   "metadata": {
    "ExecuteTime": {
     "end_time": "2019-10-25T18:48:59.264340Z",
     "start_time": "2019-10-25T18:48:59.249348Z"
    }
   },
   "outputs": [
    {
     "data": {
      "text/plain": [
       "1040"
      ]
     },
     "execution_count": 26,
     "metadata": {},
     "output_type": "execute_result"
    }
   ],
   "source": [
    "len(inputs[0])"
   ]
  },
  {
   "cell_type": "code",
   "execution_count": 27,
   "metadata": {
    "ExecuteTime": {
     "end_time": "2019-10-25T18:49:00.479541Z",
     "start_time": "2019-10-25T18:49:00.291649Z"
    }
   },
   "outputs": [
    {
     "data": {
      "image/png": "[encoded data removed]",
      "text/plain": [
       "<Figure size 432x288 with 1 Axes>"
      ]
     },
     "metadata": {
      "needs_background": "light"
     },
     "output_type": "display_data"
    }
   ],
   "source": [
    "plt.imshow(inputs[0][2].reshape((105,105)), cmap='gray')\n",
    "\n",
    "plt.show()"
   ]
  },
  {
   "cell_type": "code",
   "execution_count": 28,
   "metadata": {
    "ExecuteTime": {
     "end_time": "2019-10-25T18:49:01.087958Z",
     "start_time": "2019-10-25T18:49:00.863081Z"
    }
   },
   "outputs": [
    {
     "data": {
      "image/png": "[encoded data removed]",
      "text/plain": [
       "<Figure size 432x288 with 1 Axes>"
      ]
     },
     "metadata": {
      "needs_background": "light"
     },
     "output_type": "display_data"
    }
   ],
   "source": [
    "plt.imshow(inputs[1][2].reshape((105,105)), cmap='gray')\n",
    "\n",
    "plt.show()"
   ]
  },
  {
   "cell_type": "code",
   "execution_count": 29,
   "metadata": {
    "ExecuteTime": {
     "end_time": "2019-10-25T18:49:01.753527Z",
     "start_time": "2019-10-25T18:49:01.747529Z"
    }
   },
   "outputs": [
    {
     "name": "stdout",
     "output_type": "stream",
     "text": [
      "[1, 1, 1, 1, 1, 1, 1, 1, 1, 1, 1, 1, 1, 1, 1, 1, 1, 1, 1, 1, 1, 1, 1, 1, 1, 1, 1, 1, 1, 1, 1, 1, 1, 1, 1, 1, 1, 1, 1, 1, 1, 1, 1, 1, 1, 1, 1, 1, 1, 1, 1, 1, 0, 0, 0, 0, 0, 0, 0, 0, 0, 0, 0, 0, 0, 0, 0, 0, 0, 0, 0, 0, 0, 0, 0, 0, 0, 0, 0, 0, 0, 0, 0, 0, 0, 0, 0, 0, 0, 0, 0, 0, 0, 0, 0, 0, 0, 0, 0, 0, 0, 0, 0, 0, 1, 1, 1, 1, 1, 1, 1, 1, 1, 1, 1, 1, 1, 1, 1, 1, 1, 1, 1, 1, 1, 1, 1, 1, 1, 1, 1, 1, 1, 1, 1, 1, 1, 1, 1, 1, 1, 1, 1, 1, 1, 1, 1, 1, 1, 1, 1, 1, 1, 1, 1, 1, 0, 0, 0, 0, 0, 0, 0, 0, 0, 0, 0, 0, 0, 0, 0, 0, 0, 0, 0, 0, 0, 0, 0, 0, 0, 0, 0, 0, 0, 0, 0, 0, 0, 0, 0, 0, 0, 0, 0, 0, 0, 0, 0, 0, 0, 0, 0, 0, 0, 0, 0, 0, 1, 1, 1, 1, 1, 1, 1, 1, 1, 1, 1, 1, 1, 1, 1, 1, 1, 1, 1, 1, 1, 1, 1, 1, 1, 1, 1, 1, 1, 1, 1, 1, 1, 1, 1, 1, 1, 1, 1, 1, 1, 1, 1, 1, 1, 1, 1, 1, 1, 1, 1, 1, 0, 0, 0, 0, 0, 0, 0, 0, 0, 0, 0, 0, 0, 0, 0, 0, 0, 0, 0, 0, 0, 0, 0, 0, 0, 0, 0, 0, 0, 0, 0, 0, 0, 0, 0, 0, 0, 0, 0, 0, 0, 0, 0, 0, 0, 0, 0, 0, 0, 0, 0, 0, 1, 1, 1, 1, 1, 1, 1, 1, 1, 1, 1, 1, 1, 1, 1, 1, 1, 1, 1, 1, 1, 1, 1, 1, 1, 1, 1, 1, 1, 1, 1, 1, 1, 1, 1, 1, 1, 1, 1, 1, 1, 1, 1, 1, 1, 1, 1, 1, 1, 1, 1, 1, 0, 0, 0, 0, 0, 0, 0, 0, 0, 0, 0, 0, 0, 0, 0, 0, 0, 0, 0, 0, 0, 0, 0, 0, 0, 0, 0, 0, 0, 0, 0, 0, 0, 0, 0, 0, 0, 0, 0, 0, 0, 0, 0, 0, 0, 0, 0, 0, 0, 0, 0, 0, 1, 1, 1, 1, 1, 1, 1, 1, 1, 1, 1, 1, 1, 1, 1, 1, 1, 1, 1, 1, 1, 1, 1, 1, 1, 1, 1, 1, 1, 1, 1, 1, 1, 1, 1, 1, 1, 1, 1, 1, 1, 1, 1, 1, 1, 1, 1, 1, 1, 1, 1, 1, 0, 0, 0, 0, 0, 0, 0, 0, 0, 0, 0, 0, 0, 0, 0, 0, 0, 0, 0, 0, 0, 0, 0, 0, 0, 0, 0, 0, 0, 0, 0, 0, 0, 0, 0, 0, 0, 0, 0, 0, 0, 0, 0, 0, 0, 0, 0, 0, 0, 0, 0, 0, 1, 1, 1, 1, 1, 1, 1, 1, 1, 1, 1, 1, 1, 1, 1, 1, 1, 1, 1, 1, 1, 1, 1, 1, 1, 1, 1, 1, 1, 1, 1, 1, 1, 1, 1, 1, 1, 1, 1, 1, 1, 1, 1, 1, 1, 1, 1, 1, 1, 1, 1, 1, 0, 0, 0, 0, 0, 0, 0, 0, 0, 0, 0, 0, 0, 0, 0, 0, 0, 0, 0, 0, 0, 0, 0, 0, 0, 0, 0, 0, 0, 0, 0, 0, 0, 0, 0, 0, 0, 0, 0, 0, 0, 0, 0, 0, 0, 0, 0, 0, 0, 0, 0, 0, 1, 1, 1, 1, 1, 1, 1, 1, 1, 1, 1, 1, 1, 1, 1, 1, 1, 1, 1, 1, 1, 1, 1, 1, 1, 1, 1, 1, 1, 1, 1, 1, 1, 1, 1, 1, 1, 1, 1, 1, 1, 1, 1, 1, 1, 1, 1, 1, 1, 1, 1, 1, 0, 0, 0, 0, 0, 0, 0, 0, 0, 0, 0, 0, 0, 0, 0, 0, 0, 0, 0, 0, 0, 0, 0, 0, 0, 0, 0, 0, 0, 0, 0, 0, 0, 0, 0, 0, 0, 0, 0, 0, 0, 0, 0, 0, 0, 0, 0, 0, 0, 0, 0, 0, 1, 1, 1, 1, 1, 1, 1, 1, 1, 1, 1, 1, 1, 1, 1, 1, 1, 1, 1, 1, 1, 1, 1, 1, 1, 1, 1, 1, 1, 1, 1, 1, 1, 1, 1, 1, 1, 1, 1, 1, 1, 1, 1, 1, 1, 1, 1, 1, 1, 1, 1, 1, 0, 0, 0, 0, 0, 0, 0, 0, 0, 0, 0, 0, 0, 0, 0, 0, 0, 0, 0, 0, 0, 0, 0, 0, 0, 0, 0, 0, 0, 0, 0, 0, 0, 0, 0, 0, 0, 0, 0, 0, 0, 0, 0, 0, 0, 0, 0, 0, 0, 0, 0, 0, 1, 1, 1, 1, 1, 1, 1, 1, 1, 1, 1, 1, 1, 1, 1, 1, 1, 1, 1, 1, 1, 1, 1, 1, 1, 1, 1, 1, 1, 1, 1, 1, 1, 1, 1, 1, 1, 1, 1, 1, 1, 1, 1, 1, 1, 1, 1, 1, 1, 1, 1, 1, 0, 0, 0, 0, 0, 0, 0, 0, 0, 0, 0, 0, 0, 0, 0, 0, 0, 0, 0, 0, 0, 0, 0, 0, 0, 0, 0, 0, 0, 0, 0, 0, 0, 0, 0, 0, 0, 0, 0, 0, 0, 0, 0, 0, 0, 0, 0, 0, 0, 0, 0, 0, 1, 1, 1, 1, 1, 1, 1, 1, 1, 1, 1, 1, 1, 1, 1, 1, 1, 1, 1, 1, 1, 1, 1, 1, 1, 1, 1, 1, 1, 1, 1, 1, 1, 1, 1, 1, 1, 1, 1, 1, 1, 1, 1, 1, 1, 1, 1, 1, 1, 1, 1, 1, 0, 0, 0, 0, 0, 0, 0, 0, 0, 0, 0, 0, 0, 0, 0, 0, 0, 0, 0, 0, 0, 0, 0, 0, 0, 0, 0, 0, 0, 0, 0, 0, 0, 0, 0, 0, 0, 0, 0, 0, 0, 0, 0, 0, 0, 0, 0, 0, 0, 0, 0, 0]\n"
     ]
    }
   ],
   "source": [
    "print(targets)"
   ]
  },
  {
   "cell_type": "markdown",
   "metadata": {},
   "source": [
    "#### One shot task"
   ]
  },
  {
   "cell_type": "code",
   "execution_count": 30,
   "metadata": {
    "ExecuteTime": {
     "end_time": "2019-10-25T18:49:11.192894Z",
     "start_time": "2019-10-25T18:49:11.186885Z"
    }
   },
   "outputs": [],
   "source": [
    "x_t, y_t, ids_ = omni_loader.one_shot_task(N=2, tipo='test')"
   ]
  },
  {
   "cell_type": "code",
   "execution_count": 31,
   "metadata": {
    "ExecuteTime": {
     "end_time": "2019-10-25T18:49:11.688439Z",
     "start_time": "2019-10-25T18:49:11.683443Z"
    }
   },
   "outputs": [
    {
     "name": "stdout",
     "output_type": "stream",
     "text": [
      "[1, 0]\n"
     ]
    }
   ],
   "source": [
    "print(y_t)"
   ]
  },
  {
   "cell_type": "code",
   "execution_count": 32,
   "metadata": {
    "ExecuteTime": {
     "end_time": "2019-10-25T18:49:12.595578Z",
     "start_time": "2019-10-25T18:49:12.483643Z"
    },
    "scrolled": true
   },
   "outputs": [
    {
     "data": {
      "image/png": "[encoded data removed]",
      "text/plain": [
       "<Figure size 432x288 with 2 Axes>"
      ]
     },
     "metadata": {
      "needs_background": "light"
     },
     "output_type": "display_data"
    }
   ],
   "source": [
    "plot_oneshot_task(x_t[0][0], x_t[1], x_s=105, y_s=105)"
   ]
  },
  {
   "cell_type": "code",
   "execution_count": 74,
   "metadata": {
    "ExecuteTime": {
     "end_time": "2019-10-25T19:47:48.784492Z",
     "start_time": "2019-10-25T19:47:47.106450Z"
    },
    "scrolled": true
   },
   "outputs": [],
   "source": [
    "model_hiragana.load_weights('kmodel_weights/gc/1000iter_inv_omni_model_hiragana_weights.h5')"
   ]
  },
  {
   "cell_type": "code",
   "execution_count": 49,
   "metadata": {
    "ExecuteTime": {
     "end_time": "2019-10-25T19:17:09.515565Z",
     "start_time": "2019-10-25T19:13:26.289477Z"
    }
   },
   "outputs": [
    {
     "data": {
      "application/vnd.jupyter.widget-view+json": {
       "model_id": "4f02126a84b74b279fc7a171309ec728",
       "version_major": 2,
       "version_minor": 0
      },
      "text/plain": [
       "HBox(children=(IntProgress(value=0), HTML(value='')))"
      ]
     },
     "metadata": {},
     "output_type": "display_data"
    },
    {
     "name": "stdout",
     "output_type": "stream",
     "text": [
      "Precisao: 100.0%\n",
      "Precisao: 100.0%\n",
      "Precisao: 100.0%\n",
      "Precisao: 100.0%\n",
      "Precisao: 100.0%\n",
      "Precisao: 100.0%\n",
      "Precisao: 100.0%\n",
      "Precisao: 87.5%\n",
      "Precisao: 88.88888888888889%\n",
      "Precisao: 90.0%\n",
      "Precisao: 90.9090909090909%\n",
      "Precisao: 91.66666666666666%\n",
      "Precisao: 84.61538461538461%\n",
      "Precisao: 78.57142857142857%\n",
      "Precisao: 73.33333333333333%\n",
      "Precisao: 75.0%\n",
      "Precisao: 70.58823529411765%\n",
      "Precisao: 66.66666666666666%\n",
      "Precisao: 63.1578947368421%\n",
      "Precisao: 65.0%\n",
      "Precisao: 61.904761904761905%\n",
      "Precisao: 59.09090909090909%\n",
      "Precisao: 60.86956521739131%\n",
      "Precisao: 62.5%\n",
      "Precisao: 64.0%\n",
      "Precisao: 61.53846153846154%\n",
      "Precisao: 62.96296296296296%\n",
      "Precisao: 60.71428571428571%\n",
      "Precisao: 62.06896551724138%\n",
      "Precisao: 63.33333333333333%\n",
      "Precisao: 64.51612903225806%\n",
      "Precisao: 62.5%\n",
      "Precisao: 63.63636363636363%\n",
      "Precisao: 64.70588235294117%\n",
      "Precisao: 62.857142857142854%\n",
      "Precisao: 61.111111111111114%\n",
      "Precisao: 59.45945945945946%\n",
      "Precisao: 60.526315789473685%\n",
      "Precisao: 61.53846153846154%\n",
      "Precisao: 60.0%\n",
      "Precisao: 60.97560975609756%\n",
      "Precisao: 59.523809523809526%\n",
      "Precisao: 58.139534883720934%\n",
      "Precisao: 56.81818181818182%\n",
      "Precisao: 55.55555555555556%\n",
      "Precisao: 56.52173913043478%\n",
      "Precisao: 55.319148936170215%\n",
      "Precisao: 56.25%\n",
      "Precisao: 57.14285714285714%\n",
      "Precisao: 57.99999999999999%\n",
      "Precisao: 58.82352941176471%\n",
      "Precisao: 57.692307692307686%\n",
      "Precisao: 58.490566037735846%\n",
      "Precisao: 57.407407407407405%\n",
      "Precisao: 56.36363636363636%\n",
      "Precisao: 57.14285714285714%\n",
      "Precisao: 57.89473684210527%\n",
      "Precisao: 58.620689655172406%\n",
      "Precisao: 59.32203389830508%\n",
      "Precisao: 58.333333333333336%\n",
      "Precisao: 57.377049180327866%\n",
      "Precisao: 58.06451612903226%\n",
      "Precisao: 58.730158730158735%\n",
      "Precisao: 59.375%\n",
      "Precisao: 60.0%\n",
      "Precisao: 60.60606060606061%\n",
      "Precisao: 61.19402985074627%\n",
      "Precisao: 60.29411764705882%\n",
      "Precisao: 60.86956521739131%\n",
      "Precisao: 61.42857142857143%\n",
      "Precisao: 61.97183098591549%\n",
      "Precisao: 61.111111111111114%\n",
      "Precisao: 60.273972602739725%\n",
      "Precisao: 60.810810810810814%\n",
      "Precisao: 61.33333333333333%\n",
      "Precisao: 60.526315789473685%\n",
      "Precisao: 59.74025974025974%\n",
      "Precisao: 60.256410256410255%\n",
      "Precisao: 59.49367088607595%\n",
      "Precisao: 60.0%\n",
      "Precisao: 60.49382716049383%\n",
      "Precisao: 59.756097560975604%\n",
      "Precisao: 60.24096385542169%\n",
      "Precisao: 59.523809523809526%\n",
      "Precisao: 60.0%\n",
      "Precisao: 60.46511627906976%\n",
      "Precisao: 60.91954022988506%\n",
      "Precisao: 61.36363636363637%\n",
      "Precisao: 60.67415730337079%\n",
      "Precisao: 61.111111111111114%\n",
      "Precisao: 60.43956043956044%\n",
      "Precisao: 60.86956521739131%\n",
      "Precisao: 61.29032258064516%\n",
      "Precisao: 60.63829787234043%\n",
      "Precisao: 60.0%\n",
      "Precisao: 59.375%\n",
      "Precisao: 59.79381443298969%\n",
      "Precisao: 59.183673469387756%\n",
      "Precisao: 59.59595959595959%\n",
      "Precisao: 59.0%\n",
      "\n"
     ]
    }
   ],
   "source": [
    "correct = 0\n",
    "n = 100\n",
    "for i in tqdm_notebook(range(1, n+1)):\n",
    "    x_t, y_t, _ = omni_loader.one_shot_task(N=50, tipo='test')\n",
    "    predict = model_hiragana.predict(x_t)\n",
    "    if np.argmin(predict) == 0:\n",
    "        correct += 1\n",
    "    print('Precisao: {}%'.format((correct/i)*100))  "
   ]
  },
  {
   "cell_type": "markdown",
   "metadata": {},
   "source": [
    "### hide"
   ]
  },
  {
   "cell_type": "code",
   "execution_count": 36,
   "metadata": {
    "ExecuteTime": {
     "end_time": "2019-10-25T18:54:55.443407Z",
     "start_time": "2019-10-25T18:54:55.438409Z"
    },
    "hide_input": true
   },
   "outputs": [],
   "source": [
    "#predict = model_hiragana.predict(x_t)\n",
    "#np.argmin(predict)\n",
    "\n",
    "# print(predict)\n",
    "\n",
    "# df = pd.DataFrame(data={'indice':ids_, \n",
    "#                         'predict':predict.reshape((len(predict)))})\n",
    "\n",
    "# df.sort_values(by=['predict'])[0:5]\n",
    "\n",
    "# b = df.sort_values(by=['predict'])[0:5]\n",
    "\n",
    "# omni_loader.plot_rank(np.array(b['indice'].tolist()))"
   ]
  },
  {
   "cell_type": "code",
   "execution_count": 75,
   "metadata": {
    "ExecuteTime": {
     "end_time": "2019-10-25T19:48:14.305270Z",
     "start_time": "2019-10-25T19:48:14.108384Z"
    }
   },
   "outputs": [
    {
     "data": {
      "image/png": "[encoded data removed]",
      "text/plain": [
       "<Figure size 432x288 with 1 Axes>"
      ]
     },
     "metadata": {
      "needs_background": "light"
     },
     "output_type": "display_data"
    }
   ],
   "source": [
    "show_image(x_t[1][10].reshape((105,105)))"
   ]
  },
  {
   "cell_type": "code",
   "execution_count": 78,
   "metadata": {
    "ExecuteTime": {
     "end_time": "2019-10-25T19:48:56.932636Z",
     "start_time": "2019-10-25T19:48:45.670074Z"
    },
    "scrolled": true
   },
   "outputs": [
    {
     "data": {
      "image/png": "[encoded data removed]",
      "text/plain": [
       "<Figure size 432x288 with 20 Axes>"
      ]
     },
     "metadata": {
      "needs_background": "light"
     },
     "output_type": "display_data"
    }
   ],
   "source": [
    "rank, p = omni_loader.image_retrieval(model=model_hiragana, img_search=x_t[1][10], top_n=20)"
   ]
  },
  {
   "cell_type": "code",
   "execution_count": 77,
   "metadata": {
    "ExecuteTime": {
     "end_time": "2019-10-25T19:48:28.000728Z",
     "start_time": "2019-10-25T19:48:27.990734Z"
    }
   },
   "outputs": [
    {
     "data": {
      "text/html": [
       "<div>\n",
       "<style scoped>\n",
       "    .dataframe tbody tr th:only-of-type {\n",
       "        vertical-align: middle;\n",
       "    }\n",
       "\n",
       "    .dataframe tbody tr th {\n",
       "        vertical-align: top;\n",
       "    }\n",
       "\n",
       "    .dataframe thead th {\n",
       "        text-align: right;\n",
       "    }\n",
       "</style>\n",
       "<table border=\"1\" class=\"dataframe\">\n",
       "  <thead>\n",
       "    <tr style=\"text-align: right;\">\n",
       "      <th></th>\n",
       "      <th>indice</th>\n",
       "      <th>predict</th>\n",
       "    </tr>\n",
       "  </thead>\n",
       "  <tbody>\n",
       "    <tr>\n",
       "      <th>0</th>\n",
       "      <td>0</td>\n",
       "      <td>1.000000</td>\n",
       "    </tr>\n",
       "    <tr>\n",
       "      <th>1</th>\n",
       "      <td>1</td>\n",
       "      <td>1.000000</td>\n",
       "    </tr>\n",
       "    <tr>\n",
       "      <th>2</th>\n",
       "      <td>2</td>\n",
       "      <td>1.000000</td>\n",
       "    </tr>\n",
       "    <tr>\n",
       "      <th>3</th>\n",
       "      <td>3</td>\n",
       "      <td>1.000000</td>\n",
       "    </tr>\n",
       "    <tr>\n",
       "      <th>4</th>\n",
       "      <td>4</td>\n",
       "      <td>1.000000</td>\n",
       "    </tr>\n",
       "    <tr>\n",
       "      <th>5</th>\n",
       "      <td>5</td>\n",
       "      <td>0.789935</td>\n",
       "    </tr>\n",
       "    <tr>\n",
       "      <th>6</th>\n",
       "      <td>6</td>\n",
       "      <td>0.868528</td>\n",
       "    </tr>\n",
       "    <tr>\n",
       "      <th>7</th>\n",
       "      <td>7</td>\n",
       "      <td>0.914170</td>\n",
       "    </tr>\n",
       "    <tr>\n",
       "      <th>8</th>\n",
       "      <td>8</td>\n",
       "      <td>0.591997</td>\n",
       "    </tr>\n",
       "    <tr>\n",
       "      <th>9</th>\n",
       "      <td>9</td>\n",
       "      <td>0.984838</td>\n",
       "    </tr>\n",
       "  </tbody>\n",
       "</table>\n",
       "</div>"
      ],
      "text/plain": [
       "   indice   predict\n",
       "0       0  1.000000\n",
       "1       1  1.000000\n",
       "2       2  1.000000\n",
       "3       3  1.000000\n",
       "4       4  1.000000\n",
       "5       5  0.789935\n",
       "6       6  0.868528\n",
       "7       7  0.914170\n",
       "8       8  0.591997\n",
       "9       9  0.984838"
      ]
     },
     "execution_count": 77,
     "metadata": {},
     "output_type": "execute_result"
    }
   ],
   "source": [
    "p.head(n=10)"
   ]
  },
  {
   "cell_type": "code",
   "execution_count": 39,
   "metadata": {
    "ExecuteTime": {
     "end_time": "2019-10-23T18:02:16.865694Z",
     "start_time": "2019-10-23T18:02:16.656818Z"
    }
   },
   "outputs": [
    {
     "data": {
      "image/png": "[encoded data removed]",
      "text/plain": [
       "<Figure size 432x288 with 1 Axes>"
      ]
     },
     "metadata": {
      "needs_background": "light"
     },
     "output_type": "display_data"
    }
   ],
   "source": [
    "show_image(omni_loader.test_images[226].reshape((105,105)))"
   ]
  },
  {
   "cell_type": "code",
   "execution_count": null,
   "metadata": {},
   "outputs": [],
   "source": []
  }
 ],
 "metadata": {
  "kernelspec": {
   "display_name": "Python 3",
   "language": "python",
   "name": "python3"
  },
  "language_info": {
   "codemirror_mode": {
    "name": "ipython",
    "version": 3
   },
   "file_extension": ".py",
   "mimetype": "text/x-python",
   "name": "python",
   "nbconvert_exporter": "python",
   "pygments_lexer": "ipython3",
   "version": "3.7.3"
  },
  "latex_envs": {
   "LaTeX_envs_menu_present": true,
   "autoclose": false,
   "autocomplete": true,
   "bibliofile": "biblio.bib",
   "cite_by": "apalike",
   "current_citInitial": 1,
   "eqLabelWithNumbers": true,
   "eqNumInitial": 1,
   "hotkeys": {
    "equation": "Ctrl-E",
    "itemize": "Ctrl-I"
   },
   "labels_anchors": false,
   "latex_user_defs": false,
   "report_style_numbering": false,
   "user_envs_cfg": false
  }
 },
 "nbformat": 4,
 "nbformat_minor": 2
}
