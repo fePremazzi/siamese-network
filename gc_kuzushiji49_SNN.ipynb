{
 "cells": [
  {
   "cell_type": "code",
   "execution_count": 1,
   "metadata": {
    "ExecuteTime": {
     "end_time": "2019-10-31T00:57:27.903996Z",
     "start_time": "2019-10-31T00:56:00.317533Z"
    },
    "code_folding": []
   },
   "outputs": [
    {
     "name": "stderr",
     "output_type": "stream",
     "text": [
      "Using TensorFlow backend.\n"
     ]
    }
   ],
   "source": [
    "# Import Keras and other Deep Learning dependencies\n",
    "from keras.models import Sequential\n",
    "from keras.optimizers import Adam\n",
    "from keras.layers import Conv2D, ZeroPadding2D, Activation, Input, concatenate\n",
    "from keras.models import Model, load_model\n",
    "from keras.layers.normalization import BatchNormalization\n",
    "from keras.layers.pooling import MaxPooling2D, AveragePooling2D\n",
    "from keras.layers.merge import Concatenate\n",
    "from keras.layers.core import Lambda, Flatten, Dense, Dropout\n",
    "from keras.initializers import glorot_uniform\n",
    "from sklearn.preprocessing import LabelBinarizer\n",
    "from keras.optimizers import *\n",
    "from keras.engine.topology import Layer\n",
    "from keras.regularizers import l2\n",
    "import cv2\n",
    "import sys\n",
    "import h5py\n",
    "import numpy as np\n",
    "import pandas as pd\n",
    "import matplotlib.pyplot as plt\n",
    "import time\n",
    "import os\n",
    "from tqdm import tqdm_notebook\n",
    "from sklearn.metrics import accuracy_score\n",
    "from sklearn import metrics\n",
    "from collections import Counter \n",
    "from IPython.display import clear_output\n",
    "import pandas as pd\n",
    "from matplotlib import gridspec\n",
    "from keras.optimizers import RMSprop\n",
    "from keras import activations"
   ]
  },
  {
   "cell_type": "code",
   "execution_count": 2,
   "metadata": {
    "ExecuteTime": {
     "end_time": "2019-10-31T00:57:27.995976Z",
     "start_time": "2019-10-31T00:57:27.911995Z"
    },
    "code_folding": [
     0,
     7,
     14,
     19,
     23,
     28,
     100
    ]
   },
   "outputs": [],
   "source": [
    "def initialize_weights(shape, name=None):\n",
    "    \"\"\"\n",
    "        The paper, http://www.cs.utoronto.ca/~gkoch/files/msc-thesis.pdf\n",
    "        suggests to initialize CNN layer weights with mean as 0.0 and standard deviation of 0.01\n",
    "    \"\"\"\n",
    "    return np.random.normal(loc = 0.0, scale = 1e-2, size = shape)\n",
    "\n",
    "def initialize_bias(shape, name=None):\n",
    "    \"\"\"\n",
    "        The paper, http://www.cs.utoronto.ca/~gkoch/files/msc-thesis.pdf\n",
    "        suggests to initialize CNN layer bias with mean as 0.5 and standard deviation of 0.01\n",
    "    \"\"\"\n",
    "    return np.random.normal(loc = 0.5, scale = 1e-2, size = shape)\n",
    "\n",
    "def euclidean_distance(vects):\n",
    "    x, y = vects\n",
    "    sum_square = K.sum(K.square(x - y), axis=1, keepdims=True)\n",
    "    return K.sqrt(K.maximum(sum_square, K.epsilon()))\n",
    "\n",
    "def eucl_dist_output_shape(shapes):\n",
    "    shape1, shape2 = shapes\n",
    "    return (shape1[0], 1)\n",
    "\n",
    "def accuracy(y_true, y_pred):\n",
    "    '''Compute classification accuracy with a fixed threshold on distances.\n",
    "    '''\n",
    "    return K.mean(K.equal(y_true, K.cast(y_pred < 0.5, y_true.dtype)))\n",
    "\n",
    "def get_siamese_model(input_shape, similarity_metric='l1', verbose=True):\n",
    "    \"\"\"\n",
    "        Model architecture based on the one provided in: http://www.cs.utoronto.ca/~gkoch/files/msc-thesis.pdf\n",
    "    \"\"\"\n",
    "    left_input = Input(input_shape)\n",
    "    right_input = Input(input_shape)\n",
    "#     model = Sequential()\n",
    "#     model.add(Conv2D(32, (3,3), activation='relu', input_shape=input_shape,\n",
    "#                     kernel_initializer=initialize_weights, \n",
    "#                     kernel_regularizer=l2(2e-4)))\n",
    "    \n",
    "#     model.add(Conv2D(64, (3,3), activation='relu', input_shape=input_shape,\n",
    "#                     kernel_initializer=initialize_weights, \n",
    "#                     kernel_regularizer=l2(2e-4)))    \n",
    "#     model.add(MaxPooling2D(pool_size=(2, 2)))\n",
    "    \n",
    "#     model.add(Dropout(0.25))\n",
    "#     model.add(Flatten())\n",
    "    \n",
    "#     model.add(Dense(128, activation='relu'))\n",
    "#     model.add(Dropout(0.25))\n",
    "    \n",
    "#     model.add(Dense(input_shape[0]**2, activation='sigmoid', kernel_initializer=initialize_weights,\n",
    "#                     bias_initializer=initialize_bias, \n",
    "#                     kernel_regularizer=l2(1e-3),))\n",
    "    \n",
    "    model = Sequential()\n",
    "    model.add(Conv2D(64, (10,10), activation='relu', input_shape=input_shape,\n",
    "                   kernel_initializer=initialize_weights, kernel_regularizer=l2(2e-4)))\n",
    "    model.add(MaxPooling2D())\n",
    "    model.add(Conv2D(128, (7,7), activation='relu',\n",
    "                     kernel_initializer=initialize_weights,\n",
    "                     bias_initializer=initialize_bias, kernel_regularizer=l2(2e-4)))\n",
    "    model.add(MaxPooling2D())\n",
    "    model.add(Conv2D(128, (4,4), activation='relu', kernel_initializer=initialize_weights,\n",
    "                     bias_initializer=initialize_bias, kernel_regularizer=l2(2e-4)))\n",
    "    model.add(MaxPooling2D())\n",
    "    model.add(Conv2D(256, (4,4), activation='relu', kernel_initializer=initialize_weights,\n",
    "                     bias_initializer=initialize_bias, kernel_regularizer=l2(2e-4)))\n",
    "    model.add(Flatten())\n",
    "    model.add(Dense(4096, activation='sigmoid',\n",
    "                   kernel_regularizer=l2(1e-3),\n",
    "                   kernel_initializer=initialize_weights,bias_initializer=initialize_bias))\n",
    "    \n",
    "#     model.add(Flatten())\n",
    "#     model.add(Dense(128, activation='relu'))\n",
    "#     model.add(Dropout(0.1))\n",
    "#     model.add(Dense(128, activation='relu'))\n",
    "#     model.add(Dropout(0.1))\n",
    "#     model.add(Dense(128, activation='relu'))\n",
    "    \n",
    "    # Generate the encodings (feature vectors) for the two images\n",
    "    encoded_l = model(left_input)\n",
    "    encoded_r = model(right_input)\n",
    "    \n",
    "    # Add a customized layer to compute the absolute difference between the encodings\n",
    "    if similarity_metric == 'l1':\n",
    "        Similarity_layer = Lambda(lambda tensors:K.abs(tensors[0] - tensors[1]))        \n",
    "        Similarity_distance = Similarity_layer([encoded_l, encoded_r])\n",
    "    elif similarity_metric == 'l2':\n",
    "        Similarity_layer = Lambda(euclidean_distance)\n",
    "        Similarity_distance = Similarity_layer([encoded_l, encoded_r])\n",
    "           \n",
    "    # Add a dense layer with a sigmoid unit to generate the similarity score\n",
    "    prediction = Dense(1,activation='sigmoid',bias_initializer=initialize_bias)(Similarity_distance)\n",
    "    \n",
    "    # Connect the input with the outputs\n",
    "    siamese_net = Model(inputs=[left_input,right_input],outputs=prediction)\n",
    "    if verbose:\n",
    "        model.summary()\n",
    "    return siamese_net\n",
    "\n",
    "def get_normalized_X_corr_model(input_shape):\n",
    "    a = Input(input_shape)\n",
    "    b = Input(input_shape)\n",
    "    model = Sequential()\n",
    "    model.add(Conv2D(kernel_size = (5,5), filters = 20,input_shape = input_shape, activation = 'relu'))\n",
    "    model.add(MaxPooling2D((2,2)))\n",
    "    model.add(Conv2D(kernel_size = (5,5), filters =  25, activation = 'relu'))\n",
    "    model.add(MaxPooling2D((2,2)))\n",
    "    model1 = model(b)\n",
    "    model2 = model(a)\n",
    "    normalized_layer = Normalized_Correlation_Layer(stride = (1,1), patch_size = (5, 5))([model1, model2])\n",
    "    final_layer = Conv2D(kernel_size=(1,1), filters=25, activation='relu')(normalized_layer)\n",
    "    final_layer = Conv2D(kernel_size=(3,3), filters=25, activation = None)(final_layer)\n",
    "    final_layer = MaxPooling2D((2,2))(final_layer)\n",
    "    final_layer = Dense(500)(final_layer)\n",
    "    final_layer = Dense(1, activation = \"softmax\")(final_layer)\n",
    "    x_corr_mod = Model(inputs=[a,b], outputs = final_layer)\n",
    "    try:\n",
    "        x_corr_mod.summary()\n",
    "    except:\n",
    "        pass\n",
    "    print(x_corr_mod.output._keras_shape)\n",
    "    return x_corr_mod"
   ]
  },
  {
   "cell_type": "code",
   "execution_count": 3,
   "metadata": {
    "ExecuteTime": {
     "end_time": "2019-10-31T00:57:28.095945Z",
     "start_time": "2019-10-31T00:57:27.999970Z"
    },
    "code_folding": [
     0
    ]
   },
   "outputs": [],
   "source": [
    "class Normalized_Correlation_Layer(Layer):\n",
    "    '''\n",
    "    This layer does Normalized Correlation.\n",
    "    \n",
    "    It needs to take two inputs(layers),\n",
    "    currently, it only supports the border_mode = 'valid',\n",
    "    if you need to output the same shape as input, \n",
    "    do padding before giving the layer.\n",
    "    \n",
    "    '''\n",
    "    def __init__(self, patch_size=(5,5),\n",
    "                 dim_ordering='tf',\n",
    "                 border_mode='same',\n",
    "                 stride=(1, 1),\n",
    "                 activation=None,\n",
    "                 **kwargs):\n",
    "\n",
    "        if border_mode != 'same':\n",
    "            raise ValueError('Invalid border mode for Correlation Layer '\n",
    "                             '(only \"same\" is supported as of now):', border_mode)\n",
    "        self.kernel_size = patch_size\n",
    "        self.subsample = stride\n",
    "        self.dim_ordering = dim_ordering\n",
    "        self.border_mode = border_mode\n",
    "        self.activation = activations.get(activation)\n",
    "        super(Normalized_Correlation_Layer, self).__init__(**kwargs)\n",
    "\n",
    "\n",
    "    def compute_output_shape(self, input_shape):\n",
    "        if self.dim_ordering == 'tf':\n",
    "            inp_rows = input_shape[0][1]\n",
    "            inp_cols = input_shape[0][2]\n",
    "        else:\n",
    "            raise ValueError('Only support tensorflow.')\n",
    "        \n",
    "        if self.border_mode != \"same\":\n",
    "            rows = conv_output_length(inp_rows, self.kernel_size[0],\n",
    "                                       self.border_mode, 1)\n",
    "            cols = conv_output_length(inp_cols, self.kernel_size[1],\n",
    "                                       self.border_mode, 1)\n",
    "        else:\n",
    "            rows = inp_rows\n",
    "            cols = inp_cols\n",
    "        \n",
    "        return (input_shape[0][0], rows, cols,self.kernel_size[0]*cols*input_shape[0][-1])\n",
    "    \n",
    "\n",
    "    def call(self, x, mask=None):\n",
    "        input_1, input_2 = x\n",
    "        stride_row, stride_col = self.subsample\n",
    "        inp_shape = input_1._keras_shape\n",
    "        output_shape = self.compute_output_shape([inp_shape, inp_shape])\n",
    "        \n",
    "        padding_row = (int(self.kernel_size[0] / 2),int(self.kernel_size[0]))\n",
    "        padding_col = (int(self.kernel_size[1] / 2),int(self.kernel_size[1]))\n",
    "        input_1 = K.spatial_2d_padding(input_1, padding =(padding_row,padding_col))\n",
    "        input_2 = K.spatial_2d_padding(input_2, padding = ((padding_row[0]*2, padding_row[1]*2),padding_col))\n",
    "        \n",
    "        #print(input_1.shape)\n",
    "        output_row = output_shape[1]\n",
    "        output_col = output_shape[2]\n",
    "\n",
    "        output = []\n",
    "        for k in range(inp_shape[-1]):\n",
    "            xc_1 = []\n",
    "            xc_2 = []\n",
    "            for i in range(padding_row[0]):\n",
    "                for j in range(output_col):\n",
    "                    xc_2.append(K.reshape(input_2[:, i:i+self.kernel_size[0], j:j+self.kernel_size[1], k],\n",
    "                                          (-1, 1,self.kernel_size[0]*self.kernel_size[1])))\n",
    "            for i in range(output_row):\n",
    "                slice_row = slice(i, i + self.kernel_size[0])\n",
    "                slice_row2 = slice(i+padding_row[0], i +self.kernel_size[0]+padding_row[0])\n",
    "                for j in range(output_col):\n",
    "                    slice_col = slice(j, j + self.kernel_size[1])\n",
    "                    xc_2.append(K.reshape(input_2[:, slice_row2, slice_col, k],\n",
    "                                          (-1, 1,self.kernel_size[0]*self.kernel_size[1])))\n",
    "                    if i % stride_row == 0 and j % stride_col == 0:\n",
    "                        xc_1.append(K.reshape(input_1[:, slice_row, slice_col, k],\n",
    "                                              (-1, 1,self.kernel_size[0]*self.kernel_size[1])))\n",
    "            for i in range(output_row, output_row+padding_row[0]):\n",
    "                for j in range(output_col):\n",
    "                    xc_2.append(K.reshape(input_2[:, i:i+ self.kernel_size[0], j:j+self.kernel_size[1], k],\n",
    "                                          (-1, 1,self.kernel_size[0]*self.kernel_size[1])))\n",
    "\n",
    "            xc_1_aggregate = K.concatenate(xc_1, axis=1) # batch_size x w'h' x (k**2*d), w': w/subsample-1\n",
    "            xc_1_mean = K.mean(xc_1_aggregate, axis=-1, keepdims=True)\n",
    "            xc_1_std = K.std(xc_1_aggregate, axis=-1, keepdims=True)\n",
    "            xc_1_aggregate = (xc_1_aggregate - xc_1_mean) / xc_1_std\n",
    "    \n",
    "            xc_2_aggregate = K.concatenate(xc_2, axis=1) # batch_size x wh x (k**2*d), w: output_row\n",
    "            xc_2_mean = K.mean(xc_2_aggregate, axis=-1, keepdims=True)\n",
    "            xc_2_std = K.std(xc_2_aggregate, axis=-1, keepdims=True)\n",
    "            xc_2_aggregate = (xc_2_aggregate - xc_2_mean) / xc_2_std\n",
    "            xc_1_aggregate = K.permute_dimensions(xc_1_aggregate, (0, 2, 1))\n",
    "            block = []\n",
    "            len_xc_1= len(xc_1)\n",
    "            for i in range(len_xc_1):\n",
    "                sl1 = slice(int(i/inp_shape[1])*inp_shape[1],\n",
    "                        int(i/inp_shape[1])*inp_shape[1]+inp_shape[1]*self.kernel_size[0])\n",
    "                block.append(K.reshape(K.batch_dot(xc_2_aggregate[:,sl1,:],\n",
    "                                      xc_1_aggregate[:,:,i]),(-1,1,1,inp_shape[1]*self.kernel_size[0])))\n",
    "\n",
    "            block = K.concatenate(block, axis=1)\n",
    "            block = K.reshape(block,(-1,output_row,output_col,inp_shape[1]*self.kernel_size[0]))\n",
    "            output.append(block)\n",
    "        output = K.concatenate(output, axis=-1)\n",
    "        output = self.activation(output)\n",
    "        print(output.shape)\n",
    "        return output\n",
    "\n",
    "    def get_config(self):\n",
    "        config = {'patch_size': self.kernel_size,\n",
    "                  'activation': self.activation.__name__,\n",
    "                  'border_mode': self.border_mode,\n",
    "                  'stride': self.subsample,\n",
    "                  'dim_ordering': self.dim_ordering}\n",
    "        base_config = super(Correlation_Layer, self).get_config()\n",
    "        return dict(list(base_config.items()) + list(config.items()))"
   ]
  },
  {
   "cell_type": "code",
   "execution_count": 4,
   "metadata": {
    "ExecuteTime": {
     "end_time": "2019-10-31T00:57:28.111943Z",
     "start_time": "2019-10-31T00:57:28.099945Z"
    },
    "code_folding": [
     0
    ]
   },
   "outputs": [],
   "source": [
    "def contrastive_loss(y_true, y_pred):\n",
    "    '''Contrastive loss from Hadsell-et-al.'06\n",
    "    http://yann.lecun.com/exdb/publis/pdf/hadsell-chopra-lecun-06.pdf\n",
    "    '''\n",
    "    margin = 1\n",
    "    square_pred = K.square(y_pred)\n",
    "    margin_square = K.square(K.maximum(margin - y_pred, 0))\n",
    "    return K.mean(y_true * square_pred + (1 - y_true) * margin_square)"
   ]
  },
  {
   "cell_type": "code",
   "execution_count": 5,
   "metadata": {
    "ExecuteTime": {
     "end_time": "2019-10-31T00:57:28.358040Z",
     "start_time": "2019-10-31T00:57:28.115940Z"
    },
    "code_folding": [
     54,
     60,
     66,
     119,
     192,
     249,
     276,
     292,
     323
    ]
   },
   "outputs": [],
   "source": [
    "class Siamese_Loader:\n",
    "    def __init__(self, train_path=None, \n",
    "                 test_path=None, dataset_type = '49kmnist',\n",
    "                 images=None, labels=None, img_channel=1):\n",
    "        \"\"\"\n",
    "        Loads dataset\n",
    "        \n",
    "        Parameters\n",
    "        -----------\n",
    "        \n",
    "        train_path ... list[train_images, train_labels]\n",
    "        test_path ... list[test_images, test_labels]\n",
    "        \n",
    "        \"\"\"\n",
    "        self.train_images = []\n",
    "        self.train_labels = []\n",
    "        self.train_path = train_path\n",
    "        \n",
    "        self.test_images = []\n",
    "        self.test_labels = []        \n",
    "        self.test_path = test_path\n",
    "        \n",
    "        self.dataset_type = dataset_type        \n",
    "        \n",
    "        if train_path is None and test_path is None:\n",
    "            self.train_images = images[0]\n",
    "            self.train_labels = labels[0]\n",
    "            self.test_images = images[1]\n",
    "            self.test_labels = labels[1] \n",
    "        \n",
    "        else:        \n",
    "            print('Loading Train images')\n",
    "            self.train_images = self._load(self.train_path[0])\n",
    "\n",
    "            print('Loading Test images')\n",
    "            self.test_images = self._load(self.test_path[0])\n",
    "\n",
    "            print('Loading Train labels')\n",
    "            self.train_labels = self._load(self.train_path[1])\n",
    "\n",
    "            print('Loading Test labels')\n",
    "            self.test_labels = self._load(self.test_path[1])\n",
    "\n",
    "        self.train_n_classes = len(np.unique(self.train_labels))\n",
    "        self.test_n_classes = len(np.unique(self.test_labels))\n",
    "        \n",
    "        self.train_shape = self.train_images[0].shape\n",
    "        self.test_shape = self.test_images[0].shape\n",
    "        \n",
    "        self.image_channel = img_channel\n",
    "        \n",
    "    def _load(self, f):\n",
    "        return np.load(f)['arr_0']\n",
    "        \n",
    "    def _get_index(self, labels, i, images):\n",
    "        while True:\n",
    "            idx = np.random.randint(0, len(images))\n",
    "            if labels[idx] == i:\n",
    "                return idx, labels[idx]\n",
    "            \n",
    "    def _get_false_index(self, labels, i, images):\n",
    "        while True:\n",
    "            idx = np.random.randint(0, len(images))\n",
    "            if labels[idx] != i:\n",
    "                return idx, labels[idx]\n",
    "            \n",
    "    def get_batch(self, batch_multiplier = 1, disable_progress_bar = False):\n",
    "        \n",
    "        if type(batch_multiplier) is float:\n",
    "            raise TypeError('batch_multiplier must be an integer')\n",
    "        \n",
    "        n_examples = batch_multiplier*self.train_n_classes*2\n",
    "        \n",
    "        img_shape = self.train_images[0].shape\n",
    "        pairs = [np.zeros((n_examples, img_shape[0], img_shape[1], self.image_channel)) for i in range(2)]\n",
    "        categs_list = []\n",
    "        targets = []\n",
    "        \n",
    "        images = self.train_images\n",
    "        labels = self.train_labels\n",
    "        n_classes = self.train_n_classes\n",
    "        \n",
    "        k = 0\n",
    "        for i in tqdm_notebook(range(0, batch_multiplier), disable = disable_progress_bar):\n",
    "            img_1 = None\n",
    "            img_2 = None\n",
    "            \n",
    "            for j in range(0, n_classes):\n",
    "                idx_1, categ_1 = self._get_index(labels, j, images)\n",
    "                img_1 = self.train_images[idx_1]\n",
    "                idx_2, categ_2 = self._get_index(labels, j, images)\n",
    "                img_2 = images[idx_2]\n",
    "                categs_list.append([categ_1,categ_2])\n",
    "                target = 1\n",
    "                \n",
    "                pairs[0][k] = img_1.reshape((self.train_shape[0], self.train_shape[1], self.image_channel))\n",
    "                pairs[1][k] = img_2.reshape((self.train_shape[0], self.train_shape[1], self.image_channel))\n",
    "                targets.append(target)\n",
    "                k += 1\n",
    "            \n",
    "            for j_ in range(0, n_classes):\n",
    "                idx_1, categ_1 = self._get_index(labels, j_, images)\n",
    "                img_1 = self.train_images[idx_1]\n",
    "                idx_2, categ_2 = self._get_false_index(labels, j_, images)\n",
    "                img_2 = images[idx_2]\n",
    "                categs_list.append([categ_1,categ_2])\n",
    "                target = 0\n",
    "                \n",
    "                pairs[0][k] = img_1.reshape((self.train_shape[0], self.train_shape[1], self.image_channel))\n",
    "                pairs[1][k] = img_2.reshape((self.train_shape[0], self.train_shape[1], self.image_channel))\n",
    "                targets.append(target)\n",
    "                k += 1\n",
    "\n",
    "            \n",
    "        pairs[0] /= 255.\n",
    "        pairs[1] /= 255.\n",
    "        \n",
    "        return pairs, targets, categs_list\n",
    "    \n",
    "    def get_data(self, size=2, total_sample_size=10000):\n",
    "        #read the image\n",
    "    #     image = read_image('data/orl_faces/s' + str(1) + '/' + str(1) + '.pgm', 'rw+')\n",
    "    #     #reduce the size\n",
    "    #     image = image[::size, ::size]\n",
    "        #get the new size\n",
    "        img_shape = self.train_images[0].shape\n",
    "        dim1 = img_shape[0]\n",
    "        dim2 = img_shape[1]\n",
    "\n",
    "        images = self.train_images\n",
    "        labels = self.train_labels\n",
    "        n_classes = self.train_n_classes\n",
    "\n",
    "        count = 0\n",
    "\n",
    "        #initialize the numpy array with the shape of [total_sample, no_of_pairs, dim1, dim2]\n",
    "        x_geuine_pair = np.zeros([total_sample_size, 2, 1, dim1, dim2]) # 2 is for pairs\n",
    "        y_genuine = np.zeros([total_sample_size, 1])\n",
    "\n",
    "        for i in tqdm_notebook(range(n_classes)):\n",
    "            for j in range(int(total_sample_size/n_classes)):\n",
    "                ind1 = 0\n",
    "                ind2 = 0\n",
    "\n",
    "                #read images from same directory (genuine pair)\n",
    "                classe = np.random.randint(n_classes)\n",
    "\n",
    "                ind1, _ = self._get_index(labels, classe, images)\n",
    "                ind2, _ = self._get_index(labels, classe, images)\n",
    "\n",
    "                # read the two images\n",
    "                img1 = images[ind1]\n",
    "                img2 = images[ind2]\n",
    "\n",
    "                #store the images to the initialized numpy array\n",
    "                x_geuine_pair[count, 0, 0, :, :] = img1\n",
    "                x_geuine_pair[count, 1, 0, :, :] = img2\n",
    "\n",
    "                #as we are drawing images from the same directory we assign label as 1. (genuine pair)\n",
    "                y_genuine[count] = 1\n",
    "                count += 1\n",
    "\n",
    "        count = 0\n",
    "        x_imposite_pair = np.zeros([total_sample_size, 2, 1, dim1, dim2])\n",
    "        y_imposite = np.zeros([total_sample_size, 1])\n",
    "\n",
    "        for i in tqdm_notebook(range(int(total_sample_size/n_classes))):\n",
    "            for j in range(n_classes):\n",
    "\n",
    "                #read images from different directory (imposite pair)\n",
    "                classe = np.random.randint(n_classes)\n",
    "\n",
    "                ind1, _ = self._get_false_index(labels, classe, images)\n",
    "                ind2, _ = self._get_index(labels, classe, images)\n",
    "\n",
    "                # read the two images\n",
    "                img1 = images[ind1]\n",
    "                img2 = images[ind2]\n",
    "\n",
    "                x_imposite_pair[count, 0, 0, :, :] = img1\n",
    "                x_imposite_pair[count, 1, 0, :, :] = img2\n",
    "                #as we are drawing images from the different directory we assign label as 0. (imposite pair)\n",
    "                y_imposite[count] = 0\n",
    "                count += 1\n",
    "        print(len(x_geuine_pair))\n",
    "        print(len(x_imposite_pair))\n",
    "        #now, concatenate, genuine pairs and imposite pair to get the whole data\n",
    "        X = np.concatenate([x_geuine_pair, x_imposite_pair], axis=0)/255\n",
    "        Y = np.concatenate([y_genuine, y_imposite], axis=0)\n",
    "\n",
    "        return X, Y    \n",
    "        \n",
    "    def one_shot_task(self, N = 49, tipo = 'train'):\n",
    "        \"\"\"\n",
    "        Create a set of pairs, targets for N-way one shot learning.\n",
    "        \"\"\"\n",
    "        if tipo == 'train':\n",
    "            images = self.train_images\n",
    "            labels = self.train_labels\n",
    "            n_classes = self.train_n_classes\n",
    "        else:\n",
    "            images = self.test_images\n",
    "            labels = self.test_labels\n",
    "            n_classes = self.test_n_classes\n",
    "            \n",
    "        \n",
    "        img_shape = images[0].shape\n",
    "        pairs = [np.zeros((N, img_shape[0], img_shape[1], self.image_channel)) for i in range(2)]\n",
    "        targets = []\n",
    "        idxs_pairs = []\n",
    "        k = 0\n",
    "        \n",
    "        i_sorteado = np.random.randint(0,n_classes)\n",
    "        \n",
    "        idx_base, categ_base = self._get_index(labels, i_sorteado, images)\n",
    "        img_base = images[idx_base]\n",
    "        \n",
    "\n",
    "        idx_pair, categ_pair = self._get_index(labels, i_sorteado, images)\n",
    "        img_pair = images[idx_pair]\n",
    "        idxs_pairs.append(idx_pair)\n",
    "        \n",
    "        pairs[0][k] = img_base.reshape((self.train_shape[0], self.train_shape[1], self.image_channel))\n",
    "        pairs[1][k] = img_pair.reshape((self.train_shape[0], self.train_shape[1], self.image_channel))\n",
    "        targets.append(1)\n",
    "        \n",
    "        for j in range(1, N):\n",
    "            \n",
    "            idx_pair, categ_pair = self._get_false_index(labels, i_sorteado, images)\n",
    "            img_pair = images[idx_pair]\n",
    "            idxs_pairs.append(idx_pair)\n",
    "\n",
    "\n",
    "            if categ_base == categ_pair:\n",
    "                targets.append(1)\n",
    "            else:\n",
    "                targets.append(0)\n",
    "            \n",
    "            k += 1\n",
    "            pairs[0][k] = img_base.reshape((self.train_shape[0],self.train_shape[1],self.image_channel))\n",
    "            pairs[1][k] = img_pair.reshape((self.train_shape[0],self.train_shape[1],self.image_channel))\n",
    "\n",
    "            \n",
    "        \n",
    "        pairs[0] /= 255.\n",
    "        pairs[1] /= 255.\n",
    "        \n",
    "        return pairs, targets, idxs_pairs\n",
    "    \n",
    "    def one_shot_retrieval(self, query_image, top_n=10):\n",
    "        \n",
    "        images = self.test_images\n",
    "        labels = self.test_labels\n",
    "        n_classes = self.test_n_classes\n",
    "        shape = self.test_shape\n",
    "        \n",
    "        img_shape = images[0].shape\n",
    "        pairs = [np.zeros((n_classes, img_shape[0], img_shape[1], self.image_channel)) for i in range(2)]\n",
    "        idxs_pairs = []\n",
    "        \n",
    "        img_base = query_image\n",
    "        \n",
    "        for j in range(0, n_classes):\n",
    "            \n",
    "            idx_pair, categ_pair = self._get_index(labels, j, images)\n",
    "            img_pair = images[idx_pair]\n",
    "            idxs_pairs.append(idx_pair)\n",
    "            \n",
    "            pairs[0][j] = img_base.reshape((shape[0], shape[1], self.image_channel))\n",
    "            pairs[1][j] = img_pair.reshape((shape[0], shape[1], self.image_channel))            \n",
    "        \n",
    "        pairs[0] /= 255.\n",
    "        pairs[1] /= 255.\n",
    "        \n",
    "        return pairs, idxs_pairs\n",
    "    \n",
    "    def test_oneshot(self, model, N, k, verbose=True, tipo = 'test'):\n",
    "        \"\"\"Test average N way oneshot learning accuracy of a siamese neural net over k one-shot tasks\"\"\"\n",
    "        n_correct = 0\n",
    "        if verbose:\n",
    "            print(\"Evaluating model on {} random {} way one-shot learning tasks ... \\n\".format(k,N))\n",
    "        for i in range(k):\n",
    "            inputs, targets = self.one_shot_task(N, tipo = tipo)\n",
    "            probs = model.predict(inputs)\n",
    "            probs = 1-probs\n",
    "            if np.argmax(probs) == np.argmax(targets):\n",
    "                n_correct+=1\n",
    "        percent_correct = (100.0*n_correct / k)\n",
    "        if verbose:\n",
    "            print(\"Got an average of {}% {} way one-shot learning accuracy \\n\".format(percent_correct,N))\n",
    "        return percent_correct\n",
    "    \n",
    "    def image_retrieval(self, model, img_search, top_n=5):\n",
    "        images = self.test_images\n",
    "        labels = self.test_labels\n",
    "        n_imgs = len(images)\n",
    "        \n",
    "        img_shape = images[0].shape\n",
    "        pairs = [np.zeros((n_imgs, img_shape[0], img_shape[1], self.image_channel)) for i in range(2)]\n",
    "        targets = []\n",
    "        idx_imgs = []\n",
    "        k = 0\n",
    "        \n",
    "        img_base = img_search\n",
    "        \n",
    "        for i in range(0, n_imgs):            \n",
    "            img_pair = images[i]\n",
    "            pairs[0][k] = img_base.reshape((img_shape[0], img_shape[1], self.image_channel))\n",
    "            pairs[1][k] = img_pair.reshape((img_shape[0], img_shape[1], self.image_channel))\n",
    "            idx_imgs.append(i)\n",
    "            k += 1\n",
    "        \n",
    "        pairs[0] /= 255.\n",
    "        pairs[1] /= 255.\n",
    "        \n",
    "        predict = model.predict(pairs)\n",
    "        df = pd.DataFrame(data={'indice':idx_imgs, 'predict':predict.reshape((len(predict)))})\n",
    "        df_N = df.sort_values(by=['predict'])[0:top_n]\n",
    "        ranking_list = df_N['indice'].tolist()\n",
    "        \n",
    "        self.plot_rank(idxs=np.array(ranking_list))\n",
    "        return ranking_list, df\n",
    "    \n",
    "    def plot_rank(self, idxs):\n",
    "        if type(idxs) != np.ndarray:\n",
    "            idxs = np.array([idxs])\n",
    "        fig = plt.figure()\n",
    "        gs = gridspec.GridSpec(1,len(idxs))\n",
    "        for i in range(len(idxs)):\n",
    "            ax = fig.add_subplot(gs[0,i])\n",
    "            ax.imshow(self.test_images[idxs[i]], cmap='gray')\n",
    "            ax.axis('off')\n",
    "        plt.show()"
   ]
  },
  {
   "cell_type": "code",
   "execution_count": 6,
   "metadata": {
    "ExecuteTime": {
     "end_time": "2019-10-31T00:57:28.390017Z",
     "start_time": "2019-10-31T00:57:28.362025Z"
    },
    "code_folding": [
     0,
     16,
     27
    ]
   },
   "outputs": [],
   "source": [
    "def concat_images(X):\n",
    "    \"\"\"Concatenates a bunch of images into a big matrix for plotting purposes.\"\"\"\n",
    "    nc, h , w, _ = X.shape\n",
    "    X = X.reshape(nc, h, w)\n",
    "    n = np.ceil(np.sqrt(nc)).astype(\"int8\")\n",
    "    img = np.zeros((n*w,n*h))\n",
    "    x = 0\n",
    "    y = 0\n",
    "    for example in range(nc):\n",
    "        img[x*w:(x+1)*w,y*h:(y+1)*h] = X[example]\n",
    "        y += 1\n",
    "        if y >= n:\n",
    "            y = 0\n",
    "            x += 1\n",
    "    return img\n",
    "\n",
    "def plot_oneshot_task(ref, comparativas, x_s = 28, y_s = 28):\n",
    "    fig,(ax1,ax2) = plt.subplots(2)\n",
    "    ax1.matshow(ref.reshape(x_s,y_s), cmap='gray')\n",
    "    img = concat_images(comparativas)\n",
    "    ax1.get_yaxis().set_visible(False)\n",
    "    ax1.get_xaxis().set_visible(False)\n",
    "    ax2.matshow(img,cmap='gray')\n",
    "    plt.xticks([])\n",
    "    plt.yticks([])\n",
    "    plt.show()\n",
    "    \n",
    "def show_image(img):\n",
    "    plt.imshow(img, cmap=\"gray\")\n",
    "    plt.show()"
   ]
  },
  {
   "cell_type": "code",
   "execution_count": 6,
   "metadata": {
    "ExecuteTime": {
     "end_time": "2019-10-25T18:47:31.578203Z",
     "start_time": "2019-10-25T18:47:31.575205Z"
    }
   },
   "outputs": [],
   "source": [
    "# batch_size = 128\n",
    "# num_classes = 10\n",
    "# epochs = 12"
   ]
  },
  {
   "cell_type": "code",
   "execution_count": 7,
   "metadata": {
    "ExecuteTime": {
     "end_time": "2019-10-25T18:47:31.883223Z",
     "start_time": "2019-10-25T18:47:31.880224Z"
    }
   },
   "outputs": [],
   "source": [
    "# def load(f):\n",
    "#     return np.load(f)['arr_0']"
   ]
  },
  {
   "cell_type": "code",
   "execution_count": 8,
   "metadata": {
    "ExecuteTime": {
     "end_time": "2019-10-25T18:47:32.140092Z",
     "start_time": "2019-10-25T18:47:32.135110Z"
    }
   },
   "outputs": [],
   "source": [
    "# Load the data\n",
    "# x_train = load('dataset/kuzushiji-mnist/k49-train-imgs.npz')\n",
    "# x_test = load('dataset/kuzushiji-mnist/k49-test-imgs.npz')\n",
    "# y_train = load('dataset/kuzushiji-mnist/k49-train-labels.npz')\n",
    "# y_test = load('dataset/kuzushiji-mnist/k49-test-labels.npz')"
   ]
  },
  {
   "cell_type": "code",
   "execution_count": 9,
   "metadata": {
    "ExecuteTime": {
     "end_time": "2019-10-25T18:47:32.656752Z",
     "start_time": "2019-10-25T18:47:32.652758Z"
    }
   },
   "outputs": [],
   "source": [
    "# ys = list()\n",
    "# for y in y_train:\n",
    "#     if y not in ys:\n",
    "#         ys.append(y)\n",
    "# print('N classes: {}'.format(len(ys)))\n",
    "# print(len(Counter(y_train).keys()))\n",
    "# np.unique(y_train, return_counts=True)"
   ]
  },
  {
   "cell_type": "markdown",
   "metadata": {},
   "source": [
    "# Kuzushiji 49"
   ]
  },
  {
   "cell_type": "markdown",
   "metadata": {},
   "source": [
    "### Model"
   ]
  },
  {
   "cell_type": "code",
   "execution_count": 103,
   "metadata": {
    "ExecuteTime": {
     "end_time": "2019-10-29T18:41:03.076293Z",
     "start_time": "2019-10-29T18:41:03.072296Z"
    }
   },
   "outputs": [],
   "source": [
    "# model = get_siamese_model((28, 28, 1), verbose=True)\n",
    "# model.compile(loss=contrastive_loss,optimizer=Adam(lr = 0.00006))\n",
    "# # model.compile(loss=contrastive_loss,optimizer=Adadelta())\n",
    "# # model.compile(loss='binary_crossentropy',optimizer=Adam(lr = 0.00006))\n",
    "# model.summary()"
   ]
  },
  {
   "cell_type": "markdown",
   "metadata": {},
   "source": [
    "### Loading dataset"
   ]
  },
  {
   "cell_type": "code",
   "execution_count": 108,
   "metadata": {
    "ExecuteTime": {
     "end_time": "2019-10-29T18:41:41.969241Z",
     "start_time": "2019-10-29T18:41:41.966240Z"
    },
    "code_folding": [],
    "scrolled": false
   },
   "outputs": [],
   "source": [
    "# loader = Siamese_Loader(train_path=['dataset/kuzushiji-mnist/k49-train-imgs.npz',\n",
    "#                                     'dataset/kuzushiji-mnist/k49-train-labels.npz'],\n",
    "#                        test_path=['dataset/kuzushiji-mnist/k49-test-imgs.npz',\n",
    "#                                   'dataset/kuzushiji-mnist/k49-test-labels.npz'])"
   ]
  },
  {
   "cell_type": "code",
   "execution_count": 109,
   "metadata": {
    "ExecuteTime": {
     "end_time": "2019-10-29T18:41:42.844543Z",
     "start_time": "2019-10-29T18:41:42.840543Z"
    },
    "code_folding": [],
    "scrolled": false
   },
   "outputs": [],
   "source": [
    "# train_pairs, train_targets = loader.get_batch(batch_multiplier=2)"
   ]
  },
  {
   "cell_type": "code",
   "execution_count": 110,
   "metadata": {
    "ExecuteTime": {
     "end_time": "2019-10-29T18:41:43.232213Z",
     "start_time": "2019-10-29T18:41:43.228216Z"
    }
   },
   "outputs": [],
   "source": [
    "# N = 10\n",
    "# test_pairs, test_targets = loader.one_shot_task(N=N, tipo='test')\n",
    "# print(test_targets)\n",
    "\n",
    "# plot_oneshot_task(test_pairs[0][9], test_pairs[1][:N])"
   ]
  },
  {
   "cell_type": "markdown",
   "metadata": {},
   "source": [
    "### Training pipeline 1"
   ]
  },
  {
   "cell_type": "code",
   "execution_count": 111,
   "metadata": {
    "ExecuteTime": {
     "end_time": "2019-10-29T18:41:44.197000Z",
     "start_time": "2019-10-29T18:41:44.194001Z"
    }
   },
   "outputs": [],
   "source": [
    "# evaluate = 100 # interval for evaluating on one-shot tasks and losses\n",
    "# batch_multiplier = 5\n",
    "# n_iter = 2000 # 20000\n",
    "# best = -1\n",
    "# N_way = 10\n",
    "# data_path = 'kmodel_weights/'\n",
    "# weights_path_2 = 'kmodel_weights/kmodel_weights_1.h5'"
   ]
  },
  {
   "cell_type": "code",
   "execution_count": 112,
   "metadata": {
    "ExecuteTime": {
     "end_time": "2019-10-29T18:41:45.909481Z",
     "start_time": "2019-10-29T18:41:45.903486Z"
    }
   },
   "outputs": [],
   "source": [
    "# print(\"Starting training process!\")\n",
    "# print(\"##############################################################\")\n",
    "# t_start = time.time()\n",
    "# for i in tqdm_notebook(range(1, n_iter)):\n",
    "    \n",
    "#     inputs, targets = loader.get_batch(batch_multiplier, disable_progress_bar=True)\n",
    "    \n",
    "#     loss=model.train_on_batch(inputs,targets)\n",
    "    \n",
    "#     if i % evaluate == 0:\n",
    "#         clear_output()\n",
    "#         print(\"Time for {0} iterations: {1}\".format(i, time.time()-t_start))\n",
    "#         val_acc = loader.test_oneshot(model,N_way,20,verbose=True)\n",
    "#         if val_acc >= best:\n",
    "#             print(\"Current best: {0}, previous best: {1}\".format(val_acc, best))\n",
    "#             print(\"Saving weights to: {0} \\n\".format(weights_path_2))\n",
    "#             model.save_weights(weights_path_2)\n",
    "#             best=val_acc   \n",
    "    \n",
    "#         print(\"iteration {}, training loss: {:.2f},\".format(i,loss))\n",
    "#         print('---------------------------------------------------------------------------------')\n",
    "\n",
    "        \n",
    "# # weights_path_2 = os.path.join(data_path, \"model_weights.h5\")\n",
    "# # model.load_weights(weights_path_2)"
   ]
  },
  {
   "cell_type": "markdown",
   "metadata": {},
   "source": [
    "### Training pipeline 2"
   ]
  },
  {
   "cell_type": "code",
   "execution_count": 113,
   "metadata": {
    "ExecuteTime": {
     "end_time": "2019-10-29T18:41:52.443804Z",
     "start_time": "2019-10-29T18:41:52.439805Z"
    }
   },
   "outputs": [],
   "source": [
    "# model.fit(x=train_pairs, y=train_targets, epochs=2000) "
   ]
  },
  {
   "cell_type": "code",
   "execution_count": 114,
   "metadata": {
    "ExecuteTime": {
     "end_time": "2019-10-29T18:41:57.070313Z",
     "start_time": "2019-10-29T18:41:57.066315Z"
    }
   },
   "outputs": [],
   "source": [
    "# weight_path_fit = 'kmodel_weights/model_weights_2_10.h5'\n",
    "# model.save_weights(weight_path_fit)"
   ]
  },
  {
   "cell_type": "code",
   "execution_count": 115,
   "metadata": {
    "ExecuteTime": {
     "end_time": "2019-10-29T18:42:00.333540Z",
     "start_time": "2019-10-29T18:42:00.329541Z"
    }
   },
   "outputs": [],
   "source": [
    "# len(test_pairs[0])"
   ]
  },
  {
   "cell_type": "code",
   "execution_count": 116,
   "metadata": {
    "ExecuteTime": {
     "end_time": "2019-10-29T18:42:04.469085Z",
     "start_time": "2019-10-29T18:42:04.466086Z"
    }
   },
   "outputs": [],
   "source": [
    "# N = 10\n",
    "# test_pairs, test_targets = loader.one_shot_task(N=N, tipo='test')\n",
    "# plot_oneshot_task(test_pairs[0][9], test_pairs[1][:N])"
   ]
  },
  {
   "cell_type": "code",
   "execution_count": 117,
   "metadata": {
    "ExecuteTime": {
     "end_time": "2019-10-29T18:42:08.262011Z",
     "start_time": "2019-10-29T18:42:08.258013Z"
    }
   },
   "outputs": [],
   "source": [
    "# predict = model.predict(x=test_pairs)\n",
    "# predict"
   ]
  },
  {
   "cell_type": "code",
   "execution_count": 118,
   "metadata": {
    "ExecuteTime": {
     "end_time": "2019-10-29T18:42:08.754855Z",
     "start_time": "2019-10-29T18:42:08.750856Z"
    }
   },
   "outputs": [],
   "source": [
    "# fpr, tpr, thresholds = metrics.roc_curve(test_targets, predict)\n",
    "# metrics.auc(fpr, tpr)"
   ]
  },
  {
   "cell_type": "markdown",
   "metadata": {},
   "source": [
    "# OMNIGLOT - ひらがな"
   ]
  },
  {
   "cell_type": "code",
   "execution_count": 14,
   "metadata": {
    "ExecuteTime": {
     "end_time": "2019-10-30T20:51:53.997328Z",
     "start_time": "2019-10-30T20:51:53.994330Z"
    }
   },
   "outputs": [],
   "source": [
    "#!pip install scipy==1.1.0"
   ]
  },
  {
   "cell_type": "code",
   "execution_count": 7,
   "metadata": {
    "ExecuteTime": {
     "end_time": "2019-10-31T00:57:31.007725Z",
     "start_time": "2019-10-31T00:57:28.394018Z"
    }
   },
   "outputs": [
    {
     "name": "stdout",
     "output_type": "stream",
     "text": [
      "loading alphabet: Japanese_(hiragana)\n",
      "loading alphabet: Japanese_(hiragana)\n"
     ]
    }
   ],
   "source": [
    "from load_data import *"
   ]
  },
  {
   "cell_type": "code",
   "execution_count": 8,
   "metadata": {
    "ExecuteTime": {
     "end_time": "2019-10-31T00:57:31.067708Z",
     "start_time": "2019-10-31T00:57:31.031718Z"
    }
   },
   "outputs": [],
   "source": [
    "data_path = os.path.join('dataset/omniglot')\n",
    "train_folder = os.path.join(data_path,'images_train')\n",
    "valpath = os.path.join(data_path,'images_test')"
   ]
  },
  {
   "cell_type": "code",
   "execution_count": 9,
   "metadata": {
    "ExecuteTime": {
     "end_time": "2019-10-31T00:57:31.191675Z",
     "start_time": "2019-10-31T00:57:31.079704Z"
    }
   },
   "outputs": [
    {
     "name": "stdout",
     "output_type": "stream",
     "text": [
      "Training alphabets: \n",
      "\n",
      "['Japanese_(hiragana)']\n",
      "Validation alphabets:\n",
      "\n",
      "['Japanese_(hiragana)']\n"
     ]
    }
   ],
   "source": [
    "with open(os.path.join(data_path, \"pickle/train.pickle\"), \"rb\") as f:\n",
    "    (X, classes) = pickle.load(f)\n",
    "\n",
    "with open(os.path.join(data_path, \"pickle/val.pickle\"), \"rb\") as f:\n",
    "    (Xval, val_classes) = pickle.load(f)\n",
    "    \n",
    "print(\"Training alphabets: \\n\")\n",
    "print(list(classes.keys()))\n",
    "print(\"Validation alphabets:\", end=\"\\n\\n\")\n",
    "print(list(val_classes.keys()))"
   ]
  },
  {
   "cell_type": "code",
   "execution_count": 10,
   "metadata": {
    "ExecuteTime": {
     "end_time": "2019-10-31T00:57:31.247661Z",
     "start_time": "2019-10-31T00:57:31.195673Z"
    }
   },
   "outputs": [],
   "source": [
    "x_train = []\n",
    "y_train = []\n",
    "x_test = []\n",
    "y_test = []\n",
    "\n",
    "target = 0\n",
    "for classe in X:    \n",
    "    for img in classe:\n",
    "        x_train.append(255 - img)\n",
    "        y_train.append(target)\n",
    "    target += 1\n",
    "\n",
    "target = 0\n",
    "for classe in Xval:    \n",
    "    for img in classe:\n",
    "        x_test.append(255 - img)\n",
    "        y_test.append(target)\n",
    "    target += 1    "
   ]
  },
  {
   "cell_type": "code",
   "execution_count": 11,
   "metadata": {
    "ExecuteTime": {
     "end_time": "2019-10-31T00:57:31.279655Z",
     "start_time": "2019-10-31T00:57:31.251660Z"
    }
   },
   "outputs": [],
   "source": [
    "x_imgs = np.asarray([np.asarray(x_train), np.asarray(x_test)])\n",
    "y_lbls = np.asarray([np.asarray(y_train), np.asarray(y_test)])"
   ]
  },
  {
   "cell_type": "code",
   "execution_count": 12,
   "metadata": {
    "ExecuteTime": {
     "end_time": "2019-10-31T00:57:31.343637Z",
     "start_time": "2019-10-31T00:57:31.291651Z"
    }
   },
   "outputs": [
    {
     "data": {
      "text/plain": [
       "(780, 105, 105)"
      ]
     },
     "execution_count": 12,
     "metadata": {},
     "output_type": "execute_result"
    }
   ],
   "source": [
    "x_imgs[0].shape"
   ]
  },
  {
   "cell_type": "markdown",
   "metadata": {},
   "source": [
    "### Omni Loader"
   ]
  },
  {
   "cell_type": "code",
   "execution_count": 13,
   "metadata": {
    "ExecuteTime": {
     "end_time": "2019-10-31T00:57:31.375627Z",
     "start_time": "2019-10-31T00:57:31.347636Z"
    }
   },
   "outputs": [],
   "source": [
    "omni_loader = Siamese_Loader(images = x_imgs, labels=y_lbls, dataset_type='omniglot_hiragana')"
   ]
  },
  {
   "cell_type": "code",
   "execution_count": 14,
   "metadata": {
    "ExecuteTime": {
     "end_time": "2019-10-31T00:57:31.395627Z",
     "start_time": "2019-10-31T00:57:31.379627Z"
    }
   },
   "outputs": [
    {
     "data": {
      "text/plain": [
       "'omniglot_hiragana'"
      ]
     },
     "execution_count": 14,
     "metadata": {},
     "output_type": "execute_result"
    }
   ],
   "source": [
    "omni_loader.dataset_type"
   ]
  },
  {
   "cell_type": "markdown",
   "metadata": {},
   "source": [
    "### Model"
   ]
  },
  {
   "cell_type": "code",
   "execution_count": 15,
   "metadata": {
    "ExecuteTime": {
     "end_time": "2019-10-31T00:57:39.124367Z",
     "start_time": "2019-10-31T00:57:31.399623Z"
    },
    "scrolled": true
   },
   "outputs": [
    {
     "name": "stderr",
     "output_type": "stream",
     "text": [
      "WARNING: Logging before flag parsing goes to stderr.\n",
      "W1030 21:57:31.439613 16664 deprecation_wrapper.py:119] From C:\\ProgramData\\Anaconda3\\lib\\site-packages\\keras\\backend\\tensorflow_backend.py:74: The name tf.get_default_graph is deprecated. Please use tf.compat.v1.get_default_graph instead.\n",
      "\n",
      "W1030 21:57:31.587575 16664 deprecation_wrapper.py:119] From C:\\ProgramData\\Anaconda3\\lib\\site-packages\\keras\\backend\\tensorflow_backend.py:517: The name tf.placeholder is deprecated. Please use tf.compat.v1.placeholder instead.\n",
      "\n",
      "W1030 21:57:31.639565 16664 deprecation_wrapper.py:119] From C:\\ProgramData\\Anaconda3\\lib\\site-packages\\keras\\backend\\tensorflow_backend.py:3976: The name tf.nn.max_pool is deprecated. Please use tf.nn.max_pool2d instead.\n",
      "\n",
      "W1030 21:57:38.868435 16664 deprecation_wrapper.py:119] From C:\\ProgramData\\Anaconda3\\lib\\site-packages\\keras\\backend\\tensorflow_backend.py:4138: The name tf.random_uniform is deprecated. Please use tf.random.uniform instead.\n",
      "\n",
      "W1030 21:57:38.948413 16664 deprecation_wrapper.py:119] From C:\\ProgramData\\Anaconda3\\lib\\site-packages\\keras\\optimizers.py:790: The name tf.train.Optimizer is deprecated. Please use tf.compat.v1.train.Optimizer instead.\n",
      "\n"
     ]
    },
    {
     "name": "stdout",
     "output_type": "stream",
     "text": [
      "__________________________________________________________________________________________________\n",
      "Layer (type)                    Output Shape         Param #     Connected to                     \n",
      "==================================================================================================\n",
      "input_1 (InputLayer)            (None, 105, 105, 1)  0                                            \n",
      "__________________________________________________________________________________________________\n",
      "input_2 (InputLayer)            (None, 105, 105, 1)  0                                            \n",
      "__________________________________________________________________________________________________\n",
      "sequential_1 (Sequential)       (None, 4096)         38947648    input_1[0][0]                    \n",
      "                                                                 input_2[0][0]                    \n",
      "__________________________________________________________________________________________________\n",
      "lambda_1 (Lambda)               (None, 4096)         0           sequential_1[1][0]               \n",
      "                                                                 sequential_1[2][0]               \n",
      "__________________________________________________________________________________________________\n",
      "dense_2 (Dense)                 (None, 1)            4097        lambda_1[0][0]                   \n",
      "==================================================================================================\n",
      "Total params: 38,951,745\n",
      "Trainable params: 38,951,745\n",
      "Non-trainable params: 0\n",
      "__________________________________________________________________________________________________\n"
     ]
    }
   ],
   "source": [
    "model_hiragana = get_siamese_model((105, 105, 1), verbose=False, similarity_metric='l1')\n",
    "model_hiragana.compile(loss=contrastive_loss,optimizer=Adam(lr = 0.00006),metrics=[accuracy])\n",
    "# model_hiragana.compile(loss=contrastive_loss,optimizer=RMSprop(),metrics=[accuracy])\n",
    "# model.compile(loss=contrastive_loss,optimizer=Adadelta())\n",
    "# model.compile(loss='binary_crossentropy',optimizer=Adam(lr = 0.00006))\n",
    "model_hiragana.summary()"
   ]
  },
  {
   "cell_type": "markdown",
   "metadata": {},
   "source": [
    "### Few-shot testing"
   ]
  },
  {
   "cell_type": "code",
   "execution_count": 16,
   "metadata": {
    "ExecuteTime": {
     "end_time": "2019-10-29T14:52:03.136748Z",
     "start_time": "2019-10-29T14:52:02.522452Z"
    }
   },
   "outputs": [
    {
     "data": {
      "image/png": "[encoded data removed]",
      "text/plain": [
       "<Figure size 432x288 with 2 Axes>"
      ]
     },
     "metadata": {
      "needs_background": "light"
     },
     "output_type": "display_data"
    }
   ],
   "source": [
    "N = 16\n",
    "test_pairs, test_targets, idxs_pairs = omni_loader.one_shot_task(N=N, tipo='test')\n",
    "\n",
    "plot_oneshot_task(test_pairs[0][9], test_pairs[1][:N], x_s=105, y_s=105)"
   ]
  },
  {
   "cell_type": "code",
   "execution_count": 17,
   "metadata": {
    "ExecuteTime": {
     "end_time": "2019-10-29T14:52:03.152737Z",
     "start_time": "2019-10-29T14:52:03.142747Z"
    }
   },
   "outputs": [
    {
     "data": {
      "text/plain": [
       "[120, 194, 172, 104, 38, 172, 144, 116, 174, 245, 205, 20, 137, 165, 180, 244]"
      ]
     },
     "execution_count": 17,
     "metadata": {},
     "output_type": "execute_result"
    }
   ],
   "source": [
    "idxs_pairs"
   ]
  },
  {
   "cell_type": "code",
   "execution_count": 18,
   "metadata": {
    "ExecuteTime": {
     "end_time": "2019-10-29T14:52:04.961436Z",
     "start_time": "2019-10-29T14:52:04.465679Z"
    }
   },
   "outputs": [
    {
     "data": {
      "image/png": "[encoded data removed]",
      "text/plain": [
       "<Figure size 432x288 with 1 Axes>"
      ]
     },
     "metadata": {
      "needs_background": "light"
     },
     "output_type": "display_data"
    }
   ],
   "source": [
    "show_image(omni_loader.test_images[20].reshape((105,105)))"
   ]
  },
  {
   "cell_type": "markdown",
   "metadata": {},
   "source": [
    "### Training"
   ]
  },
  {
   "cell_type": "code",
   "execution_count": 19,
   "metadata": {
    "ExecuteTime": {
     "end_time": "2019-10-29T14:52:09.293089Z",
     "start_time": "2019-10-29T14:52:09.286094Z"
    }
   },
   "outputs": [],
   "source": [
    "evaluate = 100 # interval for evaluating on one-shot tasks and losses\n",
    "batch_multiplier = 10\n",
    "n_iter = 600 # 20000\n",
    "best = -1\n",
    "N_way = 10\n",
    "data_path = 'kmodel_weights/'\n",
    "weights_path_2 = 'kmodel_weights/1000_inv_omni_model_hiragana_weights_1.h5'"
   ]
  },
  {
   "cell_type": "code",
   "execution_count": 20,
   "metadata": {
    "ExecuteTime": {
     "end_time": "2019-10-29T14:52:12.429288Z",
     "start_time": "2019-10-29T14:52:12.423291Z"
    },
    "scrolled": true
   },
   "outputs": [],
   "source": [
    "# print(\"Starting training process!\")\n",
    "# print(\"##############################################################\")\n",
    "# t_start = time.time()\n",
    "# for i in tqdm_notebook(range(1, n_iter)):\n",
    "    \n",
    "#     inputs, targets, _ = omni_loader.get_batch(batch_multiplier, disable_progress_bar=True)\n",
    "    \n",
    "#     loss=model_hiragana.train_on_batch(inputs,targets)\n",
    "    \n",
    "#     if i % evaluate == 0:\n",
    "#         clear_output()\n",
    "#         print(\"Time for {0} iterations: {1}\".format(i, time.time()-t_start))\n",
    "#         val_acc = omni_loader.test_oneshot(model_hiragana,N_way,1,verbose=True)\n",
    "#         if val_acc >= best:\n",
    "#             print(\"Current best: {0}, previous best: {1}\".format(val_acc, best))\n",
    "#             print(\"Saving weights to: {0} \\n\".format(weights_path_2))\n",
    "#             model_hiragana.save_weights(weights_path_2)\n",
    "#             best=val_acc   \n",
    "    \n",
    "#         print(\"iteration {}, training loss: {:.2f},\".format(i,loss))\n",
    "#         print('---------------------------------------------------------------------------------')"
   ]
  },
  {
   "cell_type": "code",
   "execution_count": 21,
   "metadata": {
    "ExecuteTime": {
     "end_time": "2019-10-29T14:52:12.772538Z",
     "start_time": "2019-10-29T14:52:12.768539Z"
    }
   },
   "outputs": [],
   "source": [
    "# tr_x, tr_y, _ = omni_loader.get_batch(batch_multiplier=10)\n",
    "# model_hiragana.fit([ tr_x[0], tr_x[1] ], tr_y,\n",
    "#                    batch_size=32,\n",
    "#                    epochs=20)\n",
    "# model_hiragana.save_weights(weights_path_2)"
   ]
  },
  {
   "cell_type": "markdown",
   "metadata": {},
   "source": [
    "### Testing stuff"
   ]
  },
  {
   "cell_type": "code",
   "execution_count": 22,
   "metadata": {
    "ExecuteTime": {
     "end_time": "2019-10-29T14:52:16.047374Z",
     "start_time": "2019-10-29T14:52:15.406742Z"
    }
   },
   "outputs": [],
   "source": [
    "inputs, targets, categs_list = omni_loader.get_batch(batch_multiplier, disable_progress_bar=True)\n",
    "# inputs, targets = loader.get_batch(batch_multiplier, disable_progress_bar=True)"
   ]
  },
  {
   "cell_type": "code",
   "execution_count": 23,
   "metadata": {
    "ExecuteTime": {
     "end_time": "2019-10-29T14:52:16.065364Z",
     "start_time": "2019-10-29T14:52:16.055370Z"
    }
   },
   "outputs": [
    {
     "data": {
      "text/plain": [
       "1040"
      ]
     },
     "execution_count": 23,
     "metadata": {},
     "output_type": "execute_result"
    }
   ],
   "source": [
    "len(inputs[0])"
   ]
  },
  {
   "cell_type": "code",
   "execution_count": 24,
   "metadata": {
    "ExecuteTime": {
     "end_time": "2019-10-29T14:52:17.337929Z",
     "start_time": "2019-10-29T14:52:17.003104Z"
    }
   },
   "outputs": [
    {
     "data": {
      "image/png": "[encoded data removed]",
      "text/plain": [
       "<Figure size 432x288 with 1 Axes>"
      ]
     },
     "metadata": {
      "needs_background": "light"
     },
     "output_type": "display_data"
    }
   ],
   "source": [
    "plt.imshow(inputs[0][2].reshape((105,105)), cmap='gray')\n",
    "\n",
    "plt.show()"
   ]
  },
  {
   "cell_type": "code",
   "execution_count": 25,
   "metadata": {
    "ExecuteTime": {
     "end_time": "2019-10-29T14:52:19.818380Z",
     "start_time": "2019-10-29T14:52:19.502543Z"
    }
   },
   "outputs": [
    {
     "data": {
      "image/png": "[encoded data removed]",
      "text/plain": [
       "<Figure size 432x288 with 1 Axes>"
      ]
     },
     "metadata": {
      "needs_background": "light"
     },
     "output_type": "display_data"
    }
   ],
   "source": [
    "plt.imshow(inputs[1][2].reshape((105,105)), cmap='gray')\n",
    "\n",
    "plt.show()"
   ]
  },
  {
   "cell_type": "code",
   "execution_count": 26,
   "metadata": {
    "ExecuteTime": {
     "end_time": "2019-10-29T14:52:23.787382Z",
     "start_time": "2019-10-29T14:52:23.777391Z"
    }
   },
   "outputs": [
    {
     "name": "stdout",
     "output_type": "stream",
     "text": [
      "[1, 1, 1, 1, 1, 1, 1, 1, 1, 1, 1, 1, 1, 1, 1, 1, 1, 1, 1, 1, 1, 1, 1, 1, 1, 1, 1, 1, 1, 1, 1, 1, 1, 1, 1, 1, 1, 1, 1, 1, 1, 1, 1, 1, 1, 1, 1, 1, 1, 1, 1, 1, 0, 0, 0, 0, 0, 0, 0, 0, 0, 0, 0, 0, 0, 0, 0, 0, 0, 0, 0, 0, 0, 0, 0, 0, 0, 0, 0, 0, 0, 0, 0, 0, 0, 0, 0, 0, 0, 0, 0, 0, 0, 0, 0, 0, 0, 0, 0, 0, 0, 0, 0, 0, 1, 1, 1, 1, 1, 1, 1, 1, 1, 1, 1, 1, 1, 1, 1, 1, 1, 1, 1, 1, 1, 1, 1, 1, 1, 1, 1, 1, 1, 1, 1, 1, 1, 1, 1, 1, 1, 1, 1, 1, 1, 1, 1, 1, 1, 1, 1, 1, 1, 1, 1, 1, 0, 0, 0, 0, 0, 0, 0, 0, 0, 0, 0, 0, 0, 0, 0, 0, 0, 0, 0, 0, 0, 0, 0, 0, 0, 0, 0, 0, 0, 0, 0, 0, 0, 0, 0, 0, 0, 0, 0, 0, 0, 0, 0, 0, 0, 0, 0, 0, 0, 0, 0, 0, 1, 1, 1, 1, 1, 1, 1, 1, 1, 1, 1, 1, 1, 1, 1, 1, 1, 1, 1, 1, 1, 1, 1, 1, 1, 1, 1, 1, 1, 1, 1, 1, 1, 1, 1, 1, 1, 1, 1, 1, 1, 1, 1, 1, 1, 1, 1, 1, 1, 1, 1, 1, 0, 0, 0, 0, 0, 0, 0, 0, 0, 0, 0, 0, 0, 0, 0, 0, 0, 0, 0, 0, 0, 0, 0, 0, 0, 0, 0, 0, 0, 0, 0, 0, 0, 0, 0, 0, 0, 0, 0, 0, 0, 0, 0, 0, 0, 0, 0, 0, 0, 0, 0, 0, 1, 1, 1, 1, 1, 1, 1, 1, 1, 1, 1, 1, 1, 1, 1, 1, 1, 1, 1, 1, 1, 1, 1, 1, 1, 1, 1, 1, 1, 1, 1, 1, 1, 1, 1, 1, 1, 1, 1, 1, 1, 1, 1, 1, 1, 1, 1, 1, 1, 1, 1, 1, 0, 0, 0, 0, 0, 0, 0, 0, 0, 0, 0, 0, 0, 0, 0, 0, 0, 0, 0, 0, 0, 0, 0, 0, 0, 0, 0, 0, 0, 0, 0, 0, 0, 0, 0, 0, 0, 0, 0, 0, 0, 0, 0, 0, 0, 0, 0, 0, 0, 0, 0, 0, 1, 1, 1, 1, 1, 1, 1, 1, 1, 1, 1, 1, 1, 1, 1, 1, 1, 1, 1, 1, 1, 1, 1, 1, 1, 1, 1, 1, 1, 1, 1, 1, 1, 1, 1, 1, 1, 1, 1, 1, 1, 1, 1, 1, 1, 1, 1, 1, 1, 1, 1, 1, 0, 0, 0, 0, 0, 0, 0, 0, 0, 0, 0, 0, 0, 0, 0, 0, 0, 0, 0, 0, 0, 0, 0, 0, 0, 0, 0, 0, 0, 0, 0, 0, 0, 0, 0, 0, 0, 0, 0, 0, 0, 0, 0, 0, 0, 0, 0, 0, 0, 0, 0, 0, 1, 1, 1, 1, 1, 1, 1, 1, 1, 1, 1, 1, 1, 1, 1, 1, 1, 1, 1, 1, 1, 1, 1, 1, 1, 1, 1, 1, 1, 1, 1, 1, 1, 1, 1, 1, 1, 1, 1, 1, 1, 1, 1, 1, 1, 1, 1, 1, 1, 1, 1, 1, 0, 0, 0, 0, 0, 0, 0, 0, 0, 0, 0, 0, 0, 0, 0, 0, 0, 0, 0, 0, 0, 0, 0, 0, 0, 0, 0, 0, 0, 0, 0, 0, 0, 0, 0, 0, 0, 0, 0, 0, 0, 0, 0, 0, 0, 0, 0, 0, 0, 0, 0, 0, 1, 1, 1, 1, 1, 1, 1, 1, 1, 1, 1, 1, 1, 1, 1, 1, 1, 1, 1, 1, 1, 1, 1, 1, 1, 1, 1, 1, 1, 1, 1, 1, 1, 1, 1, 1, 1, 1, 1, 1, 1, 1, 1, 1, 1, 1, 1, 1, 1, 1, 1, 1, 0, 0, 0, 0, 0, 0, 0, 0, 0, 0, 0, 0, 0, 0, 0, 0, 0, 0, 0, 0, 0, 0, 0, 0, 0, 0, 0, 0, 0, 0, 0, 0, 0, 0, 0, 0, 0, 0, 0, 0, 0, 0, 0, 0, 0, 0, 0, 0, 0, 0, 0, 0, 1, 1, 1, 1, 1, 1, 1, 1, 1, 1, 1, 1, 1, 1, 1, 1, 1, 1, 1, 1, 1, 1, 1, 1, 1, 1, 1, 1, 1, 1, 1, 1, 1, 1, 1, 1, 1, 1, 1, 1, 1, 1, 1, 1, 1, 1, 1, 1, 1, 1, 1, 1, 0, 0, 0, 0, 0, 0, 0, 0, 0, 0, 0, 0, 0, 0, 0, 0, 0, 0, 0, 0, 0, 0, 0, 0, 0, 0, 0, 0, 0, 0, 0, 0, 0, 0, 0, 0, 0, 0, 0, 0, 0, 0, 0, 0, 0, 0, 0, 0, 0, 0, 0, 0, 1, 1, 1, 1, 1, 1, 1, 1, 1, 1, 1, 1, 1, 1, 1, 1, 1, 1, 1, 1, 1, 1, 1, 1, 1, 1, 1, 1, 1, 1, 1, 1, 1, 1, 1, 1, 1, 1, 1, 1, 1, 1, 1, 1, 1, 1, 1, 1, 1, 1, 1, 1, 0, 0, 0, 0, 0, 0, 0, 0, 0, 0, 0, 0, 0, 0, 0, 0, 0, 0, 0, 0, 0, 0, 0, 0, 0, 0, 0, 0, 0, 0, 0, 0, 0, 0, 0, 0, 0, 0, 0, 0, 0, 0, 0, 0, 0, 0, 0, 0, 0, 0, 0, 0, 1, 1, 1, 1, 1, 1, 1, 1, 1, 1, 1, 1, 1, 1, 1, 1, 1, 1, 1, 1, 1, 1, 1, 1, 1, 1, 1, 1, 1, 1, 1, 1, 1, 1, 1, 1, 1, 1, 1, 1, 1, 1, 1, 1, 1, 1, 1, 1, 1, 1, 1, 1, 0, 0, 0, 0, 0, 0, 0, 0, 0, 0, 0, 0, 0, 0, 0, 0, 0, 0, 0, 0, 0, 0, 0, 0, 0, 0, 0, 0, 0, 0, 0, 0, 0, 0, 0, 0, 0, 0, 0, 0, 0, 0, 0, 0, 0, 0, 0, 0, 0, 0, 0, 0]\n"
     ]
    }
   ],
   "source": [
    "print(targets)"
   ]
  },
  {
   "cell_type": "markdown",
   "metadata": {},
   "source": [
    "#### One shot task"
   ]
  },
  {
   "cell_type": "code",
   "execution_count": 74,
   "metadata": {
    "ExecuteTime": {
     "end_time": "2019-11-01T13:45:46.182531Z",
     "start_time": "2019-11-01T13:45:46.174535Z"
    }
   },
   "outputs": [],
   "source": [
    "x_t, y_t, ids_ = omni_loader.one_shot_task(N=10, tipo='test')"
   ]
  },
  {
   "cell_type": "code",
   "execution_count": 75,
   "metadata": {
    "ExecuteTime": {
     "end_time": "2019-11-01T13:45:46.507429Z",
     "start_time": "2019-11-01T13:45:46.503430Z"
    }
   },
   "outputs": [
    {
     "name": "stdout",
     "output_type": "stream",
     "text": [
      "[1, 0, 0, 0, 0, 0, 0, 0, 0, 0]\n"
     ]
    }
   ],
   "source": [
    "print(y_t)"
   ]
  },
  {
   "cell_type": "code",
   "execution_count": 76,
   "metadata": {
    "ExecuteTime": {
     "end_time": "2019-11-01T13:45:46.986122Z",
     "start_time": "2019-11-01T13:45:46.816219Z"
    },
    "scrolled": true
   },
   "outputs": [
    {
     "data": {
      "image/png": "[encoded data removed]",
      "text/plain": [
       "<Figure size 432x288 with 2 Axes>"
      ]
     },
     "metadata": {
      "needs_background": "light"
     },
     "output_type": "display_data"
    }
   ],
   "source": [
    "plot_oneshot_task(x_t[0][0], x_t[1], x_s=105, y_s=105)"
   ]
  },
  {
   "cell_type": "code",
   "execution_count": 52,
   "metadata": {
    "ExecuteTime": {
     "end_time": "2019-11-01T13:38:43.851864Z",
     "start_time": "2019-11-01T13:38:40.191686Z"
    },
    "scrolled": true
   },
   "outputs": [],
   "source": [
    "model_hiragana.load_weights('kmodel_weights/gc/1000iter_inv_omni_model_hiragana_weights.h5')"
   ]
  },
  {
   "cell_type": "code",
   "execution_count": 53,
   "metadata": {
    "ExecuteTime": {
     "end_time": "2019-11-01T13:39:30.469682Z",
     "start_time": "2019-11-01T13:38:58.020656Z"
    }
   },
   "outputs": [
    {
     "data": {
      "application/vnd.jupyter.widget-view+json": {
       "model_id": "d0a81ff806cc48bd8651a89c0f93c66d",
       "version_major": 2,
       "version_minor": 0
      },
      "text/plain": [
       "HBox(children=(IntProgress(value=0, max=10), HTML(value='')))"
      ]
     },
     "metadata": {},
     "output_type": "display_data"
    },
    {
     "name": "stdout",
     "output_type": "stream",
     "text": [
      "Precisao: 0.0%\n",
      "Precisao: 0.0%\n",
      "Precisao: 33.33333333333333%\n",
      "Precisao: 50.0%\n",
      "Precisao: 60.0%\n",
      "Precisao: 50.0%\n",
      "Precisao: 42.857142857142854%\n",
      "Precisao: 50.0%\n",
      "Precisao: 55.55555555555556%\n",
      "Precisao: 50.0%\n",
      "\n"
     ]
    }
   ],
   "source": [
    "correct = 0\n",
    "n = 10\n",
    "retrieval = []\n",
    "retrieval_probs = []\n",
    "for i in tqdm_notebook(range(1, n+1)):\n",
    "    x_t, y_t, indices = omni_loader.one_shot_task(N=50, tipo='test')\n",
    "    predict = model_hiragana.predict([ x_t[0], x_t[1] ])\n",
    "    if np.argmin(predict) == 0:\n",
    "        correct += 1\n",
    "        retrieval.append(indices[0])\n",
    "        retrieval_probs.append(predict[0])\n",
    "    print('Precisao: {}%'.format((correct/i)*100))  "
   ]
  },
  {
   "cell_type": "code",
   "execution_count": 79,
   "metadata": {
    "ExecuteTime": {
     "end_time": "2019-11-01T13:54:25.293014Z",
     "start_time": "2019-11-01T13:49:34.812563Z"
    }
   },
   "outputs": [
    {
     "data": {
      "application/vnd.jupyter.widget-view+json": {
       "model_id": "61a88d0cd54a46febc8d86088a083cce",
       "version_major": 2,
       "version_minor": 0
      },
      "text/plain": [
       "HBox(children=(IntProgress(value=0), HTML(value='')))"
      ]
     },
     "metadata": {},
     "output_type": "display_data"
    },
    {
     "data": {
      "image/png": "[encoded data removed]",
      "text/plain": [
       "<Figure size 432x288 with 10 Axes>"
      ]
     },
     "metadata": {
      "needs_background": "light"
     },
     "output_type": "display_data"
    }
   ],
   "source": [
    "n = 100\n",
    "query_img = x_t[0][0] \n",
    "retrieval = []\n",
    "retrieval_probs = []\n",
    "for i in tqdm_notebook(range(1, n+1)):\n",
    "    x_t, indices = omni_loader.one_shot_retrieval(query_img)\n",
    "    predict = model_hiragana.predict([ x_t[0], x_t[1] ])\n",
    "    \n",
    "    retrieval.append(indices[np.argmin(predict)])\n",
    "    retrieval_probs.append(predict[np.argmin(predict)])\n",
    "\n",
    "\n",
    "df = pd.DataFrame(data={'indice':retrieval, 'predict':retrieval_probs})\n",
    "df_N = df.sort_values(by=['predict'])\n",
    "ranking_list = df_N['indice'].tolist()\n",
    "    \n",
    "    \n",
    "omni_loader.plot_rank(np.asarray(ranking_list[0:10]))"
   ]
  },
  {
   "cell_type": "code",
   "execution_count": 51,
   "metadata": {
    "ExecuteTime": {
     "end_time": "2019-10-31T13:56:03.060114Z",
     "start_time": "2019-10-31T13:55:59.136375Z"
    }
   },
   "outputs": [
    {
     "data": {
      "text/plain": [
       "11"
      ]
     },
     "execution_count": 51,
     "metadata": {},
     "output_type": "execute_result"
    }
   ],
   "source": [
    "np.argmin(model_hiragana.predict([ x_t[0], x_t[1] ]))"
   ]
  },
  {
   "cell_type": "code",
   "execution_count": 49,
   "metadata": {
    "ExecuteTime": {
     "end_time": "2019-10-31T01:41:07.906917Z",
     "start_time": "2019-10-31T01:41:07.894917Z"
    }
   },
   "outputs": [
    {
     "data": {
      "text/plain": [
       "58"
      ]
     },
     "execution_count": 49,
     "metadata": {},
     "output_type": "execute_result"
    }
   ],
   "source": [
    "indices[11]"
   ]
  },
  {
   "cell_type": "code",
   "execution_count": 50,
   "metadata": {
    "ExecuteTime": {
     "end_time": "2019-10-31T01:41:16.501002Z",
     "start_time": "2019-10-31T01:41:16.489003Z"
    }
   },
   "outputs": [
    {
     "data": {
      "text/plain": [
       "[38, 36, 39, 37, 88, 38, 39, 38, 38, 58]"
      ]
     },
     "execution_count": 50,
     "metadata": {},
     "output_type": "execute_result"
    }
   ],
   "source": [
    "retrieval"
   ]
  },
  {
   "cell_type": "code",
   "execution_count": 46,
   "metadata": {
    "ExecuteTime": {
     "end_time": "2019-10-31T01:39:56.402096Z",
     "start_time": "2019-10-31T01:39:56.078182Z"
    }
   },
   "outputs": [
    {
     "data": {
      "image/png": "[encoded data removed]",
      "text/plain": [
       "<Figure size 432x288 with 1 Axes>"
      ]
     },
     "metadata": {
      "needs_background": "light"
     },
     "output_type": "display_data"
    }
   ],
   "source": [
    "omni_loader.plot_rank(np.asarray(indices[10:11]))"
   ]
  },
  {
   "cell_type": "code",
   "execution_count": 77,
   "metadata": {
    "ExecuteTime": {
     "end_time": "2019-11-01T13:45:54.279797Z",
     "start_time": "2019-11-01T13:45:54.021946Z"
    }
   },
   "outputs": [
    {
     "data": {
      "image/png": "[encoded data removed]",
      "text/plain": [
       "<Figure size 432x288 with 1 Axes>"
      ]
     },
     "metadata": {
      "needs_background": "light"
     },
     "output_type": "display_data"
    }
   ],
   "source": [
    "show_image(x_t[0][0].reshape((105,105)))"
   ]
  },
  {
   "cell_type": "markdown",
   "metadata": {},
   "source": [
    "# Brainstorm"
   ]
  },
  {
   "cell_type": "markdown",
   "metadata": {},
   "source": [
    "### hide"
   ]
  },
  {
   "cell_type": "code",
   "execution_count": 36,
   "metadata": {
    "ExecuteTime": {
     "end_time": "2019-10-25T18:54:55.443407Z",
     "start_time": "2019-10-25T18:54:55.438409Z"
    },
    "hide_input": false
   },
   "outputs": [],
   "source": [
    "#predict = model_hiragana.predict(x_t)\n",
    "#np.argmin(predict)\n",
    "\n",
    "# print(predict)\n",
    "\n",
    "# df = pd.DataFrame(data={'indice':ids_, \n",
    "#                         'predict':predict.reshape((len(predict)))})\n",
    "\n",
    "# df.sort_values(by=['predict'])[0:5]\n",
    "\n",
    "# b = df.sort_values(by=['predict'])[0:5]\n",
    "\n",
    "# omni_loader.plot_rank(np.array(b['indice'].tolist()))"
   ]
  },
  {
   "cell_type": "code",
   "execution_count": 35,
   "metadata": {
    "ExecuteTime": {
     "end_time": "2019-10-29T17:49:44.154762Z",
     "start_time": "2019-10-29T17:49:42.822605Z"
    }
   },
   "outputs": [
    {
     "data": {
      "image/png": "[encoded data removed]",
      "text/plain": [
       "<Figure size 432x288 with 1 Axes>"
      ]
     },
     "metadata": {
      "needs_background": "light"
     },
     "output_type": "display_data"
    }
   ],
   "source": [
    "show_image(x_t[0][0].reshape((105,105)))"
   ]
  },
  {
   "cell_type": "code",
   "execution_count": 78,
   "metadata": {
    "ExecuteTime": {
     "end_time": "2019-10-25T19:48:56.932636Z",
     "start_time": "2019-10-25T19:48:45.670074Z"
    },
    "scrolled": true
   },
   "outputs": [
    {
     "data": {
      "image/png": "[encoded data removed]",
      "text/plain": [
       "<Figure size 432x288 with 20 Axes>"
      ]
     },
     "metadata": {
      "needs_background": "light"
     },
     "output_type": "display_data"
    }
   ],
   "source": [
    "rank, p = omni_loader.image_retrieval(model=model_hiragana, img_search=x_t[1][10], top_n=20)"
   ]
  },
  {
   "cell_type": "code",
   "execution_count": 77,
   "metadata": {
    "ExecuteTime": {
     "end_time": "2019-10-25T19:48:28.000728Z",
     "start_time": "2019-10-25T19:48:27.990734Z"
    }
   },
   "outputs": [
    {
     "data": {
      "text/html": [
       "<div>\n",
       "<style scoped>\n",
       "    .dataframe tbody tr th:only-of-type {\n",
       "        vertical-align: middle;\n",
       "    }\n",
       "\n",
       "    .dataframe tbody tr th {\n",
       "        vertical-align: top;\n",
       "    }\n",
       "\n",
       "    .dataframe thead th {\n",
       "        text-align: right;\n",
       "    }\n",
       "</style>\n",
       "<table border=\"1\" class=\"dataframe\">\n",
       "  <thead>\n",
       "    <tr style=\"text-align: right;\">\n",
       "      <th></th>\n",
       "      <th>indice</th>\n",
       "      <th>predict</th>\n",
       "    </tr>\n",
       "  </thead>\n",
       "  <tbody>\n",
       "    <tr>\n",
       "      <th>0</th>\n",
       "      <td>0</td>\n",
       "      <td>1.000000</td>\n",
       "    </tr>\n",
       "    <tr>\n",
       "      <th>1</th>\n",
       "      <td>1</td>\n",
       "      <td>1.000000</td>\n",
       "    </tr>\n",
       "    <tr>\n",
       "      <th>2</th>\n",
       "      <td>2</td>\n",
       "      <td>1.000000</td>\n",
       "    </tr>\n",
       "    <tr>\n",
       "      <th>3</th>\n",
       "      <td>3</td>\n",
       "      <td>1.000000</td>\n",
       "    </tr>\n",
       "    <tr>\n",
       "      <th>4</th>\n",
       "      <td>4</td>\n",
       "      <td>1.000000</td>\n",
       "    </tr>\n",
       "    <tr>\n",
       "      <th>5</th>\n",
       "      <td>5</td>\n",
       "      <td>0.789935</td>\n",
       "    </tr>\n",
       "    <tr>\n",
       "      <th>6</th>\n",
       "      <td>6</td>\n",
       "      <td>0.868528</td>\n",
       "    </tr>\n",
       "    <tr>\n",
       "      <th>7</th>\n",
       "      <td>7</td>\n",
       "      <td>0.914170</td>\n",
       "    </tr>\n",
       "    <tr>\n",
       "      <th>8</th>\n",
       "      <td>8</td>\n",
       "      <td>0.591997</td>\n",
       "    </tr>\n",
       "    <tr>\n",
       "      <th>9</th>\n",
       "      <td>9</td>\n",
       "      <td>0.984838</td>\n",
       "    </tr>\n",
       "  </tbody>\n",
       "</table>\n",
       "</div>"
      ],
      "text/plain": [
       "   indice   predict\n",
       "0       0  1.000000\n",
       "1       1  1.000000\n",
       "2       2  1.000000\n",
       "3       3  1.000000\n",
       "4       4  1.000000\n",
       "5       5  0.789935\n",
       "6       6  0.868528\n",
       "7       7  0.914170\n",
       "8       8  0.591997\n",
       "9       9  0.984838"
      ]
     },
     "execution_count": 77,
     "metadata": {},
     "output_type": "execute_result"
    }
   ],
   "source": [
    "p.head(n=10)"
   ]
  },
  {
   "cell_type": "code",
   "execution_count": 39,
   "metadata": {
    "ExecuteTime": {
     "end_time": "2019-10-23T18:02:16.865694Z",
     "start_time": "2019-10-23T18:02:16.656818Z"
    }
   },
   "outputs": [
    {
     "data": {
      "image/png": "[encoded data removed]",
      "text/plain": [
       "<Figure size 432x288 with 1 Axes>"
      ]
     },
     "metadata": {
      "needs_background": "light"
     },
     "output_type": "display_data"
    }
   ],
   "source": [
    "show_image(omni_loader.test_images[226].reshape((105,105)))"
   ]
  },
  {
   "cell_type": "code",
   "execution_count": 69,
   "metadata": {
    "ExecuteTime": {
     "end_time": "2019-10-29T18:04:39.249629Z",
     "start_time": "2019-10-29T18:04:39.242618Z"
    }
   },
   "outputs": [
    {
     "data": {
      "text/plain": [
       "array([2, 0, 1])"
      ]
     },
     "execution_count": 69,
     "metadata": {},
     "output_type": "execute_result"
    }
   ],
   "source": [
    "np.random.choice(range(3), size=3,replace=False)"
   ]
  },
  {
   "cell_type": "code",
   "execution_count": 72,
   "metadata": {
    "ExecuteTime": {
     "end_time": "2019-10-29T18:07:54.134176Z",
     "start_time": "2019-10-29T18:07:54.128166Z"
    }
   },
   "outputs": [
    {
     "name": "stdout",
     "output_type": "stream",
     "text": [
      "True\n"
     ]
    }
   ],
   "source": [
    "a = [None]\n",
    "print(1 not in a)"
   ]
  },
  {
   "cell_type": "code",
   "execution_count": 128,
   "metadata": {
    "ExecuteTime": {
     "end_time": "2019-10-29T20:30:17.501754Z",
     "start_time": "2019-10-29T20:29:56.009706Z"
    }
   },
   "outputs": [
    {
     "data": {
      "application/vnd.jupyter.widget-view+json": {
       "model_id": "9ed307365a0242c2978302d8afc3867f",
       "version_major": 2,
       "version_minor": 0
      },
      "text/plain": [
       "HBox(children=(IntProgress(value=0, max=200), HTML(value='')))"
      ]
     },
     "metadata": {},
     "output_type": "display_data"
    },
    {
     "name": "stdout",
     "output_type": "stream",
     "text": [
      "\n"
     ]
    }
   ],
   "source": [
    "teste, t, _ = omni_loader.get_batch(200)"
   ]
  },
  {
   "cell_type": "code",
   "execution_count": 129,
   "metadata": {
    "ExecuteTime": {
     "end_time": "2019-10-29T20:30:17.584707Z",
     "start_time": "2019-10-29T20:30:17.528737Z"
    }
   },
   "outputs": [
    {
     "data": {
      "text/plain": [
       "20800"
      ]
     },
     "execution_count": 129,
     "metadata": {},
     "output_type": "execute_result"
    }
   ],
   "source": [
    "len(t)"
   ]
  },
  {
   "cell_type": "code",
   "execution_count": 9,
   "metadata": {
    "ExecuteTime": {
     "end_time": "2019-10-30T19:04:24.328325Z",
     "start_time": "2019-10-30T18:56:43.033937Z"
    }
   },
   "outputs": [
    {
     "name": "stdout",
     "output_type": "stream",
     "text": [
      "(?, 23, 23, 2875)\n",
      "__________________________________________________________________________________________________\n",
      "Layer (type)                    Output Shape         Param #     Connected to                     \n",
      "==================================================================================================\n",
      "input_4 (InputLayer)            (None, 105, 105, 1)  0                                            \n",
      "__________________________________________________________________________________________________\n",
      "input_3 (InputLayer)            (None, 105, 105, 1)  0                                            \n",
      "__________________________________________________________________________________________________\n",
      "sequential_2 (Sequential)       (None, 23, 23, 25)   13045       input_4[0][0]                    \n",
      "                                                                 input_3[0][0]                    \n",
      "__________________________________________________________________________________________________\n",
      "normalized__correlation__layer_ (None, 23, 23, 2875) 0           sequential_2[1][0]               \n",
      "                                                                 sequential_2[2][0]               \n",
      "__________________________________________________________________________________________________\n",
      "conv2d_5 (Conv2D)               (None, 23, 23, 25)   71900       normalized__correlation__layer_1[\n",
      "__________________________________________________________________________________________________\n",
      "conv2d_6 (Conv2D)               (None, 21, 21, 25)   5650        conv2d_5[0][0]                   \n",
      "__________________________________________________________________________________________________\n",
      "max_pooling2d_5 (MaxPooling2D)  (None, 10, 10, 25)   0           conv2d_6[0][0]                   \n",
      "__________________________________________________________________________________________________\n",
      "dense_1 (Dense)                 (None, 10, 10, 500)  13000       max_pooling2d_5[0][0]            \n",
      "__________________________________________________________________________________________________\n",
      "dense_2 (Dense)                 (None, 10, 10, 1)    501         dense_1[0][0]                    \n",
      "==================================================================================================\n",
      "Total params: 104,096\n",
      "Trainable params: 104,096\n",
      "Non-trainable params: 0\n",
      "__________________________________________________________________________________________________\n",
      "(None, 10, 10, 1)\n"
     ]
    }
   ],
   "source": [
    "xcor_model = get_normalized_X_corr_model((105,105,1))"
   ]
  },
  {
   "cell_type": "code",
   "execution_count": 49,
   "metadata": {
    "ExecuteTime": {
     "end_time": "2019-10-30T21:06:36.870976Z",
     "start_time": "2019-10-30T21:06:30.242441Z"
    }
   },
   "outputs": [
    {
     "data": {
      "application/vnd.jupyter.widget-view+json": {
       "model_id": "97e5122285794631812d98c573c5cbb5",
       "version_major": 2,
       "version_minor": 0
      },
      "text/plain": [
       "HBox(children=(IntProgress(value=0, max=52), HTML(value='')))"
      ]
     },
     "metadata": {},
     "output_type": "display_data"
    },
    {
     "name": "stdout",
     "output_type": "stream",
     "text": [
      "\n"
     ]
    },
    {
     "data": {
      "application/vnd.jupyter.widget-view+json": {
       "model_id": "f34e771d62b0437a80c6bd40faef39a3",
       "version_major": 2,
       "version_minor": 0
      },
      "text/plain": [
       "HBox(children=(IntProgress(value=0, max=192), HTML(value='')))"
      ]
     },
     "metadata": {},
     "output_type": "display_data"
    },
    {
     "name": "stdout",
     "output_type": "stream",
     "text": [
      "\n",
      "10000\n",
      "10000\n"
     ]
    },
    {
     "ename": "TypeError",
     "evalue": "cannot unpack non-iterable NoneType object",
     "output_type": "error",
     "traceback": [
      "\u001b[1;31m---------------------------------------------------------------------------\u001b[0m",
      "\u001b[1;31mTypeError\u001b[0m                                 Traceback (most recent call last)",
      "\u001b[1;32m<ipython-input-49-0107dba9bdc2>\u001b[0m in \u001b[0;36m<module>\u001b[1;34m\u001b[0m\n\u001b[1;32m----> 1\u001b[1;33m \u001b[0mx\u001b[0m\u001b[1;33m,\u001b[0m \u001b[0my\u001b[0m \u001b[1;33m=\u001b[0m \u001b[0momni_loader\u001b[0m\u001b[1;33m.\u001b[0m\u001b[0mget_data\u001b[0m\u001b[1;33m(\u001b[0m\u001b[1;33m)\u001b[0m\u001b[1;33m\u001b[0m\u001b[1;33m\u001b[0m\u001b[0m\n\u001b[0m",
      "\u001b[1;31mTypeError\u001b[0m: cannot unpack non-iterable NoneType object"
     ]
    }
   ],
   "source": [
    "x, y = omni_loader.get_data()"
   ]
  },
  {
   "cell_type": "code",
   "execution_count": null,
   "metadata": {},
   "outputs": [],
   "source": []
  }
 ],
 "metadata": {
  "kernelspec": {
   "display_name": "Python 3",
   "language": "python",
   "name": "python3"
  },
  "language_info": {
   "codemirror_mode": {
    "name": "ipython",
    "version": 3
   },
   "file_extension": ".py",
   "mimetype": "text/x-python",
   "name": "python",
   "nbconvert_exporter": "python",
   "pygments_lexer": "ipython3",
   "version": "3.7.3"
  },
  "latex_envs": {
   "LaTeX_envs_menu_present": true,
   "autoclose": false,
   "autocomplete": true,
   "bibliofile": "biblio.bib",
   "cite_by": "apalike",
   "current_citInitial": 1,
   "eqLabelWithNumbers": true,
   "eqNumInitial": 1,
   "hotkeys": {
    "equation": "Ctrl-E",
    "itemize": "Ctrl-I"
   },
   "labels_anchors": false,
   "latex_user_defs": false,
   "report_style_numbering": false,
   "user_envs_cfg": false
  }
 },
 "nbformat": 4,
 "nbformat_minor": 2
}
